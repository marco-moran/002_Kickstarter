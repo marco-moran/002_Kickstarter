{
 "cells": [
  {
   "cell_type": "code",
   "execution_count": 1,
   "metadata": {},
   "outputs": [],
   "source": [
    "# Data management\n",
    "import pandas as pd\n",
    "import json\n",
    "from pandas.io.json import json_normalize\n",
    "from pandas.plotting import scatter_matrix\n",
    "from datetime import datetime\n",
    "\n",
    "# Math and Stat modules\n",
    "import numpy as np\n",
    "from scipy.stats import sem\n",
    "from random import choice\n",
    "\n",
    "# Data preprocessing and trasformation (ETL)\n",
    "from sklearn.preprocessing import OneHotEncoder\n",
    "from sklearn.preprocessing import StandardScaler, MinMaxScaler, RobustScaler, MaxAbsScaler, FunctionTransformer, Binarizer, OneHotEncoder, OrdinalEncoder\n",
    "from sklearn.pipeline import Pipeline\n",
    "from sklearn.compose import ColumnTransformer\n",
    "from sklearn.datasets import fetch_openml, load_iris, make_moons, make_classification\n",
    "\n",
    "# Supervised Learning\n",
    "from sklearn.model_selection import train_test_split,cross_validate, cross_val_score, cross_val_predict, KFold, StratifiedKFold, RepeatedKFold, ShuffleSplit, StratifiedShuffleSplit, learning_curve, validation_curve\n",
    "from sklearn.linear_model import Perceptron, LogisticRegression\n",
    "from sklearn.base import BaseEstimator\n",
    "from sklearn.metrics import confusion_matrix, accuracy_score, precision_score, recall_score, f1_score, precision_recall_curve, roc_curve\n",
    "from sklearn.dummy import DummyClassifier\n",
    "from sklearn.multiclass import OneVsOneClassifier, OneVsRestClassifier\n",
    "from sklearn.svm import SVC, LinearSVC\n",
    "from sklearn.tree import DecisionTreeClassifier, DecisionTreeRegressor\n",
    "from sklearn.ensemble import VotingClassifier, BaggingClassifier, RandomForestClassifier, AdaBoostClassifier, GradientBoostingClassifier, ExtraTreesClassifier\n",
    "from sklearn.utils import class_weight\n",
    "from tensorflow import keras\n",
    "import tensorflow as tf\n",
    "import tensorflow_hub as hub\n",
    "\n",
    "# Hyperparameter Optimization\n",
    "from sklearn.model_selection import GridSearchCV, RandomizedSearchCV\n",
    "\n",
    "\n",
    "# Visualization\n",
    "import matplotlib.pyplot as plt\n",
    "import matplotlib as mpl\n",
    "from matplotlib.colors import ListedColormap\n",
    "import seaborn as sns\n",
    "from sklearn.tree import export_graphviz\n",
    "%matplotlib inline"
   ]
  },
  {
   "cell_type": "code",
   "execution_count": 2,
   "metadata": {},
   "outputs": [],
   "source": [
    "# date unix conversion\n",
    "def date_f(unix_d):\n",
    "    d = datetime.utcfromtimestamp(unix_d).strftime('%Y-%m-%d %H:%M:%S')\n",
    "    d1 = datetime.strptime(d, '%Y-%m-%d %H:%M:%S')\n",
    "    return d1\n",
    "\n",
    "# cross-validation model\n",
    "def valuta_modello(X, y, model, n_splits=5, shuffle=True):\n",
    "    # non avendo comunque un grande sbilanciamento procedo solo con la StratifiedKfold\n",
    "    skf = StratifiedKFold(n_splits=n_splits, shuffle=shuffle)\n",
    "    s = ['accuracy', 'precision', 'recall', 'f1']\n",
    "    print('\\n {}'.format(skf))\n",
    "    scores = cross_validate(model, X, y, scoring=s, cv=skf, n_jobs=-1)\n",
    "    y_train_predicted = cross_val_predict(model, X, y, cv=skf)\n",
    "    for j in s:\n",
    "        print('>scoring={} mean={:.4f} se={:.3f}'.format(j, np.mean(scores[('test_'+ j)]), sem(scores[('test_'+ j)])))\n",
    "    print('\\n confusion matrix \\n {}'.format(confusion_matrix(y, y_train_predicted)))\n",
    "\n",
    "# embedding sentences\n",
    "def embedding_text(t, model):\n",
    "    blurb_l = t.values.tolist()\n",
    "    sentence_embeddings = np.asmatrix(model(blurb_l).numpy())\n",
    "    return sentence_embeddings"
   ]
  },
  {
   "cell_type": "markdown",
   "metadata": {},
   "source": [
    "## Caricamento dataset e selezione features"
   ]
  },
  {
   "cell_type": "code",
   "execution_count": 3,
   "metadata": {},
   "outputs": [],
   "source": [
    "data = [json.loads(line) for line in open('data3/Kickstarter_2021-01-14T03_20_05_328Z.json', 'r', encoding=\"utf8\")]\n",
    "data = pd.json_normalize(data)"
   ]
  },
  {
   "cell_type": "code",
   "execution_count": 4,
   "metadata": {},
   "outputs": [],
   "source": [
    "# keep only the useful columns\n",
    "ks = data.iloc[: , [3, 13, 14, 15, 17, 25, 28, 32, 59, 64, 68]]\n",
    "\n",
    "# rename columns\n",
    "ks = ks.rename(lambda x: x.replace(\".\", \"_\"), axis=1)\n",
    "ks = ks.rename(lambda x: x.replace(\"data_\", \"\"), axis=1)\n",
    "\n",
    "# remove records in the columns 'state' with value 'live' and 'canceled'\n",
    "ks = ks[ks.state != 'live']\n",
    "ks = ks[ks.state != 'canceled']\n",
    "\n",
    "# remove records in the columns 'id' with value duplicate\n",
    "ks = ks.drop_duplicates('id')\n",
    "\n",
    "# conversion of unix date\n",
    "ks['deadline'] = ks['deadline'].apply(date_f)\n",
    "ks['launched_at'] = ks['launched_at'].apply(date_f)\n",
    "\n",
    "# create a column with only the days relating to the funding period\n",
    "ks['funding_period'] = (ks['deadline']-ks['launched_at']).dt.days\n",
    "\n",
    "# create two columns with only the months related to the date of columns 'deadline' and 'launched_at'\n",
    "ks['deadline_month'] = ks['deadline'].dt.month\n",
    "ks['launched_at_month'] = ks['launched_at'].dt.month\n",
    "\n",
    "# conversion of the 'goal' currency in USD\n",
    "ks['goal'] = ks['goal']*ks['static_usd_rate']\n",
    "\n",
    "# create two columns with the length of value in the columns 'name' and 'blurb'\n",
    "ks['name_l'] = ks['name'].str.len()\n",
    "ks['blurb_l'] = ks['blurb'].str.len()\n",
    "\n",
    "# remove the null values from the column 'location_expanded_country' and reset the index\n",
    "ks.dropna(subset=['location_expanded_country'], inplace=True)\n",
    "ks.dropna(subset=['category_parent_name'], inplace=True)\n",
    "ks = ks.reset_index(drop=True)"
   ]
  },
  {
   "cell_type": "code",
   "execution_count": 5,
   "metadata": {},
   "outputs": [],
   "source": [
    "# extract the label column and remove it from the dataset along with non-useful columns\n",
    "ks_label1 = ks['state'].map(\n",
    "    {'failed':0,\n",
    "     'successful':1\n",
    "    }\n",
    ")\n",
    "ks1 = ks.drop(['id', 'name', 'blurb', 'state', 'deadline', 'launched_at', 'static_usd_rate'], axis=1)"
   ]
  },
  {
   "cell_type": "code",
   "execution_count": 6,
   "metadata": {},
   "outputs": [],
   "source": [
    "ks1.columns = ['goal', 'country', 'main_category', 'sec_category', 'funding_period', 'deadline_month', 'launched_month', 'name_l', 'descr_l']"
   ]
  },
  {
   "cell_type": "code",
   "execution_count": 7,
   "metadata": {},
   "outputs": [
    {
     "data": {
      "text/html": [
       "<div>\n",
       "<style scoped>\n",
       "    .dataframe tbody tr th:only-of-type {\n",
       "        vertical-align: middle;\n",
       "    }\n",
       "\n",
       "    .dataframe tbody tr th {\n",
       "        vertical-align: top;\n",
       "    }\n",
       "\n",
       "    .dataframe thead th {\n",
       "        text-align: right;\n",
       "    }\n",
       "</style>\n",
       "<table border=\"1\" class=\"dataframe\">\n",
       "  <thead>\n",
       "    <tr style=\"text-align: right;\">\n",
       "      <th></th>\n",
       "      <th>goal</th>\n",
       "      <th>country</th>\n",
       "      <th>main_category</th>\n",
       "      <th>sec_category</th>\n",
       "      <th>funding_period</th>\n",
       "      <th>deadline_month</th>\n",
       "      <th>launched_month</th>\n",
       "      <th>name_l</th>\n",
       "      <th>descr_l</th>\n",
       "    </tr>\n",
       "  </thead>\n",
       "  <tbody>\n",
       "    <tr>\n",
       "      <th>0</th>\n",
       "      <td>5227.00000</td>\n",
       "      <td>United States</td>\n",
       "      <td>Community Gardens</td>\n",
       "      <td>Food</td>\n",
       "      <td>29</td>\n",
       "      <td>4</td>\n",
       "      <td>3</td>\n",
       "      <td>29</td>\n",
       "      <td>123</td>\n",
       "    </tr>\n",
       "    <tr>\n",
       "      <th>1</th>\n",
       "      <td>46282.03230</td>\n",
       "      <td>United Kingdom</td>\n",
       "      <td>Drama</td>\n",
       "      <td>Film &amp; Video</td>\n",
       "      <td>30</td>\n",
       "      <td>8</td>\n",
       "      <td>7</td>\n",
       "      <td>15</td>\n",
       "      <td>119</td>\n",
       "    </tr>\n",
       "    <tr>\n",
       "      <th>2</th>\n",
       "      <td>1000.00000</td>\n",
       "      <td>United States</td>\n",
       "      <td>Playing Cards</td>\n",
       "      <td>Games</td>\n",
       "      <td>30</td>\n",
       "      <td>7</td>\n",
       "      <td>6</td>\n",
       "      <td>55</td>\n",
       "      <td>133</td>\n",
       "    </tr>\n",
       "    <tr>\n",
       "      <th>3</th>\n",
       "      <td>1019.89432</td>\n",
       "      <td>Hong Kong</td>\n",
       "      <td>Playing Cards</td>\n",
       "      <td>Games</td>\n",
       "      <td>30</td>\n",
       "      <td>10</td>\n",
       "      <td>9</td>\n",
       "      <td>31</td>\n",
       "      <td>30</td>\n",
       "    </tr>\n",
       "    <tr>\n",
       "      <th>4</th>\n",
       "      <td>550.00000</td>\n",
       "      <td>United States</td>\n",
       "      <td>Textiles</td>\n",
       "      <td>Art</td>\n",
       "      <td>30</td>\n",
       "      <td>2</td>\n",
       "      <td>1</td>\n",
       "      <td>27</td>\n",
       "      <td>124</td>\n",
       "    </tr>\n",
       "  </tbody>\n",
       "</table>\n",
       "</div>"
      ],
      "text/plain": [
       "          goal         country      main_category  sec_category  \\\n",
       "0   5227.00000   United States  Community Gardens          Food   \n",
       "1  46282.03230  United Kingdom              Drama  Film & Video   \n",
       "2   1000.00000   United States      Playing Cards         Games   \n",
       "3   1019.89432       Hong Kong      Playing Cards         Games   \n",
       "4    550.00000   United States           Textiles           Art   \n",
       "\n",
       "   funding_period  deadline_month  launched_month  name_l  descr_l  \n",
       "0              29               4               3      29      123  \n",
       "1              30               8               7      15      119  \n",
       "2              30               7               6      55      133  \n",
       "3              30              10               9      31       30  \n",
       "4              30               2               1      27      124  "
      ]
     },
     "execution_count": 7,
     "metadata": {},
     "output_type": "execute_result"
    }
   ],
   "source": [
    "ks1.head()"
   ]
  },
  {
   "cell_type": "markdown",
   "metadata": {},
   "source": [
    "## Analisi dataset"
   ]
  },
  {
   "cell_type": "code",
   "execution_count": 8,
   "metadata": {},
   "outputs": [
    {
     "name": "stdout",
     "output_type": "stream",
     "text": [
      "1    98965\n",
      "0    75032\n",
      "Name: state, dtype: int64\n",
      "1    0.568774\n",
      "0    0.431226\n",
      "Name: state, dtype: float64\n"
     ]
    }
   ],
   "source": [
    "print(ks_label1.value_counts())\n",
    "print(ks_label1.value_counts(normalize=True))"
   ]
  },
  {
   "cell_type": "code",
   "execution_count": 9,
   "metadata": {},
   "outputs": [
    {
     "name": "stdout",
     "output_type": "stream",
     "text": [
      "<class 'pandas.core.frame.DataFrame'>\n",
      "RangeIndex: 173997 entries, 0 to 173996\n",
      "Data columns (total 9 columns):\n",
      " #   Column          Non-Null Count   Dtype  \n",
      "---  ------          --------------   -----  \n",
      " 0   goal            173997 non-null  float64\n",
      " 1   country         173997 non-null  object \n",
      " 2   main_category   173997 non-null  object \n",
      " 3   sec_category    173997 non-null  object \n",
      " 4   funding_period  173997 non-null  int64  \n",
      " 5   deadline_month  173997 non-null  int64  \n",
      " 6   launched_month  173997 non-null  int64  \n",
      " 7   name_l          173997 non-null  int64  \n",
      " 8   descr_l         173997 non-null  int64  \n",
      "dtypes: float64(1), int64(5), object(3)\n",
      "memory usage: 11.9+ MB\n"
     ]
    }
   ],
   "source": [
    "ks1.info()"
   ]
  },
  {
   "cell_type": "code",
   "execution_count": 10,
   "metadata": {
    "scrolled": false
   },
   "outputs": [
    {
     "data": {
      "text/html": [
       "<div>\n",
       "<style scoped>\n",
       "    .dataframe tbody tr th:only-of-type {\n",
       "        vertical-align: middle;\n",
       "    }\n",
       "\n",
       "    .dataframe tbody tr th {\n",
       "        vertical-align: top;\n",
       "    }\n",
       "\n",
       "    .dataframe thead th {\n",
       "        text-align: right;\n",
       "    }\n",
       "</style>\n",
       "<table border=\"1\" class=\"dataframe\">\n",
       "  <thead>\n",
       "    <tr style=\"text-align: right;\">\n",
       "      <th></th>\n",
       "      <th>goal</th>\n",
       "      <th>funding_period</th>\n",
       "      <th>deadline_month</th>\n",
       "      <th>launched_month</th>\n",
       "      <th>name_l</th>\n",
       "      <th>descr_l</th>\n",
       "    </tr>\n",
       "  </thead>\n",
       "  <tbody>\n",
       "    <tr>\n",
       "      <th>count</th>\n",
       "      <td>1.739970e+05</td>\n",
       "      <td>173997.000000</td>\n",
       "      <td>173997.000000</td>\n",
       "      <td>173997.000000</td>\n",
       "      <td>173997.000000</td>\n",
       "      <td>173997.000000</td>\n",
       "    </tr>\n",
       "    <tr>\n",
       "      <th>mean</th>\n",
       "      <td>4.069380e+04</td>\n",
       "      <td>32.830445</td>\n",
       "      <td>6.807727</td>\n",
       "      <td>6.495066</td>\n",
       "      <td>34.576700</td>\n",
       "      <td>108.773105</td>\n",
       "    </tr>\n",
       "    <tr>\n",
       "      <th>std</th>\n",
       "      <td>1.126513e+06</td>\n",
       "      <td>12.123884</td>\n",
       "      <td>3.352057</td>\n",
       "      <td>3.324701</td>\n",
       "      <td>15.616727</td>\n",
       "      <td>29.417966</td>\n",
       "    </tr>\n",
       "    <tr>\n",
       "      <th>min</th>\n",
       "      <td>1.000000e-02</td>\n",
       "      <td>1.000000</td>\n",
       "      <td>1.000000</td>\n",
       "      <td>1.000000</td>\n",
       "      <td>1.000000</td>\n",
       "      <td>1.000000</td>\n",
       "    </tr>\n",
       "    <tr>\n",
       "      <th>25%</th>\n",
       "      <td>1.500000e+03</td>\n",
       "      <td>29.000000</td>\n",
       "      <td>4.000000</td>\n",
       "      <td>4.000000</td>\n",
       "      <td>21.000000</td>\n",
       "      <td>94.000000</td>\n",
       "    </tr>\n",
       "    <tr>\n",
       "      <th>50%</th>\n",
       "      <td>5.000000e+03</td>\n",
       "      <td>30.000000</td>\n",
       "      <td>7.000000</td>\n",
       "      <td>7.000000</td>\n",
       "      <td>34.000000</td>\n",
       "      <td>121.000000</td>\n",
       "    </tr>\n",
       "    <tr>\n",
       "      <th>75%</th>\n",
       "      <td>1.280000e+04</td>\n",
       "      <td>35.000000</td>\n",
       "      <td>10.000000</td>\n",
       "      <td>9.000000</td>\n",
       "      <td>48.000000</td>\n",
       "      <td>132.000000</td>\n",
       "    </tr>\n",
       "    <tr>\n",
       "      <th>max</th>\n",
       "      <td>1.523501e+08</td>\n",
       "      <td>91.000000</td>\n",
       "      <td>12.000000</td>\n",
       "      <td>12.000000</td>\n",
       "      <td>85.000000</td>\n",
       "      <td>150.000000</td>\n",
       "    </tr>\n",
       "  </tbody>\n",
       "</table>\n",
       "</div>"
      ],
      "text/plain": [
       "               goal  funding_period  deadline_month  launched_month  \\\n",
       "count  1.739970e+05   173997.000000   173997.000000   173997.000000   \n",
       "mean   4.069380e+04       32.830445        6.807727        6.495066   \n",
       "std    1.126513e+06       12.123884        3.352057        3.324701   \n",
       "min    1.000000e-02        1.000000        1.000000        1.000000   \n",
       "25%    1.500000e+03       29.000000        4.000000        4.000000   \n",
       "50%    5.000000e+03       30.000000        7.000000        7.000000   \n",
       "75%    1.280000e+04       35.000000       10.000000        9.000000   \n",
       "max    1.523501e+08       91.000000       12.000000       12.000000   \n",
       "\n",
       "              name_l        descr_l  \n",
       "count  173997.000000  173997.000000  \n",
       "mean       34.576700     108.773105  \n",
       "std        15.616727      29.417966  \n",
       "min         1.000000       1.000000  \n",
       "25%        21.000000      94.000000  \n",
       "50%        34.000000     121.000000  \n",
       "75%        48.000000     132.000000  \n",
       "max        85.000000     150.000000  "
      ]
     },
     "execution_count": 10,
     "metadata": {},
     "output_type": "execute_result"
    }
   ],
   "source": [
    "ks1.describe()"
   ]
  },
  {
   "cell_type": "code",
   "execution_count": 11,
   "metadata": {
    "scrolled": true
   },
   "outputs": [
    {
     "data": {
      "text/plain": [
       "array([[<matplotlib.axes._subplots.AxesSubplot object at 0x0000027226A4FA00>,\n",
       "        <matplotlib.axes._subplots.AxesSubplot object at 0x000002724CFA7EB0>],\n",
       "       [<matplotlib.axes._subplots.AxesSubplot object at 0x0000027258D20340>,\n",
       "        <matplotlib.axes._subplots.AxesSubplot object at 0x00000272618417C0>],\n",
       "       [<matplotlib.axes._subplots.AxesSubplot object at 0x000002726F57DC10>,\n",
       "        <matplotlib.axes._subplots.AxesSubplot object at 0x00000272732DB100>]],\n",
       "      dtype=object)"
      ]
     },
     "execution_count": 11,
     "metadata": {},
     "output_type": "execute_result"
    },
    {
     "data": {
      "image/png": "[encoded data removed]",
      "text/plain": [
       "<Figure size 1584x648 with 6 Axes>"
      ]
     },
     "metadata": {
      "needs_background": "light"
     },
     "output_type": "display_data"
    }
   ],
   "source": [
    "ks1.hist(figsize=(22,9), bins=12)"
   ]
  },
  {
   "cell_type": "code",
   "execution_count": 12,
   "metadata": {},
   "outputs": [
    {
     "data": {
      "text/plain": [
       "<matplotlib.axes._subplots.AxesSubplot at 0x27197b04c10>"
      ]
     },
     "execution_count": 12,
     "metadata": {},
     "output_type": "execute_result"
    },
    {
     "data": {
      "image/png": "[encoded data removed]",
      "text/plain": [
       "<Figure size 432x288 with 2 Axes>"
      ]
     },
     "metadata": {
      "needs_background": "light"
     },
     "output_type": "display_data"
    }
   ],
   "source": [
    "import seaborn as sns\n",
    "corr = ks1.corr()\n",
    "sns.heatmap(corr, \n",
    "            xticklabels=corr.columns.values,\n",
    "            yticklabels=corr.columns.values)"
   ]
  },
  {
   "cell_type": "code",
   "execution_count": 13,
   "metadata": {
    "scrolled": false
   },
   "outputs": [
    {
     "data": {
      "text/plain": [
       "<matplotlib.axes._subplots.AxesSubplot at 0x2719979b880>"
      ]
     },
     "execution_count": 13,
     "metadata": {},
     "output_type": "execute_result"
    },
    {
     "data": {
      "image/png": "[encoded data removed]",
      "text/plain": [
       "<Figure size 432x288 with 1 Axes>"
      ]
     },
     "metadata": {
      "needs_background": "light"
     },
     "output_type": "display_data"
    }
   ],
   "source": [
    "ks1.boxplot()"
   ]
  },
  {
   "cell_type": "markdown",
   "metadata": {},
   "source": [
    "## Logistic Regression"
   ]
  },
  {
   "cell_type": "code",
   "execution_count": 8,
   "metadata": {},
   "outputs": [],
   "source": [
    "features_categorical = ['country','main_category','sec_category', 'launched_month', 'deadline_month']\n",
    "features_robust = ['descr_l','goal','funding_period']\n",
    "features_standard = ['name_l']"
   ]
  },
  {
   "cell_type": "code",
   "execution_count": 15,
   "metadata": {},
   "outputs": [],
   "source": [
    "data_preprocessing_lr = ColumnTransformer([\n",
    "    ('features_categorical', OneHotEncoder(), features_categorical),\n",
    "    ('numeric_robust', RobustScaler(), features_robust),\n",
    "    ('feature_standard', StandardScaler(), features_standard)\n",
    "],\n",
    "    remainder = 'passthrough'\n",
    ")"
   ]
  },
  {
   "cell_type": "code",
   "execution_count": 16,
   "metadata": {},
   "outputs": [
    {
     "name": "stdout",
     "output_type": "stream",
     "text": [
      "<class 'scipy.sparse.csr.csr_matrix'> (173997, 387)\n"
     ]
    }
   ],
   "source": [
    "fm = data_preprocessing_lr.fit_transform(ks1)\n",
    "print(type(fm), fm.shape)"
   ]
  },
  {
   "cell_type": "code",
   "execution_count": 17,
   "metadata": {},
   "outputs": [
    {
     "data": {
      "text/plain": [
       "((121797, 387), (121797,), (52200, 387), (52200,))"
      ]
     },
     "execution_count": 17,
     "metadata": {},
     "output_type": "execute_result"
    }
   ],
   "source": [
    "X_train, X_test, y_train, y_test = train_test_split(fm, ks_label1, test_size=0.3, random_state=45)\n",
    "X_train.shape, y_train.shape, X_test.shape, y_test.shape"
   ]
  },
  {
   "cell_type": "markdown",
   "metadata": {},
   "source": [
    "### GridSearch"
   ]
  },
  {
   "cell_type": "code",
   "execution_count": 18,
   "metadata": {},
   "outputs": [],
   "source": [
    "logit_cls = LogisticRegression(max_iter=1000, n_jobs=-1) "
   ]
  },
  {
   "cell_type": "code",
   "execution_count": 19,
   "metadata": {},
   "outputs": [],
   "source": [
    "param_grid_lr = [\n",
    "    {'penalty': ['l1', 'l2'],\n",
    "     'class_weight':['balanced', None],\n",
    "     'solver':['liblinear', 'saga'],\n",
    "     'C': [0.001, 0.01, 1, 100, 1000]\n",
    "    }\n",
    "]\n",
    "\n",
    "grid_search_lr = GridSearchCV(logit_cls, \n",
    "                           param_grid= param_grid_lr,\n",
    "                           cv=StratifiedKFold(),\n",
    "                           n_jobs=-1,\n",
    "                           scoring=['f1','accuracy'],\n",
    "                           refit = 'f1'\n",
    "                          )"
   ]
  },
  {
   "cell_type": "code",
   "execution_count": 20,
   "metadata": {
    "scrolled": true
   },
   "outputs": [
    {
     "name": "stderr",
     "output_type": "stream",
     "text": [
      "C:\\Users\\marco\\anaconda3\\lib\\site-packages\\sklearn\\linear_model\\_logistic.py:1353: UserWarning: 'n_jobs' > 1 does not have any effect when 'solver' is set to 'liblinear'. Got 'n_jobs' = 16.\n",
      "  warnings.warn(\"'n_jobs' > 1 does not have any effect when\"\n"
     ]
    },
    {
     "data": {
      "text/plain": [
       "GridSearchCV(cv=StratifiedKFold(n_splits=5, random_state=None, shuffle=False),\n",
       "             estimator=LogisticRegression(max_iter=1000, n_jobs=-1), n_jobs=-1,\n",
       "             param_grid=[{'C': [0.001, 0.01, 1, 100, 1000],\n",
       "                          'class_weight': ['balanced', None],\n",
       "                          'penalty': ['l1', 'l2'],\n",
       "                          'solver': ['liblinear', 'saga']}],\n",
       "             refit='f1', scoring=['f1', 'accuracy'])"
      ]
     },
     "execution_count": 20,
     "metadata": {},
     "output_type": "execute_result"
    }
   ],
   "source": [
    "grid_search_lr.fit(X_train, y_train)"
   ]
  },
  {
   "cell_type": "code",
   "execution_count": 21,
   "metadata": {
    "scrolled": false
   },
   "outputs": [
    {
     "data": {
      "text/html": [
       "<div>\n",
       "<style scoped>\n",
       "    .dataframe tbody tr th:only-of-type {\n",
       "        vertical-align: middle;\n",
       "    }\n",
       "\n",
       "    .dataframe tbody tr th {\n",
       "        vertical-align: top;\n",
       "    }\n",
       "\n",
       "    .dataframe thead th {\n",
       "        text-align: right;\n",
       "    }\n",
       "</style>\n",
       "<table border=\"1\" class=\"dataframe\">\n",
       "  <thead>\n",
       "    <tr style=\"text-align: right;\">\n",
       "      <th></th>\n",
       "      <th>mean_test_f1</th>\n",
       "      <th>params</th>\n",
       "      <th>mean_test_accuracy</th>\n",
       "    </tr>\n",
       "  </thead>\n",
       "  <tbody>\n",
       "    <tr>\n",
       "      <th>14</th>\n",
       "      <td>0.787378</td>\n",
       "      <td>{'C': 0.01, 'class_weight': None, 'penalty': '...</td>\n",
       "      <td>0.755675</td>\n",
       "    </tr>\n",
       "    <tr>\n",
       "      <th>22</th>\n",
       "      <td>0.784116</td>\n",
       "      <td>{'C': 1, 'class_weight': None, 'penalty': 'l2'...</td>\n",
       "      <td>0.762400</td>\n",
       "    </tr>\n",
       "    <tr>\n",
       "      <th>30</th>\n",
       "      <td>0.784092</td>\n",
       "      <td>{'C': 100, 'class_weight': None, 'penalty': 'l...</td>\n",
       "      <td>0.762457</td>\n",
       "    </tr>\n",
       "    <tr>\n",
       "      <th>36</th>\n",
       "      <td>0.784080</td>\n",
       "      <td>{'C': 1000, 'class_weight': None, 'penalty': '...</td>\n",
       "      <td>0.762392</td>\n",
       "    </tr>\n",
       "    <tr>\n",
       "      <th>28</th>\n",
       "      <td>0.784021</td>\n",
       "      <td>{'C': 100, 'class_weight': None, 'penalty': 'l...</td>\n",
       "      <td>0.762326</td>\n",
       "    </tr>\n",
       "    <tr>\n",
       "      <th>38</th>\n",
       "      <td>0.783923</td>\n",
       "      <td>{'C': 1000, 'class_weight': None, 'penalty': '...</td>\n",
       "      <td>0.762252</td>\n",
       "    </tr>\n",
       "    <tr>\n",
       "      <th>20</th>\n",
       "      <td>0.783800</td>\n",
       "      <td>{'C': 1, 'class_weight': None, 'penalty': 'l1'...</td>\n",
       "      <td>0.762219</td>\n",
       "    </tr>\n",
       "    <tr>\n",
       "      <th>12</th>\n",
       "      <td>0.779174</td>\n",
       "      <td>{'C': 0.01, 'class_weight': None, 'penalty': '...</td>\n",
       "      <td>0.749904</td>\n",
       "    </tr>\n",
       "    <tr>\n",
       "      <th>6</th>\n",
       "      <td>0.772415</td>\n",
       "      <td>{'C': 0.001, 'class_weight': None, 'penalty': ...</td>\n",
       "      <td>0.713359</td>\n",
       "    </tr>\n",
       "    <tr>\n",
       "      <th>10</th>\n",
       "      <td>0.768372</td>\n",
       "      <td>{'C': 0.01, 'class_weight': 'balanced', 'penal...</td>\n",
       "      <td>0.755700</td>\n",
       "    </tr>\n",
       "    <tr>\n",
       "      <th>32</th>\n",
       "      <td>0.763185</td>\n",
       "      <td>{'C': 1000, 'class_weight': 'balanced', 'penal...</td>\n",
       "      <td>0.757317</td>\n",
       "    </tr>\n",
       "    <tr>\n",
       "      <th>26</th>\n",
       "      <td>0.763100</td>\n",
       "      <td>{'C': 100, 'class_weight': 'balanced', 'penalt...</td>\n",
       "      <td>0.757260</td>\n",
       "    </tr>\n",
       "    <tr>\n",
       "      <th>24</th>\n",
       "      <td>0.763078</td>\n",
       "      <td>{'C': 100, 'class_weight': 'balanced', 'penalt...</td>\n",
       "      <td>0.757235</td>\n",
       "    </tr>\n",
       "    <tr>\n",
       "      <th>34</th>\n",
       "      <td>0.763063</td>\n",
       "      <td>{'C': 1000, 'class_weight': 'balanced', 'penal...</td>\n",
       "      <td>0.757235</td>\n",
       "    </tr>\n",
       "    <tr>\n",
       "      <th>18</th>\n",
       "      <td>0.762885</td>\n",
       "      <td>{'C': 1, 'class_weight': 'balanced', 'penalty'...</td>\n",
       "      <td>0.757145</td>\n",
       "    </tr>\n",
       "    <tr>\n",
       "      <th>16</th>\n",
       "      <td>0.762883</td>\n",
       "      <td>{'C': 1, 'class_weight': 'balanced', 'penalty'...</td>\n",
       "      <td>0.757367</td>\n",
       "    </tr>\n",
       "    <tr>\n",
       "      <th>2</th>\n",
       "      <td>0.756450</td>\n",
       "      <td>{'C': 0.001, 'class_weight': 'balanced', 'pena...</td>\n",
       "      <td>0.723310</td>\n",
       "    </tr>\n",
       "    <tr>\n",
       "      <th>8</th>\n",
       "      <td>0.751261</td>\n",
       "      <td>{'C': 0.01, 'class_weight': 'balanced', 'penal...</td>\n",
       "      <td>0.745634</td>\n",
       "    </tr>\n",
       "    <tr>\n",
       "      <th>4</th>\n",
       "      <td>0.739782</td>\n",
       "      <td>{'C': 0.001, 'class_weight': None, 'penalty': ...</td>\n",
       "      <td>0.655074</td>\n",
       "    </tr>\n",
       "    <tr>\n",
       "      <th>15</th>\n",
       "      <td>0.690486</td>\n",
       "      <td>{'C': 0.01, 'class_weight': None, 'penalty': '...</td>\n",
       "      <td>0.635845</td>\n",
       "    </tr>\n",
       "    <tr>\n",
       "      <th>31</th>\n",
       "      <td>0.690482</td>\n",
       "      <td>{'C': 100, 'class_weight': None, 'penalty': 'l...</td>\n",
       "      <td>0.635837</td>\n",
       "    </tr>\n",
       "    <tr>\n",
       "      <th>37</th>\n",
       "      <td>0.690482</td>\n",
       "      <td>{'C': 1000, 'class_weight': None, 'penalty': '...</td>\n",
       "      <td>0.635837</td>\n",
       "    </tr>\n",
       "    <tr>\n",
       "      <th>29</th>\n",
       "      <td>0.690482</td>\n",
       "      <td>{'C': 100, 'class_weight': None, 'penalty': 'l...</td>\n",
       "      <td>0.635837</td>\n",
       "    </tr>\n",
       "    <tr>\n",
       "      <th>39</th>\n",
       "      <td>0.690482</td>\n",
       "      <td>{'C': 1000, 'class_weight': None, 'penalty': '...</td>\n",
       "      <td>0.635837</td>\n",
       "    </tr>\n",
       "    <tr>\n",
       "      <th>23</th>\n",
       "      <td>0.690482</td>\n",
       "      <td>{'C': 1, 'class_weight': None, 'penalty': 'l2'...</td>\n",
       "      <td>0.635837</td>\n",
       "    </tr>\n",
       "    <tr>\n",
       "      <th>21</th>\n",
       "      <td>0.690469</td>\n",
       "      <td>{'C': 1, 'class_weight': None, 'penalty': 'l1'...</td>\n",
       "      <td>0.635837</td>\n",
       "    </tr>\n",
       "    <tr>\n",
       "      <th>7</th>\n",
       "      <td>0.690431</td>\n",
       "      <td>{'C': 0.001, 'class_weight': None, 'penalty': ...</td>\n",
       "      <td>0.635837</td>\n",
       "    </tr>\n",
       "    <tr>\n",
       "      <th>13</th>\n",
       "      <td>0.687548</td>\n",
       "      <td>{'C': 0.01, 'class_weight': None, 'penalty': '...</td>\n",
       "      <td>0.633973</td>\n",
       "    </tr>\n",
       "    <tr>\n",
       "      <th>0</th>\n",
       "      <td>0.685452</td>\n",
       "      <td>{'C': 0.001, 'class_weight': 'balanced', 'pena...</td>\n",
       "      <td>0.640459</td>\n",
       "    </tr>\n",
       "    <tr>\n",
       "      <th>5</th>\n",
       "      <td>0.663100</td>\n",
       "      <td>{'C': 0.001, 'class_weight': None, 'penalty': ...</td>\n",
       "      <td>0.620097</td>\n",
       "    </tr>\n",
       "    <tr>\n",
       "      <th>19</th>\n",
       "      <td>0.642837</td>\n",
       "      <td>{'C': 1, 'class_weight': 'balanced', 'penalty'...</td>\n",
       "      <td>0.619802</td>\n",
       "    </tr>\n",
       "    <tr>\n",
       "      <th>33</th>\n",
       "      <td>0.642837</td>\n",
       "      <td>{'C': 1000, 'class_weight': 'balanced', 'penal...</td>\n",
       "      <td>0.619802</td>\n",
       "    </tr>\n",
       "    <tr>\n",
       "      <th>25</th>\n",
       "      <td>0.642832</td>\n",
       "      <td>{'C': 100, 'class_weight': 'balanced', 'penalt...</td>\n",
       "      <td>0.619794</td>\n",
       "    </tr>\n",
       "    <tr>\n",
       "      <th>27</th>\n",
       "      <td>0.642832</td>\n",
       "      <td>{'C': 100, 'class_weight': 'balanced', 'penalt...</td>\n",
       "      <td>0.619794</td>\n",
       "    </tr>\n",
       "    <tr>\n",
       "      <th>35</th>\n",
       "      <td>0.642832</td>\n",
       "      <td>{'C': 1000, 'class_weight': 'balanced', 'penal...</td>\n",
       "      <td>0.619794</td>\n",
       "    </tr>\n",
       "    <tr>\n",
       "      <th>11</th>\n",
       "      <td>0.642816</td>\n",
       "      <td>{'C': 0.01, 'class_weight': 'balanced', 'penal...</td>\n",
       "      <td>0.619785</td>\n",
       "    </tr>\n",
       "    <tr>\n",
       "      <th>17</th>\n",
       "      <td>0.642765</td>\n",
       "      <td>{'C': 1, 'class_weight': 'balanced', 'penalty'...</td>\n",
       "      <td>0.619736</td>\n",
       "    </tr>\n",
       "    <tr>\n",
       "      <th>3</th>\n",
       "      <td>0.642730</td>\n",
       "      <td>{'C': 0.001, 'class_weight': 'balanced', 'pena...</td>\n",
       "      <td>0.619712</td>\n",
       "    </tr>\n",
       "    <tr>\n",
       "      <th>9</th>\n",
       "      <td>0.638276</td>\n",
       "      <td>{'C': 0.01, 'class_weight': 'balanced', 'penal...</td>\n",
       "      <td>0.616822</td>\n",
       "    </tr>\n",
       "    <tr>\n",
       "      <th>1</th>\n",
       "      <td>0.604474</td>\n",
       "      <td>{'C': 0.001, 'class_weight': 'balanced', 'pena...</td>\n",
       "      <td>0.597223</td>\n",
       "    </tr>\n",
       "  </tbody>\n",
       "</table>\n",
       "</div>"
      ],
      "text/plain": [
       "    mean_test_f1                                             params  \\\n",
       "14      0.787378  {'C': 0.01, 'class_weight': None, 'penalty': '...   \n",
       "22      0.784116  {'C': 1, 'class_weight': None, 'penalty': 'l2'...   \n",
       "30      0.784092  {'C': 100, 'class_weight': None, 'penalty': 'l...   \n",
       "36      0.784080  {'C': 1000, 'class_weight': None, 'penalty': '...   \n",
       "28      0.784021  {'C': 100, 'class_weight': None, 'penalty': 'l...   \n",
       "38      0.783923  {'C': 1000, 'class_weight': None, 'penalty': '...   \n",
       "20      0.783800  {'C': 1, 'class_weight': None, 'penalty': 'l1'...   \n",
       "12      0.779174  {'C': 0.01, 'class_weight': None, 'penalty': '...   \n",
       "6       0.772415  {'C': 0.001, 'class_weight': None, 'penalty': ...   \n",
       "10      0.768372  {'C': 0.01, 'class_weight': 'balanced', 'penal...   \n",
       "32      0.763185  {'C': 1000, 'class_weight': 'balanced', 'penal...   \n",
       "26      0.763100  {'C': 100, 'class_weight': 'balanced', 'penalt...   \n",
       "24      0.763078  {'C': 100, 'class_weight': 'balanced', 'penalt...   \n",
       "34      0.763063  {'C': 1000, 'class_weight': 'balanced', 'penal...   \n",
       "18      0.762885  {'C': 1, 'class_weight': 'balanced', 'penalty'...   \n",
       "16      0.762883  {'C': 1, 'class_weight': 'balanced', 'penalty'...   \n",
       "2       0.756450  {'C': 0.001, 'class_weight': 'balanced', 'pena...   \n",
       "8       0.751261  {'C': 0.01, 'class_weight': 'balanced', 'penal...   \n",
       "4       0.739782  {'C': 0.001, 'class_weight': None, 'penalty': ...   \n",
       "15      0.690486  {'C': 0.01, 'class_weight': None, 'penalty': '...   \n",
       "31      0.690482  {'C': 100, 'class_weight': None, 'penalty': 'l...   \n",
       "37      0.690482  {'C': 1000, 'class_weight': None, 'penalty': '...   \n",
       "29      0.690482  {'C': 100, 'class_weight': None, 'penalty': 'l...   \n",
       "39      0.690482  {'C': 1000, 'class_weight': None, 'penalty': '...   \n",
       "23      0.690482  {'C': 1, 'class_weight': None, 'penalty': 'l2'...   \n",
       "21      0.690469  {'C': 1, 'class_weight': None, 'penalty': 'l1'...   \n",
       "7       0.690431  {'C': 0.001, 'class_weight': None, 'penalty': ...   \n",
       "13      0.687548  {'C': 0.01, 'class_weight': None, 'penalty': '...   \n",
       "0       0.685452  {'C': 0.001, 'class_weight': 'balanced', 'pena...   \n",
       "5       0.663100  {'C': 0.001, 'class_weight': None, 'penalty': ...   \n",
       "19      0.642837  {'C': 1, 'class_weight': 'balanced', 'penalty'...   \n",
       "33      0.642837  {'C': 1000, 'class_weight': 'balanced', 'penal...   \n",
       "25      0.642832  {'C': 100, 'class_weight': 'balanced', 'penalt...   \n",
       "27      0.642832  {'C': 100, 'class_weight': 'balanced', 'penalt...   \n",
       "35      0.642832  {'C': 1000, 'class_weight': 'balanced', 'penal...   \n",
       "11      0.642816  {'C': 0.01, 'class_weight': 'balanced', 'penal...   \n",
       "17      0.642765  {'C': 1, 'class_weight': 'balanced', 'penalty'...   \n",
       "3       0.642730  {'C': 0.001, 'class_weight': 'balanced', 'pena...   \n",
       "9       0.638276  {'C': 0.01, 'class_weight': 'balanced', 'penal...   \n",
       "1       0.604474  {'C': 0.001, 'class_weight': 'balanced', 'pena...   \n",
       "\n",
       "    mean_test_accuracy  \n",
       "14            0.755675  \n",
       "22            0.762400  \n",
       "30            0.762457  \n",
       "36            0.762392  \n",
       "28            0.762326  \n",
       "38            0.762252  \n",
       "20            0.762219  \n",
       "12            0.749904  \n",
       "6             0.713359  \n",
       "10            0.755700  \n",
       "32            0.757317  \n",
       "26            0.757260  \n",
       "24            0.757235  \n",
       "34            0.757235  \n",
       "18            0.757145  \n",
       "16            0.757367  \n",
       "2             0.723310  \n",
       "8             0.745634  \n",
       "4             0.655074  \n",
       "15            0.635845  \n",
       "31            0.635837  \n",
       "37            0.635837  \n",
       "29            0.635837  \n",
       "39            0.635837  \n",
       "23            0.635837  \n",
       "21            0.635837  \n",
       "7             0.635837  \n",
       "13            0.633973  \n",
       "0             0.640459  \n",
       "5             0.620097  \n",
       "19            0.619802  \n",
       "33            0.619802  \n",
       "25            0.619794  \n",
       "27            0.619794  \n",
       "35            0.619794  \n",
       "11            0.619785  \n",
       "17            0.619736  \n",
       "3             0.619712  \n",
       "9             0.616822  \n",
       "1             0.597223  "
      ]
     },
     "execution_count": 21,
     "metadata": {},
     "output_type": "execute_result"
    }
   ],
   "source": [
    "results = pd.DataFrame(grid_search_lr.cv_results_)[['mean_test_f1','params','mean_test_accuracy']]\n",
    "results.sort_values(by='mean_test_f1',ascending=False)"
   ]
  },
  {
   "cell_type": "code",
   "execution_count": 22,
   "metadata": {},
   "outputs": [
    {
     "name": "stdout",
     "output_type": "stream",
     "text": [
      "best score:  0.7873779399212639\n",
      "best params:  {'C': 0.01, 'class_weight': None, 'penalty': 'l2', 'solver': 'liblinear'}\n"
     ]
    }
   ],
   "source": [
    "print('best score: ',grid_search_lr.best_score_)\n",
    "print('best params: ',grid_search_lr.best_params_)"
   ]
  },
  {
   "cell_type": "markdown",
   "metadata": {},
   "source": [
    "### RandomizedSearch"
   ]
  },
  {
   "cell_type": "code",
   "execution_count": 23,
   "metadata": {},
   "outputs": [],
   "source": [
    "param_grid_lr_r = [\n",
    "    {'penalty': ['l1', 'l2'],\n",
    "     'class_weight':['balanced', None],\n",
    "     'solver':['liblinear', 'saga'],\n",
    "     'C': [0.001, 0.01, 1, 100, 1000]\n",
    "    }\n",
    "]\n",
    "\n",
    "random_search_lr = RandomizedSearchCV(logit_cls, \n",
    "                           param_distributions= param_grid_lr_r,\n",
    "                           cv=StratifiedKFold(),\n",
    "                           n_jobs=-1,\n",
    "                           scoring=['f1','accuracy'],\n",
    "                           refit = 'f1'\n",
    "                          )"
   ]
  },
  {
   "cell_type": "code",
   "execution_count": 24,
   "metadata": {
    "scrolled": true
   },
   "outputs": [
    {
     "name": "stderr",
     "output_type": "stream",
     "text": [
      "C:\\Users\\marco\\anaconda3\\lib\\site-packages\\sklearn\\linear_model\\_logistic.py:1353: UserWarning: 'n_jobs' > 1 does not have any effect when 'solver' is set to 'liblinear'. Got 'n_jobs' = 16.\n",
      "  warnings.warn(\"'n_jobs' > 1 does not have any effect when\"\n"
     ]
    },
    {
     "data": {
      "text/plain": [
       "RandomizedSearchCV(cv=StratifiedKFold(n_splits=5, random_state=None, shuffle=False),\n",
       "                   estimator=LogisticRegression(max_iter=1000, n_jobs=-1),\n",
       "                   n_jobs=-1,\n",
       "                   param_distributions=[{'C': [0.001, 0.01, 1, 100, 1000],\n",
       "                                         'class_weight': ['balanced', None],\n",
       "                                         'penalty': ['l1', 'l2'],\n",
       "                                         'solver': ['liblinear', 'saga']}],\n",
       "                   refit='f1', scoring=['f1', 'accuracy'])"
      ]
     },
     "execution_count": 24,
     "metadata": {},
     "output_type": "execute_result"
    }
   ],
   "source": [
    "random_search_lr.fit(X_train, y_train)"
   ]
  },
  {
   "cell_type": "code",
   "execution_count": 25,
   "metadata": {
    "scrolled": false
   },
   "outputs": [
    {
     "data": {
      "text/html": [
       "<div>\n",
       "<style scoped>\n",
       "    .dataframe tbody tr th:only-of-type {\n",
       "        vertical-align: middle;\n",
       "    }\n",
       "\n",
       "    .dataframe tbody tr th {\n",
       "        vertical-align: top;\n",
       "    }\n",
       "\n",
       "    .dataframe thead th {\n",
       "        text-align: right;\n",
       "    }\n",
       "</style>\n",
       "<table border=\"1\" class=\"dataframe\">\n",
       "  <thead>\n",
       "    <tr style=\"text-align: right;\">\n",
       "      <th></th>\n",
       "      <th>mean_test_f1</th>\n",
       "      <th>params</th>\n",
       "      <th>mean_test_accuracy</th>\n",
       "    </tr>\n",
       "  </thead>\n",
       "  <tbody>\n",
       "    <tr>\n",
       "      <th>9</th>\n",
       "      <td>0.784114</td>\n",
       "      <td>{'solver': 'liblinear', 'penalty': 'l1', 'clas...</td>\n",
       "      <td>0.762424</td>\n",
       "    </tr>\n",
       "    <tr>\n",
       "      <th>7</th>\n",
       "      <td>0.762925</td>\n",
       "      <td>{'solver': 'liblinear', 'penalty': 'l1', 'clas...</td>\n",
       "      <td>0.757408</td>\n",
       "    </tr>\n",
       "    <tr>\n",
       "      <th>1</th>\n",
       "      <td>0.756450</td>\n",
       "      <td>{'solver': 'liblinear', 'penalty': 'l2', 'clas...</td>\n",
       "      <td>0.723310</td>\n",
       "    </tr>\n",
       "    <tr>\n",
       "      <th>0</th>\n",
       "      <td>0.687562</td>\n",
       "      <td>{'solver': 'saga', 'penalty': 'l1', 'class_wei...</td>\n",
       "      <td>0.633989</td>\n",
       "    </tr>\n",
       "    <tr>\n",
       "      <th>6</th>\n",
       "      <td>0.685423</td>\n",
       "      <td>{'solver': 'liblinear', 'penalty': 'l1', 'clas...</td>\n",
       "      <td>0.640426</td>\n",
       "    </tr>\n",
       "    <tr>\n",
       "      <th>4</th>\n",
       "      <td>0.642843</td>\n",
       "      <td>{'solver': 'saga', 'penalty': 'l2', 'class_wei...</td>\n",
       "      <td>0.619802</td>\n",
       "    </tr>\n",
       "    <tr>\n",
       "      <th>5</th>\n",
       "      <td>0.642837</td>\n",
       "      <td>{'solver': 'saga', 'penalty': 'l1', 'class_wei...</td>\n",
       "      <td>0.619802</td>\n",
       "    </tr>\n",
       "    <tr>\n",
       "      <th>8</th>\n",
       "      <td>0.642837</td>\n",
       "      <td>{'solver': 'saga', 'penalty': 'l1', 'class_wei...</td>\n",
       "      <td>0.619802</td>\n",
       "    </tr>\n",
       "    <tr>\n",
       "      <th>2</th>\n",
       "      <td>0.642827</td>\n",
       "      <td>{'solver': 'saga', 'penalty': 'l2', 'class_wei...</td>\n",
       "      <td>0.619785</td>\n",
       "    </tr>\n",
       "    <tr>\n",
       "      <th>3</th>\n",
       "      <td>0.642720</td>\n",
       "      <td>{'solver': 'saga', 'penalty': 'l2', 'class_wei...</td>\n",
       "      <td>0.619695</td>\n",
       "    </tr>\n",
       "  </tbody>\n",
       "</table>\n",
       "</div>"
      ],
      "text/plain": [
       "   mean_test_f1                                             params  \\\n",
       "9      0.784114  {'solver': 'liblinear', 'penalty': 'l1', 'clas...   \n",
       "7      0.762925  {'solver': 'liblinear', 'penalty': 'l1', 'clas...   \n",
       "1      0.756450  {'solver': 'liblinear', 'penalty': 'l2', 'clas...   \n",
       "0      0.687562  {'solver': 'saga', 'penalty': 'l1', 'class_wei...   \n",
       "6      0.685423  {'solver': 'liblinear', 'penalty': 'l1', 'clas...   \n",
       "4      0.642843  {'solver': 'saga', 'penalty': 'l2', 'class_wei...   \n",
       "5      0.642837  {'solver': 'saga', 'penalty': 'l1', 'class_wei...   \n",
       "8      0.642837  {'solver': 'saga', 'penalty': 'l1', 'class_wei...   \n",
       "2      0.642827  {'solver': 'saga', 'penalty': 'l2', 'class_wei...   \n",
       "3      0.642720  {'solver': 'saga', 'penalty': 'l2', 'class_wei...   \n",
       "\n",
       "   mean_test_accuracy  \n",
       "9            0.762424  \n",
       "7            0.757408  \n",
       "1            0.723310  \n",
       "0            0.633989  \n",
       "6            0.640426  \n",
       "4            0.619802  \n",
       "5            0.619802  \n",
       "8            0.619802  \n",
       "2            0.619785  \n",
       "3            0.619695  "
      ]
     },
     "execution_count": 25,
     "metadata": {},
     "output_type": "execute_result"
    }
   ],
   "source": [
    "results_r = pd.DataFrame(random_search_lr.cv_results_)[['mean_test_f1','params','mean_test_accuracy']]\n",
    "results_r.sort_values(by='mean_test_f1',ascending=False)"
   ]
  },
  {
   "cell_type": "code",
   "execution_count": 26,
   "metadata": {},
   "outputs": [
    {
     "name": "stdout",
     "output_type": "stream",
     "text": [
      "best score:  0.7841135501207501\n",
      "best params:  {'solver': 'liblinear', 'penalty': 'l1', 'class_weight': None, 'C': 1000}\n"
     ]
    }
   ],
   "source": [
    "print('best score: ',random_search_lr.best_score_)\n",
    "print('best params: ',random_search_lr.best_params_)"
   ]
  },
  {
   "cell_type": "markdown",
   "metadata": {},
   "source": [
    "### Validation best params"
   ]
  },
  {
   "cell_type": "code",
   "execution_count": 115,
   "metadata": {},
   "outputs": [],
   "source": [
    "logit_cls_bp = LogisticRegression(max_iter=1000,\n",
    "                                  n_jobs=-1,\n",
    "                                  C=0.01,\n",
    "                                  class_weight=None,\n",
    "                                  penalty= 'l2',\n",
    "                                  random_state=1,\n",
    "                                  solver='liblinear') "
   ]
  },
  {
   "cell_type": "code",
   "execution_count": 116,
   "metadata": {},
   "outputs": [],
   "source": [
    "train_sizes, train_scores, test_scores = learning_curve(logit_cls_bp,\n",
    "                                                       X=X_train,\n",
    "                                                       y=y_train,\n",
    "                                                       train_sizes=np.linspace(0.1,1.0,10),\n",
    "                                                       cv=StratifiedKFold(random_state=1, shuffle=True),\n",
    "                                                       n_jobs=-1)"
   ]
  },
  {
   "cell_type": "code",
   "execution_count": 117,
   "metadata": {
    "scrolled": true
   },
   "outputs": [
    {
     "data": {
      "text/plain": [
       "<matplotlib.legend.Legend at 0x27222ebebb0>"
      ]
     },
     "execution_count": 117,
     "metadata": {},
     "output_type": "execute_result"
    },
    {
     "data": {
      "image/png": "[encoded data removed]",
      "text/plain": [
       "<Figure size 864x504 with 1 Axes>"
      ]
     },
     "metadata": {
      "needs_background": "light"
     },
     "output_type": "display_data"
    }
   ],
   "source": [
    "train_mean = np.mean(train_scores, axis=1)\n",
    "train_std = np.std(train_scores, axis=1)\n",
    "test_mean = np.mean(test_scores, axis=1)\n",
    "test_std = np.std(test_scores, axis=1)\n",
    "\n",
    "fig=plt.figure(figsize=(12,7))\n",
    "ax = fig.add_subplot()\n",
    "ax.plot(train_sizes, train_mean,\n",
    "         color='blue', marker='o',\n",
    "         markersize=5, label='Training accuracy')\n",
    "\n",
    "ax.fill_between(train_sizes,\n",
    "                 train_mean + train_std,\n",
    "                 train_mean - train_std,\n",
    "                 alpha=0.15, color='blue')\n",
    "\n",
    "ax.plot(train_sizes, test_mean,\n",
    "         color='green', linestyle='--',\n",
    "         marker='s', markersize=5,\n",
    "         label='Validation accuracy')\n",
    "\n",
    "ax.fill_between(train_sizes,\n",
    "                 test_mean + test_std,\n",
    "                 test_mean - test_std,\n",
    "                 alpha=0.15, color='green')\n",
    "\n",
    "ax.grid()\n",
    "ax.set_xlabel('Dimensione del training set')\n",
    "ax.set_ylabel('Accuracy')\n",
    "ax.legend(loc='lower right')"
   ]
  },
  {
   "cell_type": "code",
   "execution_count": 118,
   "metadata": {},
   "outputs": [
    {
     "name": "stdout",
     "output_type": "stream",
     "text": [
      "accuracy: 0.7566 - val_accuracy: 0.7554\n"
     ]
    }
   ],
   "source": [
    "print(\"accuracy:\", round(train_mean[-1], 4), \"- val_accuracy:\", round(test_mean[-1], 4))"
   ]
  },
  {
   "cell_type": "code",
   "execution_count": 127,
   "metadata": {},
   "outputs": [
    {
     "name": "stderr",
     "output_type": "stream",
     "text": [
      "C:\\Users\\marco\\anaconda3\\lib\\site-packages\\sklearn\\linear_model\\_logistic.py:1353: UserWarning: 'n_jobs' > 1 does not have any effect when 'solver' is set to 'liblinear'. Got 'n_jobs' = 16.\n",
      "  warnings.warn(\"'n_jobs' > 1 does not have any effect when\"\n"
     ]
    },
    {
     "name": "stdout",
     "output_type": "stream",
     "text": [
      "val_accuracy: 0.7554\n"
     ]
    },
    {
     "data": {
      "image/png": "[encoded data removed]",
      "text/plain": [
       "<Figure size 432x288 with 2 Axes>"
      ]
     },
     "metadata": {
      "needs_background": "light"
     },
     "output_type": "display_data"
    }
   ],
   "source": [
    "y_train_p_lr = cross_val_predict(logit_cls_bp, X_train, y_train, cv=StratifiedKFold(random_state=1, shuffle=True))\n",
    "print('val_accuracy:', round(accuracy_score(y_train, y_train_p_lr), 4))\n",
    "\n",
    "cm_c_lr = confusion_matrix(y_train, y_train_p_lr)\n",
    "ax= plt.subplot()\n",
    "sns.heatmap(cm_c_lr, annot=False, ax = ax, cmap=\"Greens\", vmin=0, vmax=sum(sum(cm_c_lr))); #annot=True to annotate cells\n",
    "sns.heatmap(cm_c_lr, annot=cm_c_lr, fmt=\"\", cbar=False, cmap=\"Greens\", vmin=0, vmax=sum(sum(cm_c_lr)))\n",
    "\n",
    "# labels, title and ticks\n",
    "ax.set_xlabel('Predicted labels');ax.set_ylabel('True labels'); \n",
    "#ax.set_title('Confusion Matrix'); \n",
    "ax.xaxis.set_ticklabels(['failed', 'successful']); ax.yaxis.set_ticklabels(['failed', 'successful']);\n"
   ]
  },
  {
   "cell_type": "markdown",
   "metadata": {},
   "source": [
    "### Test result"
   ]
  },
  {
   "cell_type": "code",
   "execution_count": 122,
   "metadata": {},
   "outputs": [
    {
     "data": {
      "text/plain": [
       "LogisticRegression(C=0.01, max_iter=1000, n_jobs=-1, random_state=1,\n",
       "                   solver='liblinear')"
      ]
     },
     "execution_count": 122,
     "metadata": {},
     "output_type": "execute_result"
    }
   ],
   "source": [
    "logit_cls_bp.fit(X_train, y_train)"
   ]
  },
  {
   "cell_type": "code",
   "execution_count": 128,
   "metadata": {},
   "outputs": [
    {
     "name": "stdout",
     "output_type": "stream",
     "text": [
      "Accuracy SCore 0.7532375478927203\n",
      "F1 SCore 0.7532450019349787\n",
      "Precision Score 0.7532525233176227\n",
      "Recall SCore 0.7532375478927203\n"
     ]
    },
    {
     "data": {
      "image/png": "[encoded data removed]",
      "text/plain": [
       "<Figure size 432x288 with 2 Axes>"
      ]
     },
     "metadata": {
      "needs_background": "light"
     },
     "output_type": "display_data"
    }
   ],
   "source": [
    "y_pred_lr = logit_cls_bp.predict(X_test)\n",
    "print(\"Accuracy SCore\", accuracy_score(y_test, y_pred_lr))\n",
    "print(\"F1 SCore\", f1_score(y_test, y_pred_lr, average='weighted'))\n",
    "print(\"Precision Score\", precision_score(y_test, y_pred_lr, average='weighted'))\n",
    "print(\"Recall SCore\", recall_score(y_test, y_pred_lr, average='weighted'))\n",
    "cm = confusion_matrix(y_test, y_pred_lr)\n",
    "ax= plt.subplot()\n",
    "sns.heatmap(cm, annot=False, ax = ax, cmap=\"Greens\", vmin=0, vmax=sum(sum(cm))); #annot=True to annotate cells\n",
    "sns.heatmap(cm, annot=cm, fmt=\"\", cbar=False, cmap=\"Greens\", vmin=0, vmax=sum(sum(cm)))\n",
    "\n",
    "# labels, title and ticks\n",
    "ax.set_xlabel('Predicted labels');ax.set_ylabel('True labels'); \n",
    "#ax.set_title('Confusion Matrix'); \n",
    "ax.xaxis.set_ticklabels(['failed', 'successful']); ax.yaxis.set_ticklabels(['failed', 'successful']);"
   ]
  },
  {
   "cell_type": "markdown",
   "metadata": {},
   "source": [
    "## Random Forest"
   ]
  },
  {
   "cell_type": "code",
   "execution_count": 32,
   "metadata": {
    "scrolled": false
   },
   "outputs": [
    {
     "data": {
      "text/html": [
       "<div>\n",
       "<style scoped>\n",
       "    .dataframe tbody tr th:only-of-type {\n",
       "        vertical-align: middle;\n",
       "    }\n",
       "\n",
       "    .dataframe tbody tr th {\n",
       "        vertical-align: top;\n",
       "    }\n",
       "\n",
       "    .dataframe thead th {\n",
       "        text-align: right;\n",
       "    }\n",
       "</style>\n",
       "<table border=\"1\" class=\"dataframe\">\n",
       "  <thead>\n",
       "    <tr style=\"text-align: right;\">\n",
       "      <th></th>\n",
       "      <th>goal</th>\n",
       "      <th>country</th>\n",
       "      <th>main_category</th>\n",
       "      <th>sec_category</th>\n",
       "      <th>funding_period</th>\n",
       "      <th>deadline_month</th>\n",
       "      <th>launched_month</th>\n",
       "      <th>name_l</th>\n",
       "      <th>descr_l</th>\n",
       "    </tr>\n",
       "  </thead>\n",
       "  <tbody>\n",
       "    <tr>\n",
       "      <th>0</th>\n",
       "      <td>5227.00000</td>\n",
       "      <td>United States</td>\n",
       "      <td>Community Gardens</td>\n",
       "      <td>Food</td>\n",
       "      <td>29</td>\n",
       "      <td>4</td>\n",
       "      <td>3</td>\n",
       "      <td>29</td>\n",
       "      <td>123</td>\n",
       "    </tr>\n",
       "    <tr>\n",
       "      <th>1</th>\n",
       "      <td>46282.03230</td>\n",
       "      <td>United Kingdom</td>\n",
       "      <td>Drama</td>\n",
       "      <td>Film &amp; Video</td>\n",
       "      <td>30</td>\n",
       "      <td>8</td>\n",
       "      <td>7</td>\n",
       "      <td>15</td>\n",
       "      <td>119</td>\n",
       "    </tr>\n",
       "    <tr>\n",
       "      <th>2</th>\n",
       "      <td>1000.00000</td>\n",
       "      <td>United States</td>\n",
       "      <td>Playing Cards</td>\n",
       "      <td>Games</td>\n",
       "      <td>30</td>\n",
       "      <td>7</td>\n",
       "      <td>6</td>\n",
       "      <td>55</td>\n",
       "      <td>133</td>\n",
       "    </tr>\n",
       "    <tr>\n",
       "      <th>3</th>\n",
       "      <td>1019.89432</td>\n",
       "      <td>Hong Kong</td>\n",
       "      <td>Playing Cards</td>\n",
       "      <td>Games</td>\n",
       "      <td>30</td>\n",
       "      <td>10</td>\n",
       "      <td>9</td>\n",
       "      <td>31</td>\n",
       "      <td>30</td>\n",
       "    </tr>\n",
       "    <tr>\n",
       "      <th>4</th>\n",
       "      <td>550.00000</td>\n",
       "      <td>United States</td>\n",
       "      <td>Textiles</td>\n",
       "      <td>Art</td>\n",
       "      <td>30</td>\n",
       "      <td>2</td>\n",
       "      <td>1</td>\n",
       "      <td>27</td>\n",
       "      <td>124</td>\n",
       "    </tr>\n",
       "  </tbody>\n",
       "</table>\n",
       "</div>"
      ],
      "text/plain": [
       "          goal         country      main_category  sec_category  \\\n",
       "0   5227.00000   United States  Community Gardens          Food   \n",
       "1  46282.03230  United Kingdom              Drama  Film & Video   \n",
       "2   1000.00000   United States      Playing Cards         Games   \n",
       "3   1019.89432       Hong Kong      Playing Cards         Games   \n",
       "4    550.00000   United States           Textiles           Art   \n",
       "\n",
       "   funding_period  deadline_month  launched_month  name_l  descr_l  \n",
       "0              29               4               3      29      123  \n",
       "1              30               8               7      15      119  \n",
       "2              30               7               6      55      133  \n",
       "3              30              10               9      31       30  \n",
       "4              30               2               1      27      124  "
      ]
     },
     "execution_count": 32,
     "metadata": {},
     "output_type": "execute_result"
    }
   ],
   "source": [
    "ks1.head()"
   ]
  },
  {
   "cell_type": "code",
   "execution_count": 33,
   "metadata": {},
   "outputs": [],
   "source": [
    "data_preprocessing_rf = ColumnTransformer([\n",
    "    ('features_categorical', OneHotEncoder(), features_categorical),\n",
    "    #('numeric_robust', RobustScaler(), features_robust),\n",
    "    #('feature_standard', StandardScaler(), features_standard)\n",
    "],\n",
    "    remainder = 'passthrough'\n",
    ")"
   ]
  },
  {
   "cell_type": "code",
   "execution_count": 34,
   "metadata": {},
   "outputs": [
    {
     "name": "stdout",
     "output_type": "stream",
     "text": [
      "<class 'scipy.sparse.csr.csr_matrix'> (173997, 387)\n"
     ]
    }
   ],
   "source": [
    "fm1 = data_preprocessing_rf.fit_transform(ks1)\n",
    "print(type(fm1), fm1.shape)"
   ]
  },
  {
   "cell_type": "code",
   "execution_count": 35,
   "metadata": {},
   "outputs": [
    {
     "data": {
      "text/plain": [
       "((121797, 387), (52200, 387), (121797,), (52200,))"
      ]
     },
     "execution_count": 35,
     "metadata": {},
     "output_type": "execute_result"
    }
   ],
   "source": [
    "X_train_rf, X_test_rf, y_train_rf, y_test_rf = train_test_split(fm1, ks_label1, test_size=0.3, random_state=45)\n",
    "X_train_rf.shape, X_test_rf.shape, y_train_rf.shape, y_test_rf.shape"
   ]
  },
  {
   "cell_type": "markdown",
   "metadata": {},
   "source": [
    "### GridSearch"
   ]
  },
  {
   "cell_type": "code",
   "execution_count": 36,
   "metadata": {},
   "outputs": [],
   "source": [
    "rf_cls = RandomForestClassifier(n_jobs=-1)"
   ]
  },
  {
   "cell_type": "code",
   "execution_count": 37,
   "metadata": {},
   "outputs": [],
   "source": [
    "param_grid_rf = [\n",
    "    {'max_features': ['auto', 'sqrt'],\n",
    "     'max_depth':[8, 24, 48, None],\n",
    "     'n_estimators':[50, 150, 300],\n",
    "     'bootstrap': [True, False]\n",
    "    }\n",
    "]\n",
    "grid_search_rf = GridSearchCV(rf_cls, \n",
    "                           param_grid= param_grid_rf,\n",
    "                           cv=StratifiedKFold(),\n",
    "                           n_jobs=-1,\n",
    "                           scoring=['f1','accuracy'],\n",
    "                           refit = 'f1'\n",
    "                          )"
   ]
  },
  {
   "cell_type": "code",
   "execution_count": 38,
   "metadata": {
    "scrolled": true
   },
   "outputs": [
    {
     "data": {
      "text/plain": [
       "GridSearchCV(cv=StratifiedKFold(n_splits=5, random_state=None, shuffle=False),\n",
       "             estimator=RandomForestClassifier(n_jobs=-1), n_jobs=-1,\n",
       "             param_grid=[{'bootstrap': [True, False],\n",
       "                          'max_depth': [8, 24, 48, None],\n",
       "                          'max_features': ['auto', 'sqrt'],\n",
       "                          'n_estimators': [50, 150, 300]}],\n",
       "             refit='f1', scoring=['f1', 'accuracy'])"
      ]
     },
     "execution_count": 38,
     "metadata": {},
     "output_type": "execute_result"
    }
   ],
   "source": [
    "grid_search_rf.fit(X_train_rf, y_train_rf)"
   ]
  },
  {
   "cell_type": "code",
   "execution_count": 39,
   "metadata": {
    "scrolled": true
   },
   "outputs": [
    {
     "data": {
      "text/html": [
       "<div>\n",
       "<style scoped>\n",
       "    .dataframe tbody tr th:only-of-type {\n",
       "        vertical-align: middle;\n",
       "    }\n",
       "\n",
       "    .dataframe tbody tr th {\n",
       "        vertical-align: top;\n",
       "    }\n",
       "\n",
       "    .dataframe thead th {\n",
       "        text-align: right;\n",
       "    }\n",
       "</style>\n",
       "<table border=\"1\" class=\"dataframe\">\n",
       "  <thead>\n",
       "    <tr style=\"text-align: right;\">\n",
       "      <th></th>\n",
       "      <th>mean_test_f1</th>\n",
       "      <th>params</th>\n",
       "      <th>mean_test_accuracy</th>\n",
       "    </tr>\n",
       "  </thead>\n",
       "  <tbody>\n",
       "    <tr>\n",
       "      <th>14</th>\n",
       "      <td>0.797609</td>\n",
       "      <td>{'bootstrap': True, 'max_depth': 48, 'max_feat...</td>\n",
       "      <td>0.768369</td>\n",
       "    </tr>\n",
       "    <tr>\n",
       "      <th>17</th>\n",
       "      <td>0.797546</td>\n",
       "      <td>{'bootstrap': True, 'max_depth': 48, 'max_feat...</td>\n",
       "      <td>0.768278</td>\n",
       "    </tr>\n",
       "    <tr>\n",
       "      <th>16</th>\n",
       "      <td>0.796982</td>\n",
       "      <td>{'bootstrap': True, 'max_depth': 48, 'max_feat...</td>\n",
       "      <td>0.767507</td>\n",
       "    </tr>\n",
       "    <tr>\n",
       "      <th>13</th>\n",
       "      <td>0.796856</td>\n",
       "      <td>{'bootstrap': True, 'max_depth': 48, 'max_feat...</td>\n",
       "      <td>0.767646</td>\n",
       "    </tr>\n",
       "    <tr>\n",
       "      <th>15</th>\n",
       "      <td>0.795253</td>\n",
       "      <td>{'bootstrap': True, 'max_depth': 48, 'max_feat...</td>\n",
       "      <td>0.765076</td>\n",
       "    </tr>\n",
       "    <tr>\n",
       "      <th>38</th>\n",
       "      <td>0.795070</td>\n",
       "      <td>{'bootstrap': False, 'max_depth': 48, 'max_fea...</td>\n",
       "      <td>0.764994</td>\n",
       "    </tr>\n",
       "    <tr>\n",
       "      <th>41</th>\n",
       "      <td>0.794698</td>\n",
       "      <td>{'bootstrap': False, 'max_depth': 48, 'max_fea...</td>\n",
       "      <td>0.764789</td>\n",
       "    </tr>\n",
       "    <tr>\n",
       "      <th>37</th>\n",
       "      <td>0.794591</td>\n",
       "      <td>{'bootstrap': False, 'max_depth': 48, 'max_fea...</td>\n",
       "      <td>0.764649</td>\n",
       "    </tr>\n",
       "    <tr>\n",
       "      <th>12</th>\n",
       "      <td>0.794089</td>\n",
       "      <td>{'bootstrap': True, 'max_depth': 48, 'max_feat...</td>\n",
       "      <td>0.764255</td>\n",
       "    </tr>\n",
       "    <tr>\n",
       "      <th>40</th>\n",
       "      <td>0.793898</td>\n",
       "      <td>{'bootstrap': False, 'max_depth': 48, 'max_fea...</td>\n",
       "      <td>0.763968</td>\n",
       "    </tr>\n",
       "    <tr>\n",
       "      <th>36</th>\n",
       "      <td>0.793784</td>\n",
       "      <td>{'bootstrap': False, 'max_depth': 48, 'max_fea...</td>\n",
       "      <td>0.762983</td>\n",
       "    </tr>\n",
       "    <tr>\n",
       "      <th>39</th>\n",
       "      <td>0.792524</td>\n",
       "      <td>{'bootstrap': False, 'max_depth': 48, 'max_fea...</td>\n",
       "      <td>0.762244</td>\n",
       "    </tr>\n",
       "    <tr>\n",
       "      <th>10</th>\n",
       "      <td>0.791666</td>\n",
       "      <td>{'bootstrap': True, 'max_depth': 24, 'max_feat...</td>\n",
       "      <td>0.746275</td>\n",
       "    </tr>\n",
       "    <tr>\n",
       "      <th>34</th>\n",
       "      <td>0.790923</td>\n",
       "      <td>{'bootstrap': False, 'max_depth': 24, 'max_fea...</td>\n",
       "      <td>0.745371</td>\n",
       "    </tr>\n",
       "    <tr>\n",
       "      <th>9</th>\n",
       "      <td>0.790860</td>\n",
       "      <td>{'bootstrap': True, 'max_depth': 24, 'max_feat...</td>\n",
       "      <td>0.744567</td>\n",
       "    </tr>\n",
       "    <tr>\n",
       "      <th>8</th>\n",
       "      <td>0.790847</td>\n",
       "      <td>{'bootstrap': True, 'max_depth': 24, 'max_feat...</td>\n",
       "      <td>0.745117</td>\n",
       "    </tr>\n",
       "    <tr>\n",
       "      <th>6</th>\n",
       "      <td>0.790831</td>\n",
       "      <td>{'bootstrap': True, 'max_depth': 24, 'max_feat...</td>\n",
       "      <td>0.744871</td>\n",
       "    </tr>\n",
       "    <tr>\n",
       "      <th>31</th>\n",
       "      <td>0.790481</td>\n",
       "      <td>{'bootstrap': False, 'max_depth': 24, 'max_fea...</td>\n",
       "      <td>0.744854</td>\n",
       "    </tr>\n",
       "    <tr>\n",
       "      <th>30</th>\n",
       "      <td>0.790465</td>\n",
       "      <td>{'bootstrap': False, 'max_depth': 24, 'max_fea...</td>\n",
       "      <td>0.745051</td>\n",
       "    </tr>\n",
       "    <tr>\n",
       "      <th>11</th>\n",
       "      <td>0.790404</td>\n",
       "      <td>{'bootstrap': True, 'max_depth': 24, 'max_feat...</td>\n",
       "      <td>0.744403</td>\n",
       "    </tr>\n",
       "    <tr>\n",
       "      <th>35</th>\n",
       "      <td>0.790304</td>\n",
       "      <td>{'bootstrap': False, 'max_depth': 24, 'max_fea...</td>\n",
       "      <td>0.744427</td>\n",
       "    </tr>\n",
       "    <tr>\n",
       "      <th>7</th>\n",
       "      <td>0.790294</td>\n",
       "      <td>{'bootstrap': True, 'max_depth': 24, 'max_feat...</td>\n",
       "      <td>0.744279</td>\n",
       "    </tr>\n",
       "    <tr>\n",
       "      <th>32</th>\n",
       "      <td>0.790238</td>\n",
       "      <td>{'bootstrap': False, 'max_depth': 24, 'max_fea...</td>\n",
       "      <td>0.744247</td>\n",
       "    </tr>\n",
       "    <tr>\n",
       "      <th>33</th>\n",
       "      <td>0.789951</td>\n",
       "      <td>{'bootstrap': False, 'max_depth': 24, 'max_fea...</td>\n",
       "      <td>0.743795</td>\n",
       "    </tr>\n",
       "    <tr>\n",
       "      <th>20</th>\n",
       "      <td>0.789727</td>\n",
       "      <td>{'bootstrap': True, 'max_depth': None, 'max_fe...</td>\n",
       "      <td>0.765495</td>\n",
       "    </tr>\n",
       "    <tr>\n",
       "      <th>23</th>\n",
       "      <td>0.789636</td>\n",
       "      <td>{'bootstrap': True, 'max_depth': None, 'max_fe...</td>\n",
       "      <td>0.765290</td>\n",
       "    </tr>\n",
       "    <tr>\n",
       "      <th>22</th>\n",
       "      <td>0.788707</td>\n",
       "      <td>{'bootstrap': True, 'max_depth': None, 'max_fe...</td>\n",
       "      <td>0.764575</td>\n",
       "    </tr>\n",
       "    <tr>\n",
       "      <th>19</th>\n",
       "      <td>0.788049</td>\n",
       "      <td>{'bootstrap': True, 'max_depth': None, 'max_fe...</td>\n",
       "      <td>0.763894</td>\n",
       "    </tr>\n",
       "    <tr>\n",
       "      <th>18</th>\n",
       "      <td>0.785142</td>\n",
       "      <td>{'bootstrap': True, 'max_depth': None, 'max_fe...</td>\n",
       "      <td>0.761710</td>\n",
       "    </tr>\n",
       "    <tr>\n",
       "      <th>21</th>\n",
       "      <td>0.784346</td>\n",
       "      <td>{'bootstrap': True, 'max_depth': None, 'max_fe...</td>\n",
       "      <td>0.760996</td>\n",
       "    </tr>\n",
       "    <tr>\n",
       "      <th>44</th>\n",
       "      <td>0.783657</td>\n",
       "      <td>{'bootstrap': False, 'max_depth': None, 'max_f...</td>\n",
       "      <td>0.758163</td>\n",
       "    </tr>\n",
       "    <tr>\n",
       "      <th>47</th>\n",
       "      <td>0.783398</td>\n",
       "      <td>{'bootstrap': False, 'max_depth': None, 'max_f...</td>\n",
       "      <td>0.757958</td>\n",
       "    </tr>\n",
       "    <tr>\n",
       "      <th>43</th>\n",
       "      <td>0.782886</td>\n",
       "      <td>{'bootstrap': False, 'max_depth': None, 'max_f...</td>\n",
       "      <td>0.757859</td>\n",
       "    </tr>\n",
       "    <tr>\n",
       "      <th>46</th>\n",
       "      <td>0.782568</td>\n",
       "      <td>{'bootstrap': False, 'max_depth': None, 'max_f...</td>\n",
       "      <td>0.757474</td>\n",
       "    </tr>\n",
       "    <tr>\n",
       "      <th>45</th>\n",
       "      <td>0.779695</td>\n",
       "      <td>{'bootstrap': False, 'max_depth': None, 'max_f...</td>\n",
       "      <td>0.755478</td>\n",
       "    </tr>\n",
       "    <tr>\n",
       "      <th>42</th>\n",
       "      <td>0.779321</td>\n",
       "      <td>{'bootstrap': False, 'max_depth': None, 'max_f...</td>\n",
       "      <td>0.754789</td>\n",
       "    </tr>\n",
       "    <tr>\n",
       "      <th>28</th>\n",
       "      <td>0.773959</td>\n",
       "      <td>{'bootstrap': False, 'max_depth': 8, 'max_feat...</td>\n",
       "      <td>0.693876</td>\n",
       "    </tr>\n",
       "    <tr>\n",
       "      <th>25</th>\n",
       "      <td>0.773582</td>\n",
       "      <td>{'bootstrap': False, 'max_depth': 8, 'max_feat...</td>\n",
       "      <td>0.694311</td>\n",
       "    </tr>\n",
       "    <tr>\n",
       "      <th>2</th>\n",
       "      <td>0.773296</td>\n",
       "      <td>{'bootstrap': True, 'max_depth': 8, 'max_featu...</td>\n",
       "      <td>0.695181</td>\n",
       "    </tr>\n",
       "    <tr>\n",
       "      <th>26</th>\n",
       "      <td>0.773059</td>\n",
       "      <td>{'bootstrap': False, 'max_depth': 8, 'max_feat...</td>\n",
       "      <td>0.694705</td>\n",
       "    </tr>\n",
       "    <tr>\n",
       "      <th>29</th>\n",
       "      <td>0.772964</td>\n",
       "      <td>{'bootstrap': False, 'max_depth': 8, 'max_feat...</td>\n",
       "      <td>0.694163</td>\n",
       "    </tr>\n",
       "    <tr>\n",
       "      <th>4</th>\n",
       "      <td>0.772654</td>\n",
       "      <td>{'bootstrap': True, 'max_depth': 8, 'max_featu...</td>\n",
       "      <td>0.694336</td>\n",
       "    </tr>\n",
       "    <tr>\n",
       "      <th>5</th>\n",
       "      <td>0.772331</td>\n",
       "      <td>{'bootstrap': True, 'max_depth': 8, 'max_featu...</td>\n",
       "      <td>0.694098</td>\n",
       "    </tr>\n",
       "    <tr>\n",
       "      <th>1</th>\n",
       "      <td>0.771784</td>\n",
       "      <td>{'bootstrap': True, 'max_depth': 8, 'max_featu...</td>\n",
       "      <td>0.693252</td>\n",
       "    </tr>\n",
       "    <tr>\n",
       "      <th>27</th>\n",
       "      <td>0.771406</td>\n",
       "      <td>{'bootstrap': False, 'max_depth': 8, 'max_feat...</td>\n",
       "      <td>0.691093</td>\n",
       "    </tr>\n",
       "    <tr>\n",
       "      <th>3</th>\n",
       "      <td>0.770246</td>\n",
       "      <td>{'bootstrap': True, 'max_depth': 8, 'max_featu...</td>\n",
       "      <td>0.692636</td>\n",
       "    </tr>\n",
       "    <tr>\n",
       "      <th>0</th>\n",
       "      <td>0.770184</td>\n",
       "      <td>{'bootstrap': True, 'max_depth': 8, 'max_featu...</td>\n",
       "      <td>0.688974</td>\n",
       "    </tr>\n",
       "    <tr>\n",
       "      <th>24</th>\n",
       "      <td>0.769498</td>\n",
       "      <td>{'bootstrap': False, 'max_depth': 8, 'max_feat...</td>\n",
       "      <td>0.690592</td>\n",
       "    </tr>\n",
       "  </tbody>\n",
       "</table>\n",
       "</div>"
      ],
      "text/plain": [
       "    mean_test_f1                                             params  \\\n",
       "14      0.797609  {'bootstrap': True, 'max_depth': 48, 'max_feat...   \n",
       "17      0.797546  {'bootstrap': True, 'max_depth': 48, 'max_feat...   \n",
       "16      0.796982  {'bootstrap': True, 'max_depth': 48, 'max_feat...   \n",
       "13      0.796856  {'bootstrap': True, 'max_depth': 48, 'max_feat...   \n",
       "15      0.795253  {'bootstrap': True, 'max_depth': 48, 'max_feat...   \n",
       "38      0.795070  {'bootstrap': False, 'max_depth': 48, 'max_fea...   \n",
       "41      0.794698  {'bootstrap': False, 'max_depth': 48, 'max_fea...   \n",
       "37      0.794591  {'bootstrap': False, 'max_depth': 48, 'max_fea...   \n",
       "12      0.794089  {'bootstrap': True, 'max_depth': 48, 'max_feat...   \n",
       "40      0.793898  {'bootstrap': False, 'max_depth': 48, 'max_fea...   \n",
       "36      0.793784  {'bootstrap': False, 'max_depth': 48, 'max_fea...   \n",
       "39      0.792524  {'bootstrap': False, 'max_depth': 48, 'max_fea...   \n",
       "10      0.791666  {'bootstrap': True, 'max_depth': 24, 'max_feat...   \n",
       "34      0.790923  {'bootstrap': False, 'max_depth': 24, 'max_fea...   \n",
       "9       0.790860  {'bootstrap': True, 'max_depth': 24, 'max_feat...   \n",
       "8       0.790847  {'bootstrap': True, 'max_depth': 24, 'max_feat...   \n",
       "6       0.790831  {'bootstrap': True, 'max_depth': 24, 'max_feat...   \n",
       "31      0.790481  {'bootstrap': False, 'max_depth': 24, 'max_fea...   \n",
       "30      0.790465  {'bootstrap': False, 'max_depth': 24, 'max_fea...   \n",
       "11      0.790404  {'bootstrap': True, 'max_depth': 24, 'max_feat...   \n",
       "35      0.790304  {'bootstrap': False, 'max_depth': 24, 'max_fea...   \n",
       "7       0.790294  {'bootstrap': True, 'max_depth': 24, 'max_feat...   \n",
       "32      0.790238  {'bootstrap': False, 'max_depth': 24, 'max_fea...   \n",
       "33      0.789951  {'bootstrap': False, 'max_depth': 24, 'max_fea...   \n",
       "20      0.789727  {'bootstrap': True, 'max_depth': None, 'max_fe...   \n",
       "23      0.789636  {'bootstrap': True, 'max_depth': None, 'max_fe...   \n",
       "22      0.788707  {'bootstrap': True, 'max_depth': None, 'max_fe...   \n",
       "19      0.788049  {'bootstrap': True, 'max_depth': None, 'max_fe...   \n",
       "18      0.785142  {'bootstrap': True, 'max_depth': None, 'max_fe...   \n",
       "21      0.784346  {'bootstrap': True, 'max_depth': None, 'max_fe...   \n",
       "44      0.783657  {'bootstrap': False, 'max_depth': None, 'max_f...   \n",
       "47      0.783398  {'bootstrap': False, 'max_depth': None, 'max_f...   \n",
       "43      0.782886  {'bootstrap': False, 'max_depth': None, 'max_f...   \n",
       "46      0.782568  {'bootstrap': False, 'max_depth': None, 'max_f...   \n",
       "45      0.779695  {'bootstrap': False, 'max_depth': None, 'max_f...   \n",
       "42      0.779321  {'bootstrap': False, 'max_depth': None, 'max_f...   \n",
       "28      0.773959  {'bootstrap': False, 'max_depth': 8, 'max_feat...   \n",
       "25      0.773582  {'bootstrap': False, 'max_depth': 8, 'max_feat...   \n",
       "2       0.773296  {'bootstrap': True, 'max_depth': 8, 'max_featu...   \n",
       "26      0.773059  {'bootstrap': False, 'max_depth': 8, 'max_feat...   \n",
       "29      0.772964  {'bootstrap': False, 'max_depth': 8, 'max_feat...   \n",
       "4       0.772654  {'bootstrap': True, 'max_depth': 8, 'max_featu...   \n",
       "5       0.772331  {'bootstrap': True, 'max_depth': 8, 'max_featu...   \n",
       "1       0.771784  {'bootstrap': True, 'max_depth': 8, 'max_featu...   \n",
       "27      0.771406  {'bootstrap': False, 'max_depth': 8, 'max_feat...   \n",
       "3       0.770246  {'bootstrap': True, 'max_depth': 8, 'max_featu...   \n",
       "0       0.770184  {'bootstrap': True, 'max_depth': 8, 'max_featu...   \n",
       "24      0.769498  {'bootstrap': False, 'max_depth': 8, 'max_feat...   \n",
       "\n",
       "    mean_test_accuracy  \n",
       "14            0.768369  \n",
       "17            0.768278  \n",
       "16            0.767507  \n",
       "13            0.767646  \n",
       "15            0.765076  \n",
       "38            0.764994  \n",
       "41            0.764789  \n",
       "37            0.764649  \n",
       "12            0.764255  \n",
       "40            0.763968  \n",
       "36            0.762983  \n",
       "39            0.762244  \n",
       "10            0.746275  \n",
       "34            0.745371  \n",
       "9             0.744567  \n",
       "8             0.745117  \n",
       "6             0.744871  \n",
       "31            0.744854  \n",
       "30            0.745051  \n",
       "11            0.744403  \n",
       "35            0.744427  \n",
       "7             0.744279  \n",
       "32            0.744247  \n",
       "33            0.743795  \n",
       "20            0.765495  \n",
       "23            0.765290  \n",
       "22            0.764575  \n",
       "19            0.763894  \n",
       "18            0.761710  \n",
       "21            0.760996  \n",
       "44            0.758163  \n",
       "47            0.757958  \n",
       "43            0.757859  \n",
       "46            0.757474  \n",
       "45            0.755478  \n",
       "42            0.754789  \n",
       "28            0.693876  \n",
       "25            0.694311  \n",
       "2             0.695181  \n",
       "26            0.694705  \n",
       "29            0.694163  \n",
       "4             0.694336  \n",
       "5             0.694098  \n",
       "1             0.693252  \n",
       "27            0.691093  \n",
       "3             0.692636  \n",
       "0             0.688974  \n",
       "24            0.690592  "
      ]
     },
     "execution_count": 39,
     "metadata": {},
     "output_type": "execute_result"
    }
   ],
   "source": [
    "results_rf = pd.DataFrame(grid_search_rf.cv_results_)[['mean_test_f1','params','mean_test_accuracy']]\n",
    "results_rf.sort_values(by='mean_test_f1',ascending=False)"
   ]
  },
  {
   "cell_type": "code",
   "execution_count": 40,
   "metadata": {
    "scrolled": false
   },
   "outputs": [
    {
     "name": "stdout",
     "output_type": "stream",
     "text": [
      "best score:  0.7976094474492472\n",
      "best params:  {'bootstrap': True, 'max_depth': 48, 'max_features': 'auto', 'n_estimators': 300}\n"
     ]
    }
   ],
   "source": [
    "print('best score: ',grid_search_rf.best_score_)\n",
    "print('best params: ',grid_search_rf.best_params_)"
   ]
  },
  {
   "cell_type": "markdown",
   "metadata": {},
   "source": [
    "### Randomized search"
   ]
  },
  {
   "cell_type": "code",
   "execution_count": 56,
   "metadata": {},
   "outputs": [],
   "source": [
    "param_grid_rf_r = [\n",
    "    {'max_features': ['auto', 'sqrt'],\n",
    "     'max_depth':[8, 24, 48, None],\n",
    "     'n_estimators':[50, 150, 300],\n",
    "     'bootstrap': [True, False]\n",
    "    }\n",
    "]\n",
    "\n",
    "random_search_rf = RandomizedSearchCV(rf_cls, \n",
    "                           param_distributions= param_grid_rf_r,\n",
    "                           cv=StratifiedKFold(),\n",
    "                           n_jobs=-1,\n",
    "                           scoring=['f1','accuracy'],\n",
    "                           refit = 'f1'\n",
    "                          )"
   ]
  },
  {
   "cell_type": "code",
   "execution_count": 57,
   "metadata": {},
   "outputs": [
    {
     "data": {
      "text/plain": [
       "RandomizedSearchCV(cv=StratifiedKFold(n_splits=5, random_state=None, shuffle=False),\n",
       "                   estimator=RandomForestClassifier(n_jobs=-1), n_jobs=-1,\n",
       "                   param_distributions=[{'bootstrap': [True, False],\n",
       "                                         'max_depth': [8, 24, 48, None],\n",
       "                                         'max_features': ['auto', 'sqrt'],\n",
       "                                         'n_estimators': [50, 150, 300]}],\n",
       "                   refit='f1', scoring=['f1', 'accuracy'])"
      ]
     },
     "execution_count": 57,
     "metadata": {},
     "output_type": "execute_result"
    }
   ],
   "source": [
    "random_search_rf.fit(X_train_rf, y_train_rf)"
   ]
  },
  {
   "cell_type": "code",
   "execution_count": 58,
   "metadata": {
    "scrolled": true
   },
   "outputs": [
    {
     "data": {
      "text/html": [
       "<div>\n",
       "<style scoped>\n",
       "    .dataframe tbody tr th:only-of-type {\n",
       "        vertical-align: middle;\n",
       "    }\n",
       "\n",
       "    .dataframe tbody tr th {\n",
       "        vertical-align: top;\n",
       "    }\n",
       "\n",
       "    .dataframe thead th {\n",
       "        text-align: right;\n",
       "    }\n",
       "</style>\n",
       "<table border=\"1\" class=\"dataframe\">\n",
       "  <thead>\n",
       "    <tr style=\"text-align: right;\">\n",
       "      <th></th>\n",
       "      <th>mean_test_f1</th>\n",
       "      <th>params</th>\n",
       "      <th>mean_test_accuracy</th>\n",
       "    </tr>\n",
       "  </thead>\n",
       "  <tbody>\n",
       "    <tr>\n",
       "      <th>6</th>\n",
       "      <td>0.797668</td>\n",
       "      <td>{'n_estimators': 300, 'max_features': 'auto', ...</td>\n",
       "      <td>0.768508</td>\n",
       "    </tr>\n",
       "    <tr>\n",
       "      <th>4</th>\n",
       "      <td>0.791352</td>\n",
       "      <td>{'n_estimators': 300, 'max_features': 'sqrt', ...</td>\n",
       "      <td>0.746078</td>\n",
       "    </tr>\n",
       "    <tr>\n",
       "      <th>7</th>\n",
       "      <td>0.791201</td>\n",
       "      <td>{'n_estimators': 50, 'max_features': 'auto', '...</td>\n",
       "      <td>0.746094</td>\n",
       "    </tr>\n",
       "    <tr>\n",
       "      <th>5</th>\n",
       "      <td>0.791073</td>\n",
       "      <td>{'n_estimators': 150, 'max_features': 'auto', ...</td>\n",
       "      <td>0.745191</td>\n",
       "    </tr>\n",
       "    <tr>\n",
       "      <th>2</th>\n",
       "      <td>0.790904</td>\n",
       "      <td>{'n_estimators': 150, 'max_features': 'auto', ...</td>\n",
       "      <td>0.745404</td>\n",
       "    </tr>\n",
       "    <tr>\n",
       "      <th>1</th>\n",
       "      <td>0.789529</td>\n",
       "      <td>{'n_estimators': 300, 'max_features': 'auto', ...</td>\n",
       "      <td>0.764994</td>\n",
       "    </tr>\n",
       "    <tr>\n",
       "      <th>9</th>\n",
       "      <td>0.773944</td>\n",
       "      <td>{'n_estimators': 300, 'max_features': 'sqrt', ...</td>\n",
       "      <td>0.696019</td>\n",
       "    </tr>\n",
       "    <tr>\n",
       "      <th>8</th>\n",
       "      <td>0.772015</td>\n",
       "      <td>{'n_estimators': 50, 'max_features': 'sqrt', '...</td>\n",
       "      <td>0.692570</td>\n",
       "    </tr>\n",
       "    <tr>\n",
       "      <th>0</th>\n",
       "      <td>0.771862</td>\n",
       "      <td>{'n_estimators': 50, 'max_features': 'auto', '...</td>\n",
       "      <td>0.691602</td>\n",
       "    </tr>\n",
       "    <tr>\n",
       "      <th>3</th>\n",
       "      <td>0.769666</td>\n",
       "      <td>{'n_estimators': 50, 'max_features': 'sqrt', '...</td>\n",
       "      <td>0.691027</td>\n",
       "    </tr>\n",
       "  </tbody>\n",
       "</table>\n",
       "</div>"
      ],
      "text/plain": [
       "   mean_test_f1                                             params  \\\n",
       "6      0.797668  {'n_estimators': 300, 'max_features': 'auto', ...   \n",
       "4      0.791352  {'n_estimators': 300, 'max_features': 'sqrt', ...   \n",
       "7      0.791201  {'n_estimators': 50, 'max_features': 'auto', '...   \n",
       "5      0.791073  {'n_estimators': 150, 'max_features': 'auto', ...   \n",
       "2      0.790904  {'n_estimators': 150, 'max_features': 'auto', ...   \n",
       "1      0.789529  {'n_estimators': 300, 'max_features': 'auto', ...   \n",
       "9      0.773944  {'n_estimators': 300, 'max_features': 'sqrt', ...   \n",
       "8      0.772015  {'n_estimators': 50, 'max_features': 'sqrt', '...   \n",
       "0      0.771862  {'n_estimators': 50, 'max_features': 'auto', '...   \n",
       "3      0.769666  {'n_estimators': 50, 'max_features': 'sqrt', '...   \n",
       "\n",
       "   mean_test_accuracy  \n",
       "6            0.768508  \n",
       "4            0.746078  \n",
       "7            0.746094  \n",
       "5            0.745191  \n",
       "2            0.745404  \n",
       "1            0.764994  \n",
       "9            0.696019  \n",
       "8            0.692570  \n",
       "0            0.691602  \n",
       "3            0.691027  "
      ]
     },
     "execution_count": 58,
     "metadata": {},
     "output_type": "execute_result"
    }
   ],
   "source": [
    "results_rf_r = pd.DataFrame(random_search_rf.cv_results_)[['mean_test_f1','params','mean_test_accuracy']]\n",
    "results_rf_r.sort_values(by='mean_test_f1',ascending=False)"
   ]
  },
  {
   "cell_type": "code",
   "execution_count": 59,
   "metadata": {},
   "outputs": [
    {
     "name": "stdout",
     "output_type": "stream",
     "text": [
      "best score:  0.7976681199985582\n",
      "best params:  {'n_estimators': 300, 'max_features': 'auto', 'max_depth': 48, 'bootstrap': True}\n"
     ]
    }
   ],
   "source": [
    "print('best score: ',random_search_rf.best_score_)\n",
    "print('best params: ',random_search_rf.best_params_)"
   ]
  },
  {
   "cell_type": "markdown",
   "metadata": {},
   "source": [
    "### Utilizzo best_params"
   ]
  },
  {
   "cell_type": "code",
   "execution_count": 130,
   "metadata": {},
   "outputs": [],
   "source": [
    "rf_cls_bp = RandomForestClassifier(bootstrap=True,\n",
    "                                   n_jobs=-1,\n",
    "                                   max_depth=48,\n",
    "                                   max_features='auto',\n",
    "                                   random_state=1,\n",
    "                                   n_estimators=300) "
   ]
  },
  {
   "cell_type": "code",
   "execution_count": 131,
   "metadata": {},
   "outputs": [],
   "source": [
    "train_sizes_rf, train_scores_rf, test_scores_rf = learning_curve(rf_cls_bp,\n",
    "                                                       X=X_train_rf,\n",
    "                                                       y=y_train_rf,\n",
    "                                                       train_sizes=np.linspace(0.1,1.0,10),\n",
    "                                                       cv=StratifiedKFold(random_state=1, shuffle=True),\n",
    "                                                       n_jobs=-1)"
   ]
  },
  {
   "cell_type": "code",
   "execution_count": 132,
   "metadata": {
    "scrolled": true
   },
   "outputs": [
    {
     "data": {
      "text/plain": [
       "<matplotlib.legend.Legend at 0x2722d6e06a0>"
      ]
     },
     "execution_count": 132,
     "metadata": {},
     "output_type": "execute_result"
    },
    {
     "data": {
      "image/png": "[encoded data removed]",
      "text/plain": [
       "<Figure size 864x504 with 1 Axes>"
      ]
     },
     "metadata": {
      "needs_background": "light"
     },
     "output_type": "display_data"
    }
   ],
   "source": [
    "train_mean_rf = np.mean(train_scores_rf, axis=1)\n",
    "train_std_rf = np.std(train_scores_rf, axis=1)\n",
    "test_mean_rf = np.mean(test_scores_rf, axis=1)\n",
    "test_std_rf = np.std(test_scores_rf, axis=1)\n",
    "\n",
    "fig=plt.figure(figsize=(12,7))\n",
    "ax = fig.add_subplot()\n",
    "ax.plot(train_sizes_rf, train_mean_rf,\n",
    "         color='blue', marker='o',\n",
    "         markersize=5, label='Training accuracy')\n",
    "\n",
    "ax.fill_between(train_sizes_rf,\n",
    "                 train_mean_rf + train_std_rf,\n",
    "                 train_mean_rf - train_std_rf,\n",
    "                 alpha=0.15, color='blue')\n",
    "\n",
    "ax.plot(train_sizes_rf, test_mean_rf,\n",
    "         color='green', linestyle='--',\n",
    "         marker='s', markersize=5,\n",
    "         label='Validation accuracy')\n",
    "\n",
    "ax.fill_between(train_sizes_rf,\n",
    "                 test_mean_rf + train_std_rf,\n",
    "                 test_mean_rf - train_std_rf,\n",
    "                 alpha=0.15, color='green')\n",
    "\n",
    "ax.grid()\n",
    "ax.set_xlabel('Dimensione del training set')\n",
    "ax.set_ylabel('Accuracy')\n",
    "ax.legend(loc='lower right')"
   ]
  },
  {
   "cell_type": "code",
   "execution_count": 134,
   "metadata": {},
   "outputs": [
    {
     "name": "stdout",
     "output_type": "stream",
     "text": [
      "accuracy: 0.9716 - val_accuracy: 0.7677\n"
     ]
    }
   ],
   "source": [
    "print(\"accuracy:\", round(train_mean_rf[-1], 4), \"- val_accuracy:\", round(test_mean_rf[-1], 4))"
   ]
  },
  {
   "cell_type": "code",
   "execution_count": 135,
   "metadata": {},
   "outputs": [
    {
     "name": "stdout",
     "output_type": "stream",
     "text": [
      "val_accuracy: 0.7683\n"
     ]
    },
    {
     "data": {
      "image/png": "[encoded data removed]",
      "text/plain": [
       "<Figure size 432x288 with 2 Axes>"
      ]
     },
     "metadata": {
      "needs_background": "light"
     },
     "output_type": "display_data"
    }
   ],
   "source": [
    "y_train_p_rf = cross_val_predict(rf_cls_bp, X_train_rf, y_train_rf, cv=StratifiedKFold(random_state=1, shuffle=True))\n",
    "print('val_accuracy:', round(accuracy_score(y_train_rf, y_train_p_rf), 4))\n",
    "\n",
    "cm_c_rf = confusion_matrix(y_train_rf, y_train_p_rf)\n",
    "ax= plt.subplot()\n",
    "sns.heatmap(cm_c_rf, annot=False, ax = ax, cmap=\"Greens\", vmin=0, vmax=sum(sum(cm_c_rf))); #annot=True to annotate cells\n",
    "sns.heatmap(cm_c_rf, annot=cm_c_rf, fmt=\"\", cbar=False, cmap=\"Greens\", vmin=0, vmax=sum(sum(cm_c_rf)))\n",
    "\n",
    "# labels, title and ticks\n",
    "ax.set_xlabel('Predicted labels');ax.set_ylabel('True labels'); \n",
    "#ax.set_title('Confusion Matrix'); \n",
    "ax.xaxis.set_ticklabels(['failed', 'successful']); ax.yaxis.set_ticklabels(['failed', 'successful']);\n"
   ]
  },
  {
   "cell_type": "markdown",
   "metadata": {},
   "source": [
    "### Test result"
   ]
  },
  {
   "cell_type": "code",
   "execution_count": 141,
   "metadata": {},
   "outputs": [
    {
     "data": {
      "text/plain": [
       "RandomForestClassifier(max_depth=48, n_estimators=300, n_jobs=-1,\n",
       "                       random_state=1)"
      ]
     },
     "execution_count": 141,
     "metadata": {},
     "output_type": "execute_result"
    }
   ],
   "source": [
    "rf_cls_bp.fit(X_train_rf, y_train_rf)"
   ]
  },
  {
   "cell_type": "code",
   "execution_count": 146,
   "metadata": {},
   "outputs": [
    {
     "name": "stdout",
     "output_type": "stream",
     "text": [
      "Accuracy SCore 0.7703256704980843\n",
      "F1 SCore 0.7702816571327751\n",
      "Precision Score 0.7702403582706459\n",
      "Recall SCore 0.7703256704980843\n"
     ]
    },
    {
     "data": {
      "image/png": "[encoded data removed]",
      "text/plain": [
       "<Figure size 432x288 with 2 Axes>"
      ]
     },
     "metadata": {
      "needs_background": "light"
     },
     "output_type": "display_data"
    }
   ],
   "source": [
    "y_pred_rf = rf_cls_bp.predict(X_test_rf)\n",
    "print(\"Accuracy SCore\", accuracy_score(y_test_rf, y_pred_rf))\n",
    "print(\"F1 SCore\", f1_score(y_test_rf, y_pred_rf, average='weighted'))\n",
    "print(\"Precision Score\", precision_score(y_test_rf, y_pred_rf, average='weighted'))\n",
    "print(\"Recall SCore\", recall_score(y_test_rf, y_pred_rf, average='weighted'))\n",
    "cm_rf = confusion_matrix(y_test_rf, y_pred_rf)\n",
    "ax= plt.subplot()\n",
    "sns.heatmap(cm_rf, annot=False, ax = ax, cmap=\"Greens\", vmin=0, vmax=sum(sum(cm_rf))); #annot=True to annotate cells\n",
    "sns.heatmap(cm_rf, annot=cm_rf, fmt=\"\", cbar=False, cmap=\"Greens\", vmin=0, vmax=sum(sum(cm_rf)))\n",
    "\n",
    "# labels, title and ticks\n",
    "ax.set_xlabel('Predicted labels');ax.set_ylabel('True labels'); \n",
    "#ax.set_title('Confusion Matrix'); \n",
    "ax.xaxis.set_ticklabels(['failed', 'successful']); ax.yaxis.set_ticklabels(['failed', 'successful']);"
   ]
  },
  {
   "cell_type": "markdown",
   "metadata": {},
   "source": [
    "## Neural network"
   ]
  },
  {
   "cell_type": "code",
   "execution_count": 9,
   "metadata": {},
   "outputs": [],
   "source": [
    "data_preprocessing_NN = ColumnTransformer([\n",
    "    ('features_categorical', OneHotEncoder(sparse=False), features_categorical),\n",
    "    ('numeric_robust', RobustScaler(), features_robust),\n",
    "    ('feature_standard', StandardScaler(), features_standard)\n",
    "],\n",
    "    remainder = 'passthrough'\n",
    ")"
   ]
  },
  {
   "cell_type": "code",
   "execution_count": 10,
   "metadata": {},
   "outputs": [
    {
     "name": "stdout",
     "output_type": "stream",
     "text": [
      "<class 'numpy.ndarray'> (173997, 387)\n"
     ]
    }
   ],
   "source": [
    "fm2 = data_preprocessing_NN.fit_transform(ks1)\n",
    "print(type(fm2), fm2.shape)"
   ]
  },
  {
   "cell_type": "code",
   "execution_count": 11,
   "metadata": {},
   "outputs": [
    {
     "data": {
      "text/plain": [
       "((121797, 387), (121797,), (52200, 387), (52200,))"
      ]
     },
     "execution_count": 11,
     "metadata": {},
     "output_type": "execute_result"
    }
   ],
   "source": [
    "X_trainNN, X_testNN, y_trainNN, y_testNN = train_test_split(fm2, ks_label1, test_size=0.3, random_state=45)\n",
    "X_trainNN.shape, y_trainNN.shape, X_testNN.shape, y_testNN.shape"
   ]
  },
  {
   "cell_type": "code",
   "execution_count": 12,
   "metadata": {},
   "outputs": [],
   "source": [
    "def build_model(n_neurons1=300, n_neurons2=200, n_neurons3=100, n_neurons4=50, n_neurons5=10, optimizer='adam', loss='binary_crossentropy', input_shape=[387]):\n",
    "    model = keras.models.Sequential()\n",
    "    model.add(keras.layers.InputLayer(input_shape=input_shape))\n",
    "    model.add(keras.layers.Dense(n_neurons1, activation=\"relu\"))\n",
    "    model.add(keras.layers.Dense(n_neurons2, activation=\"relu\"))\n",
    "    model.add(keras.layers.Dense(n_neurons3, activation=\"relu\"))\n",
    "    model.add(keras.layers.Dense(n_neurons4, activation=\"relu\"))\n",
    "    model.add(keras.layers.Dense(n_neurons5, activation=\"relu\"))\n",
    "    model.add(keras.layers.Dense(1, activation=\"sigmoid\"))\n",
    "    model.compile(loss=loss, optimizer=optimizer,\n",
    "                 metrics =  ['accuracy'])\n",
    "    return model"
   ]
  },
  {
   "cell_type": "markdown",
   "metadata": {},
   "source": [
    "### Randomized search"
   ]
  },
  {
   "cell_type": "code",
   "execution_count": 69,
   "metadata": {},
   "outputs": [],
   "source": [
    "keras_NN = keras.wrappers.scikit_learn.KerasClassifier(build_model)"
   ]
  },
  {
   "cell_type": "markdown",
   "metadata": {},
   "source": [
    "#### 1"
   ]
  },
  {
   "cell_type": "code",
   "execution_count": 70,
   "metadata": {},
   "outputs": [],
   "source": [
    "param_grid_NN = [\n",
    "    {\"n_neurons1\": [150, 300, 450],\n",
    "     \"n_neurons2\": [100, 200, 300],\n",
    "     \"n_neurons3\": [50, 100, 150],\n",
    "     \"n_neurons4\": [25, 50, 75],\n",
    "     \"n_neurons5\": [5, 10, 15],\n",
    "     \"optimizer\": ['SGD', 'Adam', 'AdaDelta']     \n",
    "    }\n",
    "]\n",
    "\n",
    "rand_search_NN = RandomizedSearchCV(keras_NN, \n",
    "                           param_distributions= param_grid_NN,\n",
    "                           cv=5,\n",
    "                           n_jobs=-1,\n",
    "                           scoring=['f1','accuracy'],\n",
    "                           refit = 'f1'\n",
    "                          )"
   ]
  },
  {
   "cell_type": "code",
   "execution_count": 71,
   "metadata": {
    "scrolled": false
   },
   "outputs": [
    {
     "data": {
      "text/plain": [
       "RandomizedSearchCV(cv=5,\n",
       "                   estimator=<tensorflow.python.keras.wrappers.scikit_learn.KerasClassifier object at 0x00000271A2FFD7F0>,\n",
       "                   n_jobs=-1,\n",
       "                   param_distributions=[{'n_neurons1': [150, 300, 450],\n",
       "                                         'n_neurons2': [100, 200, 300],\n",
       "                                         'n_neurons3': [50, 100, 150],\n",
       "                                         'n_neurons4': [25, 50, 75],\n",
       "                                         'n_neurons5': [5, 10, 15],\n",
       "                                         'optimizer': ['SGD', 'Adam',\n",
       "                                                       'AdaDelta']}],\n",
       "                   refit='f1', scoring=['f1', 'accuracy'])"
      ]
     },
     "execution_count": 71,
     "metadata": {},
     "output_type": "execute_result"
    }
   ],
   "source": [
    "rand_search_NN.fit(X_trainNN, y_trainNN, epochs=50,\n",
    "                  validation_split=0.3,\n",
    "                  callbacks=[keras.callbacks.EarlyStopping(patience=4)],\n",
    "                  verbose = 0\n",
    "                 )"
   ]
  },
  {
   "cell_type": "code",
   "execution_count": 72,
   "metadata": {},
   "outputs": [
    {
     "name": "stdout",
     "output_type": "stream",
     "text": [
      "best score:  0.7924555570290733\n",
      "best params:  {'optimizer': 'SGD', 'n_neurons5': 5, 'n_neurons4': 50, 'n_neurons3': 50, 'n_neurons2': 200, 'n_neurons1': 300}\n"
     ]
    }
   ],
   "source": [
    "print('best score: ',rand_search_NN.best_score_)\n",
    "print('best params: ',rand_search_NN.best_params_)"
   ]
  },
  {
   "cell_type": "markdown",
   "metadata": {},
   "source": [
    "#### 2"
   ]
  },
  {
   "cell_type": "code",
   "execution_count": 73,
   "metadata": {},
   "outputs": [],
   "source": [
    "rand_search_NN1 = RandomizedSearchCV(keras_NN, \n",
    "                           param_distributions= param_grid_NN,\n",
    "                           cv=5,\n",
    "                           n_jobs=-1,\n",
    "                           scoring=['f1','accuracy'],\n",
    "                           refit = 'f1'\n",
    "                          )"
   ]
  },
  {
   "cell_type": "code",
   "execution_count": 74,
   "metadata": {
    "scrolled": false
   },
   "outputs": [
    {
     "data": {
      "text/plain": [
       "RandomizedSearchCV(cv=5,\n",
       "                   estimator=<tensorflow.python.keras.wrappers.scikit_learn.KerasClassifier object at 0x00000271A2FFD7F0>,\n",
       "                   n_jobs=-1,\n",
       "                   param_distributions=[{'n_neurons1': [150, 300, 450],\n",
       "                                         'n_neurons2': [100, 200, 300],\n",
       "                                         'n_neurons3': [50, 100, 150],\n",
       "                                         'n_neurons4': [25, 50, 75],\n",
       "                                         'n_neurons5': [5, 10, 15],\n",
       "                                         'optimizer': ['SGD', 'Adam',\n",
       "                                                       'AdaDelta']}],\n",
       "                   refit='f1', scoring=['f1', 'accuracy'])"
      ]
     },
     "execution_count": 74,
     "metadata": {},
     "output_type": "execute_result"
    }
   ],
   "source": [
    "rand_search_NN1.fit(X_trainNN, y_trainNN, epochs=50,\n",
    "                  validation_split=0.3,\n",
    "                  callbacks=[keras.callbacks.EarlyStopping(patience=4)],\n",
    "                  verbose = 0\n",
    "                 )"
   ]
  },
  {
   "cell_type": "code",
   "execution_count": 75,
   "metadata": {},
   "outputs": [
    {
     "name": "stdout",
     "output_type": "stream",
     "text": [
      "best score:  0.7912723672738734\n",
      "best params:  {'optimizer': 'Adam', 'n_neurons5': 10, 'n_neurons4': 25, 'n_neurons3': 150, 'n_neurons2': 200, 'n_neurons1': 150}\n"
     ]
    }
   ],
   "source": [
    "print('best score: ',rand_search_NN1.best_score_)\n",
    "print('best params: ',rand_search_NN1.best_params_)"
   ]
  },
  {
   "cell_type": "markdown",
   "metadata": {},
   "source": [
    "#### 3"
   ]
  },
  {
   "cell_type": "code",
   "execution_count": 76,
   "metadata": {},
   "outputs": [],
   "source": [
    "param_grid_NN2 = [\n",
    "    {\"n_neurons1\": [150, 200, 100],\n",
    "     \"n_neurons2\": [400, 200, 300],\n",
    "     \"n_neurons3\": [50, 100, 150],\n",
    "     \"n_neurons4\": [25, 50, 75],\n",
    "     \"n_neurons5\": [5, 10, 15],\n",
    "     \"optimizer\": ['SGD', 'Adam', 'AdaDelta']     \n",
    "    }\n",
    "]\n",
    "\n",
    "rand_search_NN2 = RandomizedSearchCV(keras_NN, \n",
    "                           param_distributions= param_grid_NN2,\n",
    "                           cv=5,\n",
    "                           n_jobs=-1,\n",
    "                           scoring=['f1','accuracy'],\n",
    "                           refit = 'f1'\n",
    "                          )"
   ]
  },
  {
   "cell_type": "code",
   "execution_count": 77,
   "metadata": {
    "scrolled": false
   },
   "outputs": [
    {
     "data": {
      "text/plain": [
       "RandomizedSearchCV(cv=5,\n",
       "                   estimator=<tensorflow.python.keras.wrappers.scikit_learn.KerasClassifier object at 0x00000271A2FFD7F0>,\n",
       "                   n_jobs=-1,\n",
       "                   param_distributions=[{'n_neurons1': [150, 200, 100],\n",
       "                                         'n_neurons2': [400, 200, 300],\n",
       "                                         'n_neurons3': [50, 100, 150],\n",
       "                                         'n_neurons4': [25, 50, 75],\n",
       "                                         'n_neurons5': [5, 10, 15],\n",
       "                                         'optimizer': ['SGD', 'Adam',\n",
       "                                                       'AdaDelta']}],\n",
       "                   refit='f1', scoring=['f1', 'accuracy'])"
      ]
     },
     "execution_count": 77,
     "metadata": {},
     "output_type": "execute_result"
    }
   ],
   "source": [
    "rand_search_NN2.fit(X_trainNN, y_trainNN, epochs=50,\n",
    "                  validation_split=0.3,\n",
    "                  callbacks=[keras.callbacks.EarlyStopping(patience=4)],\n",
    "                  verbose = 0\n",
    "                 )"
   ]
  },
  {
   "cell_type": "code",
   "execution_count": 78,
   "metadata": {},
   "outputs": [
    {
     "name": "stdout",
     "output_type": "stream",
     "text": [
      "best score:  0.7957274592622037\n",
      "best params:  {'optimizer': 'SGD', 'n_neurons5': 10, 'n_neurons4': 75, 'n_neurons3': 50, 'n_neurons2': 200, 'n_neurons1': 200}\n"
     ]
    }
   ],
   "source": [
    "print('best score: ',rand_search_NN2.best_score_)\n",
    "print('best params: ',rand_search_NN2.best_params_)"
   ]
  },
  {
   "cell_type": "markdown",
   "metadata": {},
   "source": [
    "### Utilizzo best_params"
   ]
  },
  {
   "cell_type": "code",
   "execution_count": 79,
   "metadata": {
    "scrolled": true
   },
   "outputs": [
    {
     "name": "stdout",
     "output_type": "stream",
     "text": [
      "Epoch 1/50\n",
      "2665/2665 [==============================] - 4s 1ms/step - loss: 0.6453 - accuracy: 0.6287 - val_loss: 0.5276 - val_accuracy: 0.7254\n",
      "Epoch 2/50\n",
      "2665/2665 [==============================] - 4s 1ms/step - loss: 0.5019 - accuracy: 0.7405 - val_loss: 0.4670 - val_accuracy: 0.7515\n",
      "Epoch 3/50\n",
      "2665/2665 [==============================] - 4s 1ms/step - loss: 0.4569 - accuracy: 0.7600 - val_loss: 0.4473 - val_accuracy: 0.7649\n",
      "Epoch 4/50\n",
      "2665/2665 [==============================] - 3s 1ms/step - loss: 0.4478 - accuracy: 0.7650 - val_loss: 0.4486 - val_accuracy: 0.7637\n",
      "Epoch 5/50\n",
      "2665/2665 [==============================] - 4s 1ms/step - loss: 0.4403 - accuracy: 0.7687 - val_loss: 0.4422 - val_accuracy: 0.7684\n",
      "Epoch 6/50\n",
      "2665/2665 [==============================] - 4s 1ms/step - loss: 0.4399 - accuracy: 0.7703 - val_loss: 0.4468 - val_accuracy: 0.7625\n",
      "Epoch 7/50\n",
      "2665/2665 [==============================] - 4s 1ms/step - loss: 0.4387 - accuracy: 0.7713 - val_loss: 0.4523 - val_accuracy: 0.7601\n",
      "Epoch 8/50\n",
      "2665/2665 [==============================] - 3s 1ms/step - loss: 0.4340 - accuracy: 0.7746 - val_loss: 0.4444 - val_accuracy: 0.7655\n",
      "Epoch 9/50\n",
      "2665/2665 [==============================] - 3s 1ms/step - loss: 0.4629 - accuracy: 0.7553 - val_loss: 0.4939 - val_accuracy: 0.7421\n"
     ]
    }
   ],
   "source": [
    "model_bp = keras.models.Sequential([\n",
    "    keras.layers.Input(shape=(X_trainNN.shape[1:])),\n",
    "    keras.layers.Dense(200, activation=\"relu\"),\n",
    "    keras.layers.Dense(200, activation=\"relu\"),\n",
    "    keras.layers.Dense(50, activation=\"relu\"),\n",
    "    keras.layers.Dense(75, activation=\"relu\"),\n",
    "    keras.layers.Dense(10, activation=\"relu\"),\n",
    "    keras.layers.Dense(1, activation=\"sigmoid\")\n",
    "    ])\n",
    "\n",
    "model_bp.compile(loss = 'binary_crossentropy',\n",
    "              optimizer = 'SGD',\n",
    "              metrics =  ['accuracy']\n",
    "             )\n",
    "\n",
    "history_bp = model_bp.fit(X_trainNN, y_trainNN,\n",
    "                    epochs=50,\n",
    "                    batch_size=None,\n",
    "                    validation_split=0.3,\n",
    "                    callbacks=[keras.callbacks.EarlyStopping(patience=4)]\n",
    "         )"
   ]
  },
  {
   "cell_type": "code",
   "execution_count": 80,
   "metadata": {
    "scrolled": true
   },
   "outputs": [
    {
     "data": {
      "image/png": "[encoded data removed]",
      "text/plain": [
       "<Figure size 864x288 with 1 Axes>"
      ]
     },
     "metadata": {
      "needs_background": "light"
     },
     "output_type": "display_data"
    }
   ],
   "source": [
    "pd.DataFrame(history_bp.history).plot(figsize=(12,4))\n",
    "plt.grid(True)"
   ]
  },
  {
   "cell_type": "markdown",
   "metadata": {},
   "source": [
    "### Test result"
   ]
  },
  {
   "cell_type": "code",
   "execution_count": 81,
   "metadata": {},
   "outputs": [
    {
     "name": "stdout",
     "output_type": "stream",
     "text": [
      "Accuracy SCore 0.7369348659003832\n",
      "F1 SCore 0.7381541073399956\n",
      "Precision Score 0.7432827719245263\n",
      "Recall SCore 0.7369348659003832\n",
      "Confusion Matrix \n",
      " [[16907  5520]\n",
      " [ 8212 21561]]\n"
     ]
    }
   ],
   "source": [
    "y_pred_NN = (model_bp.predict(X_testNN) > 0.5).astype(\"int32\")\n",
    "print(\"Accuracy SCore\", accuracy_score(y_testNN, y_pred_NN))\n",
    "print(\"F1 SCore\", f1_score(y_testNN, y_pred_NN, average='weighted'))\n",
    "print(\"Precision Score\", precision_score(y_testNN, y_pred_NN, average='weighted'))\n",
    "print(\"Recall SCore\", recall_score(y_testNN, y_pred_NN, average='weighted'))\n",
    "print(\"Confusion Matrix \\n\", confusion_matrix(y_testNN, y_pred_NN))"
   ]
  },
  {
   "cell_type": "markdown",
   "metadata": {},
   "source": [
    "### Tune manuale"
   ]
  },
  {
   "cell_type": "markdown",
   "metadata": {},
   "source": [
    "#### 1"
   ]
  },
  {
   "cell_type": "code",
   "execution_count": 82,
   "metadata": {
    "scrolled": true
   },
   "outputs": [
    {
     "name": "stdout",
     "output_type": "stream",
     "text": [
      "Epoch 1/50\n",
      "2665/2665 [==============================] - 5s 2ms/step - loss: 0.6449 - accuracy: 0.6333 - val_loss: 0.5441 - val_accuracy: 0.7102\n",
      "Epoch 2/50\n",
      "2665/2665 [==============================] - 4s 1ms/step - loss: 0.5128 - accuracy: 0.7371 - val_loss: 0.5637 - val_accuracy: 0.7050\n",
      "Epoch 3/50\n",
      "2665/2665 [==============================] - 4s 1ms/step - loss: 0.4612 - accuracy: 0.7584 - val_loss: 0.4765 - val_accuracy: 0.7463\n",
      "Epoch 4/50\n",
      "2665/2665 [==============================] - 4s 1ms/step - loss: 0.4463 - accuracy: 0.7669 - val_loss: 0.4640 - val_accuracy: 0.7569\n",
      "Epoch 5/50\n",
      "2665/2665 [==============================] - 4s 1ms/step - loss: 0.4400 - accuracy: 0.7704 - val_loss: 0.4509 - val_accuracy: 0.7606\n",
      "Epoch 6/50\n",
      "2665/2665 [==============================] - 4s 1ms/step - loss: 0.4390 - accuracy: 0.7693 - val_loss: 0.4732 - val_accuracy: 0.7460\n",
      "Epoch 7/50\n",
      "2665/2665 [==============================] - 4s 1ms/step - loss: 0.4351 - accuracy: 0.7751 - val_loss: 0.4449 - val_accuracy: 0.7660\n",
      "Epoch 8/50\n",
      "2665/2665 [==============================] - 4s 1ms/step - loss: 0.4314 - accuracy: 0.7776 - val_loss: 0.4514 - val_accuracy: 0.7590\n",
      "Epoch 9/50\n",
      "2665/2665 [==============================] - 4s 1ms/step - loss: 0.7316 - accuracy: 0.5999 - val_loss: 0.6782 - val_accuracy: 0.5810\n",
      "Epoch 10/50\n",
      "2665/2665 [==============================] - 4s 1ms/step - loss: 0.6630 - accuracy: 0.6021 - val_loss: 0.5683 - val_accuracy: 0.6368\n",
      "Epoch 11/50\n",
      "2665/2665 [==============================] - 4s 1ms/step - loss: 0.5468 - accuracy: 0.6685 - val_loss: 0.5042 - val_accuracy: 0.7320\n",
      "Epoch 12/50\n",
      "2665/2665 [==============================] - 4s 1ms/step - loss: 0.5229 - accuracy: 0.6972 - val_loss: 0.5399 - val_accuracy: 0.7224\n",
      "Epoch 13/50\n",
      "2665/2665 [==============================] - 4s 1ms/step - loss: 0.4957 - accuracy: 0.7324 - val_loss: 0.5121 - val_accuracy: 0.7201\n"
     ]
    }
   ],
   "source": [
    "model1 = keras.models.Sequential([\n",
    "    keras.layers.Input(shape=(X_trainNN.shape[1:])),\n",
    "    keras.layers.Dense(300, activation=\"relu\"),\n",
    "    keras.layers.Dense(200, activation=\"relu\"),\n",
    "    keras.layers.Dense(100, activation=\"relu\"),\n",
    "    keras.layers.Dense(50, activation=\"relu\"),\n",
    "    keras.layers.Dense(10, activation=\"relu\"),\n",
    "    keras.layers.Dense(1, activation=\"sigmoid\")\n",
    "    ])\n",
    "\n",
    "model1.compile(loss = 'binary_crossentropy',\n",
    "              optimizer = 'sgd',\n",
    "              metrics =  ['accuracy']\n",
    "             )\n",
    "\n",
    "history1 = model1.fit(X_trainNN, y_trainNN,\n",
    "                    epochs=50,\n",
    "                    batch_size=None,\n",
    "                    validation_split=0.3,\n",
    "                    callbacks=[keras.callbacks.EarlyStopping(patience=6)]\n",
    "         )"
   ]
  },
  {
   "cell_type": "code",
   "execution_count": 83,
   "metadata": {
    "scrolled": false
   },
   "outputs": [
    {
     "data": {
      "image/png": "[encoded data removed]",
      "text/plain": [
       "<Figure size 864x288 with 1 Axes>"
      ]
     },
     "metadata": {
      "needs_background": "light"
     },
     "output_type": "display_data"
    }
   ],
   "source": [
    "pd.DataFrame(history1.history).plot(figsize=(12,4))\n",
    "plt.grid(True)"
   ]
  },
  {
   "cell_type": "code",
   "execution_count": 84,
   "metadata": {
    "scrolled": true
   },
   "outputs": [
    {
     "name": "stdout",
     "output_type": "stream",
     "text": [
      "Accuracy SCore 0.7172222222222222\n",
      "F1 SCore 0.7121917354158398\n",
      "Precision Score 0.7831130038770354\n",
      "Recall SCore 0.7172222222222222\n",
      "Confusion Matrix \n",
      " [[20809  1618]\n",
      " [13143 16630]]\n"
     ]
    }
   ],
   "source": [
    "y_pred_NN1 = (model1.predict(X_testNN) > 0.5).astype(\"int32\")\n",
    "print(\"Accuracy SCore\", accuracy_score(y_testNN, y_pred_NN1))\n",
    "print(\"F1 SCore\", f1_score(y_testNN, y_pred_NN1, average='weighted'))\n",
    "print(\"Precision Score\", precision_score(y_testNN, y_pred_NN1, average='weighted'))\n",
    "print(\"Recall SCore\", recall_score(y_testNN, y_pred_NN1, average='weighted'))\n",
    "print(\"Confusion Matrix \\n\", confusion_matrix(y_testNN, y_pred_NN1))"
   ]
  },
  {
   "cell_type": "markdown",
   "metadata": {},
   "source": [
    "#### 11"
   ]
  },
  {
   "cell_type": "code",
   "execution_count": 85,
   "metadata": {
    "scrolled": true
   },
   "outputs": [
    {
     "name": "stdout",
     "output_type": "stream",
     "text": [
      "Epoch 1/50\n",
      "2665/2665 [==============================] - 6s 2ms/step - loss: 0.6503 - accuracy: 0.6264 - val_loss: 0.5820 - val_accuracy: 0.7007\n",
      "Epoch 2/50\n",
      "2665/2665 [==============================] - 5s 2ms/step - loss: 0.5071 - accuracy: 0.7381 - val_loss: 0.4924 - val_accuracy: 0.7278\n",
      "Epoch 3/50\n",
      "2665/2665 [==============================] - 5s 2ms/step - loss: 0.4578 - accuracy: 0.7601 - val_loss: 0.4541 - val_accuracy: 0.7617\n",
      "Epoch 4/50\n",
      "2665/2665 [==============================] - 5s 2ms/step - loss: 0.4458 - accuracy: 0.7666 - val_loss: 0.4432 - val_accuracy: 0.7647\n",
      "Epoch 5/50\n",
      "2665/2665 [==============================] - 5s 2ms/step - loss: 0.4402 - accuracy: 0.7700 - val_loss: 0.4431 - val_accuracy: 0.7673\n",
      "Epoch 6/50\n",
      "2665/2665 [==============================] - 5s 2ms/step - loss: 0.4380 - accuracy: 0.7722 - val_loss: 0.4424 - val_accuracy: 0.7673\n",
      "Epoch 7/50\n",
      "2665/2665 [==============================] - 5s 2ms/step - loss: 0.4308 - accuracy: 0.7773 - val_loss: 0.4442 - val_accuracy: 0.7649\n",
      "Epoch 8/50\n",
      "2665/2665 [==============================] - 5s 2ms/step - loss: 0.4295 - accuracy: 0.7768 - val_loss: 0.4515 - val_accuracy: 0.7641\n",
      "Epoch 9/50\n",
      "2665/2665 [==============================] - 5s 2ms/step - loss: 0.4290 - accuracy: 0.7769 - val_loss: 0.4510 - val_accuracy: 0.7593\n",
      "Epoch 10/50\n",
      "2665/2665 [==============================] - 5s 2ms/step - loss: 0.4264 - accuracy: 0.7808 - val_loss: 0.4401 - val_accuracy: 0.7684\n",
      "Epoch 11/50\n",
      "2665/2665 [==============================] - 5s 2ms/step - loss: 0.4253 - accuracy: 0.7809 - val_loss: 0.4411 - val_accuracy: 0.7678\n",
      "Epoch 12/50\n",
      "2665/2665 [==============================] - 5s 2ms/step - loss: 0.4232 - accuracy: 0.7858 - val_loss: 0.4432 - val_accuracy: 0.7673\n",
      "Epoch 13/50\n",
      "2665/2665 [==============================] - 5s 2ms/step - loss: 0.4177 - accuracy: 0.7878 - val_loss: 0.4392 - val_accuracy: 0.7657\n",
      "Epoch 14/50\n",
      "2665/2665 [==============================] - 5s 2ms/step - loss: 0.4146 - accuracy: 0.7900 - val_loss: 0.4805 - val_accuracy: 0.7498\n",
      "Epoch 15/50\n",
      "2665/2665 [==============================] - 5s 2ms/step - loss: 0.4150 - accuracy: 0.7902 - val_loss: 0.4466 - val_accuracy: 0.7650\n",
      "Epoch 16/50\n",
      "2665/2665 [==============================] - 5s 2ms/step - loss: 0.4098 - accuracy: 0.7922 - val_loss: 0.4475 - val_accuracy: 0.7614\n",
      "Epoch 17/50\n",
      "2665/2665 [==============================] - 5s 2ms/step - loss: 0.4078 - accuracy: 0.7947 - val_loss: 0.4511 - val_accuracy: 0.7669\n",
      "Epoch 18/50\n",
      "2665/2665 [==============================] - 5s 2ms/step - loss: 0.4043 - accuracy: 0.7979 - val_loss: 0.4939 - val_accuracy: 0.7472\n",
      "Epoch 19/50\n",
      "2665/2665 [==============================] - 5s 2ms/step - loss: 0.4022 - accuracy: 0.7981 - val_loss: 0.5317 - val_accuracy: 0.7391\n",
      "Epoch 20/50\n",
      "2665/2665 [==============================] - 5s 2ms/step - loss: 0.4025 - accuracy: 0.7988 - val_loss: 0.6007 - val_accuracy: 0.6886\n",
      "Epoch 21/50\n",
      "2665/2665 [==============================] - 5s 2ms/step - loss: 0.3965 - accuracy: 0.8035 - val_loss: 0.4536 - val_accuracy: 0.7651\n",
      "Epoch 22/50\n",
      "2665/2665 [==============================] - 5s 2ms/step - loss: 0.3932 - accuracy: 0.8030 - val_loss: 0.4578 - val_accuracy: 0.7618\n",
      "Epoch 23/50\n",
      "2665/2665 [==============================] - 5s 2ms/step - loss: 0.3913 - accuracy: 0.8055 - val_loss: 0.4550 - val_accuracy: 0.7636\n",
      "Epoch 24/50\n",
      "2665/2665 [==============================] - 5s 2ms/step - loss: 0.3904 - accuracy: 0.8060 - val_loss: 0.5359 - val_accuracy: 0.7118\n",
      "Epoch 25/50\n",
      "2665/2665 [==============================] - 5s 2ms/step - loss: 0.3823 - accuracy: 0.8101 - val_loss: 0.4688 - val_accuracy: 0.7541\n",
      "Epoch 26/50\n",
      "2665/2665 [==============================] - 5s 2ms/step - loss: 0.3814 - accuracy: 0.8130 - val_loss: 0.4749 - val_accuracy: 0.7461\n",
      "Epoch 27/50\n",
      "2665/2665 [==============================] - 5s 2ms/step - loss: 0.3777 - accuracy: 0.8140 - val_loss: 0.5024 - val_accuracy: 0.7401\n",
      "Epoch 28/50\n",
      "2665/2665 [==============================] - 5s 2ms/step - loss: 0.3766 - accuracy: 0.8167 - val_loss: 0.4652 - val_accuracy: 0.7555\n",
      "Epoch 29/50\n",
      "2665/2665 [==============================] - 5s 2ms/step - loss: 0.3873 - accuracy: 0.8121 - val_loss: 0.5217 - val_accuracy: 0.7353\n",
      "Epoch 30/50\n",
      "2665/2665 [==============================] - 5s 2ms/step - loss: 0.3718 - accuracy: 0.8192 - val_loss: 0.4939 - val_accuracy: 0.7447\n",
      "Epoch 31/50\n",
      "2665/2665 [==============================] - 5s 2ms/step - loss: 0.3647 - accuracy: 0.8221 - val_loss: 0.4871 - val_accuracy: 0.7485\n",
      "Epoch 32/50\n",
      "2665/2665 [==============================] - 5s 2ms/step - loss: 0.3635 - accuracy: 0.8222 - val_loss: 0.4749 - val_accuracy: 0.7585\n",
      "Epoch 33/50\n",
      "2665/2665 [==============================] - 5s 2ms/step - loss: 0.3584 - accuracy: 0.8273 - val_loss: 0.5497 - val_accuracy: 0.7252\n",
      "Epoch 34/50\n",
      "2665/2665 [==============================] - 5s 2ms/step - loss: 0.3567 - accuracy: 0.8276 - val_loss: 0.4851 - val_accuracy: 0.7492\n",
      "Epoch 35/50\n",
      "2665/2665 [==============================] - 5s 2ms/step - loss: 0.3485 - accuracy: 0.8329 - val_loss: 0.5217 - val_accuracy: 0.7394\n",
      "Epoch 36/50\n",
      "2665/2665 [==============================] - 5s 2ms/step - loss: 0.3437 - accuracy: 0.8350 - val_loss: 0.6507 - val_accuracy: 0.7126\n",
      "Epoch 37/50\n",
      "2665/2665 [==============================] - 5s 2ms/step - loss: 0.3412 - accuracy: 0.8353 - val_loss: 0.5265 - val_accuracy: 0.7390\n",
      "Epoch 38/50\n",
      "2665/2665 [==============================] - 5s 2ms/step - loss: 0.3384 - accuracy: 0.8392 - val_loss: 0.5093 - val_accuracy: 0.7453\n",
      "Epoch 39/50\n",
      "2665/2665 [==============================] - 5s 2ms/step - loss: 0.3338 - accuracy: 0.8404 - val_loss: 0.5441 - val_accuracy: 0.7482\n",
      "Epoch 40/50\n",
      "2665/2665 [==============================] - 5s 2ms/step - loss: 0.3338 - accuracy: 0.8393 - val_loss: 0.5736 - val_accuracy: 0.7364\n",
      "Epoch 41/50\n",
      "2665/2665 [==============================] - 5s 2ms/step - loss: 0.3248 - accuracy: 0.8457 - val_loss: 0.5727 - val_accuracy: 0.7430\n",
      "Epoch 42/50\n",
      "2665/2665 [==============================] - 5s 2ms/step - loss: 0.3195 - accuracy: 0.8486 - val_loss: 0.5469 - val_accuracy: 0.7353\n",
      "Epoch 43/50\n",
      "2665/2665 [==============================] - 5s 2ms/step - loss: 0.3162 - accuracy: 0.8502 - val_loss: 0.5769 - val_accuracy: 0.7402\n",
      "Epoch 44/50\n",
      "2665/2665 [==============================] - 5s 2ms/step - loss: 0.3133 - accuracy: 0.8507 - val_loss: 0.7589 - val_accuracy: 0.7071\n",
      "Epoch 45/50\n",
      "2665/2665 [==============================] - 5s 2ms/step - loss: 0.3122 - accuracy: 0.8521 - val_loss: 0.7540 - val_accuracy: 0.6981\n",
      "Epoch 46/50\n",
      "2665/2665 [==============================] - 5s 2ms/step - loss: 0.3066 - accuracy: 0.8546 - val_loss: 0.5457 - val_accuracy: 0.7507\n",
      "Epoch 47/50\n",
      "2665/2665 [==============================] - 5s 2ms/step - loss: 0.2996 - accuracy: 0.8600 - val_loss: 0.5690 - val_accuracy: 0.7482\n",
      "Epoch 48/50\n",
      "2665/2665 [==============================] - 5s 2ms/step - loss: 0.2972 - accuracy: 0.8606 - val_loss: 0.5906 - val_accuracy: 0.7464\n",
      "Epoch 49/50\n",
      "2665/2665 [==============================] - 5s 2ms/step - loss: 0.2937 - accuracy: 0.8620 - val_loss: 0.5991 - val_accuracy: 0.7404\n",
      "Epoch 50/50\n",
      "2665/2665 [==============================] - 5s 2ms/step - loss: 0.2901 - accuracy: 0.8640 - val_loss: 0.5925 - val_accuracy: 0.7397\n"
     ]
    }
   ],
   "source": [
    "model11 = keras.models.Sequential([\n",
    "    keras.layers.Input(shape=(X_trainNN.shape[1:])),\n",
    "    keras.layers.Dense(500, activation=\"relu\"),\n",
    "    keras.layers.Dense(300, activation=\"relu\"),\n",
    "    keras.layers.Dense(200, activation=\"relu\"),\n",
    "    keras.layers.Dense(100, activation=\"relu\"),\n",
    "    keras.layers.Dense(50, activation=\"relu\"),\n",
    "    keras.layers.Dense(10, activation=\"relu\"),\n",
    "    keras.layers.Dense(1, activation=\"sigmoid\")\n",
    "    ])\n",
    "\n",
    "model11.compile(loss = 'binary_crossentropy',\n",
    "              optimizer = 'sgd',\n",
    "              metrics =  ['accuracy']\n",
    "             )\n",
    "\n",
    "history11 = model11.fit(X_trainNN, y_trainNN,\n",
    "                    epochs=50,\n",
    "                    batch_size=None,\n",
    "                    validation_split=0.3\n",
    "         )"
   ]
  },
  {
   "cell_type": "code",
   "execution_count": 86,
   "metadata": {
    "scrolled": false
   },
   "outputs": [
    {
     "data": {
      "image/png": "[encoded data removed]",
      "text/plain": [
       "<Figure size 864x288 with 1 Axes>"
      ]
     },
     "metadata": {
      "needs_background": "light"
     },
     "output_type": "display_data"
    }
   ],
   "source": [
    "pd.DataFrame(history11.history).plot(figsize=(12,4))\n",
    "plt.grid(True)"
   ]
  },
  {
   "cell_type": "code",
   "execution_count": 87,
   "metadata": {},
   "outputs": [
    {
     "name": "stdout",
     "output_type": "stream",
     "text": [
      "Accuracy SCore 0.7398659003831418\n",
      "F1 SCore 0.7399189913579708\n",
      "Precision Score 0.7399751530789588\n",
      "Recall SCore 0.7398659003831418\n",
      "Confusion Matrix \n",
      " [[15675  6752]\n",
      " [ 6827 22946]]\n"
     ]
    }
   ],
   "source": [
    "y_pred_NN11 = (model11.predict(X_testNN) > 0.5).astype(\"int32\")\n",
    "print(\"Accuracy SCore\", accuracy_score(y_testNN, y_pred_NN11))\n",
    "print(\"F1 SCore\", f1_score(y_testNN, y_pred_NN11, average='weighted'))\n",
    "print(\"Precision Score\", precision_score(y_testNN, y_pred_NN11, average='weighted'))\n",
    "print(\"Recall SCore\", recall_score(y_testNN, y_pred_NN11, average='weighted'))\n",
    "print(\"Confusion Matrix \\n\", confusion_matrix(y_testNN, y_pred_NN11))"
   ]
  },
  {
   "cell_type": "markdown",
   "metadata": {},
   "source": [
    "#### 2"
   ]
  },
  {
   "cell_type": "code",
   "execution_count": 88,
   "metadata": {
    "scrolled": false
   },
   "outputs": [
    {
     "name": "stdout",
     "output_type": "stream",
     "text": [
      "Epoch 1/50\n",
      "2665/2665 [==============================] - 7s 2ms/step - loss: 0.6388 - accuracy: 0.7334 - val_loss: 0.4558 - val_accuracy: 0.7583\n",
      "Epoch 2/50\n",
      "2665/2665 [==============================] - 7s 2ms/step - loss: 0.4553 - accuracy: 0.7606 - val_loss: 0.4507 - val_accuracy: 0.7572\n",
      "Epoch 3/50\n",
      "2665/2665 [==============================] - 6s 2ms/step - loss: 0.4570 - accuracy: 0.7581 - val_loss: 0.4491 - val_accuracy: 0.7639\n",
      "Epoch 4/50\n",
      "2665/2665 [==============================] - 7s 2ms/step - loss: 0.4392 - accuracy: 0.7691 - val_loss: 0.4491 - val_accuracy: 0.7629\n",
      "Epoch 5/50\n",
      "2665/2665 [==============================] - 6s 2ms/step - loss: 0.4431 - accuracy: 0.7675 - val_loss: 0.4429 - val_accuracy: 0.7670\n",
      "Epoch 6/50\n",
      "2665/2665 [==============================] - 6s 2ms/step - loss: 0.4522 - accuracy: 0.7690 - val_loss: 0.4407 - val_accuracy: 0.7661\n",
      "Epoch 7/50\n",
      "2665/2665 [==============================] - 6s 2ms/step - loss: 0.4333 - accuracy: 0.7736 - val_loss: 0.4418 - val_accuracy: 0.7658\n",
      "Epoch 8/50\n",
      "2665/2665 [==============================] - 6s 2ms/step - loss: 0.4312 - accuracy: 0.7749 - val_loss: 0.4464 - val_accuracy: 0.7652\n",
      "Epoch 9/50\n",
      "2665/2665 [==============================] - 6s 2ms/step - loss: 0.4347 - accuracy: 0.7749 - val_loss: 0.4453 - val_accuracy: 0.7674\n",
      "Epoch 10/50\n",
      "2665/2665 [==============================] - 6s 2ms/step - loss: 0.4241 - accuracy: 0.7815 - val_loss: 0.4641 - val_accuracy: 0.7645\n"
     ]
    }
   ],
   "source": [
    "model2 = keras.models.Sequential([\n",
    "    keras.layers.Input(shape=(X_trainNN.shape[1:])),\n",
    "    keras.layers.Dense(500, kernel_initializer=\"he_normal\"),\n",
    "    keras.layers.LeakyReLU(),\n",
    "    keras.layers.Dense(300, kernel_initializer=\"he_normal\"),\n",
    "    keras.layers.LeakyReLU(),\n",
    "    keras.layers.Dense(200, kernel_initializer=\"he_normal\"),\n",
    "    keras.layers.LeakyReLU(),\n",
    "    keras.layers.Dense(100, kernel_initializer=\"he_normal\"),\n",
    "    keras.layers.LeakyReLU(),\n",
    "    keras.layers.Dense(50, kernel_initializer=\"he_normal\"),\n",
    "    keras.layers.LeakyReLU(),\n",
    "    keras.layers.Dense(10, kernel_initializer=\"he_normal\"),\n",
    "    keras.layers.LeakyReLU(),\n",
    "    keras.layers.Dense(1, activation=\"sigmoid\")])\n",
    "model2.compile(loss = 'binary_crossentropy',\n",
    "              optimizer = 'adam',\n",
    "              metrics =  ['accuracy'])\n",
    "history2 = model2.fit(X_trainNN, y_trainNN,\n",
    "                    epochs=50,\n",
    "                    batch_size=None,\n",
    "                    validation_split=0.3,\n",
    "                    callbacks=[keras.callbacks.EarlyStopping(patience=4)])"
   ]
  },
  {
   "cell_type": "code",
   "execution_count": 89,
   "metadata": {
    "scrolled": true
   },
   "outputs": [
    {
     "data": {
      "image/png": "[encoded data removed]",
      "text/plain": [
       "<Figure size 864x288 with 1 Axes>"
      ]
     },
     "metadata": {
      "needs_background": "light"
     },
     "output_type": "display_data"
    }
   ],
   "source": [
    "pd.DataFrame(history2.history).plot(figsize=(12,4))\n",
    "plt.grid(True)"
   ]
  },
  {
   "cell_type": "code",
   "execution_count": 21,
   "metadata": {},
   "outputs": [
    {
     "name": "stdout",
     "output_type": "stream",
     "text": [
      "Accuracy SCore 0.7643295019157088\n",
      "F1 SCore 0.7654850415961921\n",
      "Precision Score 0.7724093049480544\n",
      "Recall SCore 0.7643295019157088\n"
     ]
    },
    {
     "data": {
      "image/png": "[encoded data removed]",
      "text/plain": [
       "<Figure size 432x288 with 2 Axes>"
      ]
     },
     "metadata": {
      "needs_background": "light"
     },
     "output_type": "display_data"
    }
   ],
   "source": [
    "y_pred_NN2 = (model2.predict(X_testNN) > 0.5).astype(\"int32\")\n",
    "print(\"Accuracy SCore\", accuracy_score(y_testNN, y_pred_NN2))\n",
    "print(\"F1 SCore\", f1_score(y_testNN, y_pred_NN2, average='weighted'))\n",
    "print(\"Precision Score\", precision_score(y_testNN, y_pred_NN2, average='weighted'))\n",
    "print(\"Recall SCore\", recall_score(y_testNN, y_pred_NN2, average='weighted'))\n",
    "cm_NN = confusion_matrix(y_testNN, y_pred_NN2)\n",
    "ax= plt.subplot()\n",
    "sns.heatmap(cm_NN, annot=False, ax = ax, cmap=\"Greens\", vmin=0, vmax=sum(sum(cm_NN)));\n",
    "sns.heatmap(cm_NN, annot=cm_NN, fmt=\"\", cbar=False, cmap=\"Greens\", vmin=0, vmax=sum(sum(cm_NN)))\n",
    "\n",
    "\n",
    "ax.set_xlabel('Predicted labels');ax.set_ylabel('True labels');  \n",
    "ax.xaxis.set_ticklabels(['failed', 'successful']); ax.yaxis.set_ticklabels(['failed', 'successful']);"
   ]
  },
  {
   "cell_type": "markdown",
   "metadata": {},
   "source": [
    "#### 22"
   ]
  },
  {
   "cell_type": "code",
   "execution_count": 91,
   "metadata": {
    "scrolled": true
   },
   "outputs": [
    {
     "name": "stdout",
     "output_type": "stream",
     "text": [
      "Epoch 1/50\n",
      "2665/2665 [==============================] - 6s 2ms/step - loss: 0.6098 - accuracy: 0.6556 - val_loss: 0.5520 - val_accuracy: 0.7027\n",
      "Epoch 2/50\n",
      "2665/2665 [==============================] - 5s 2ms/step - loss: 0.5018 - accuracy: 0.7371 - val_loss: 0.4596 - val_accuracy: 0.7562\n",
      "Epoch 3/50\n",
      "2665/2665 [==============================] - 5s 2ms/step - loss: 0.4594 - accuracy: 0.7597 - val_loss: 0.4545 - val_accuracy: 0.7638\n",
      "Epoch 4/50\n",
      "2665/2665 [==============================] - 5s 2ms/step - loss: 0.4508 - accuracy: 0.7659 - val_loss: 0.4610 - val_accuracy: 0.7531\n",
      "Epoch 5/50\n",
      "2665/2665 [==============================] - 5s 2ms/step - loss: 0.4711 - accuracy: 0.7581 - val_loss: 0.4686 - val_accuracy: 0.7605\n",
      "Epoch 6/50\n",
      "2665/2665 [==============================] - 5s 2ms/step - loss: 0.4643 - accuracy: 0.7596 - val_loss: 0.4667 - val_accuracy: 0.7564\n",
      "Epoch 7/50\n",
      "2665/2665 [==============================] - 5s 2ms/step - loss: 0.4498 - accuracy: 0.7681 - val_loss: 0.4527 - val_accuracy: 0.7654\n",
      "Epoch 8/50\n",
      "2665/2665 [==============================] - 5s 2ms/step - loss: 0.4377 - accuracy: 0.7770 - val_loss: 0.4424 - val_accuracy: 0.7664\n",
      "Epoch 9/50\n",
      "2665/2665 [==============================] - 5s 2ms/step - loss: 0.4382 - accuracy: 0.7718 - val_loss: 0.4413 - val_accuracy: 0.7653\n",
      "Epoch 10/50\n",
      "2665/2665 [==============================] - 5s 2ms/step - loss: 0.4338 - accuracy: 0.7768 - val_loss: 0.4904 - val_accuracy: 0.7319\n",
      "Epoch 11/50\n",
      "2665/2665 [==============================] - 5s 2ms/step - loss: 0.4304 - accuracy: 0.7789 - val_loss: 0.4421 - val_accuracy: 0.7635\n",
      "Epoch 12/50\n",
      "2665/2665 [==============================] - 5s 2ms/step - loss: 0.4266 - accuracy: 0.7821 - val_loss: 0.4466 - val_accuracy: 0.7646\n",
      "Epoch 13/50\n",
      "2665/2665 [==============================] - 5s 2ms/step - loss: 0.4245 - accuracy: 0.7836 - val_loss: 0.5550 - val_accuracy: 0.7320\n",
      "Epoch 14/50\n",
      "2665/2665 [==============================] - 5s 2ms/step - loss: 0.4236 - accuracy: 0.7839 - val_loss: 0.4399 - val_accuracy: 0.7662\n",
      "Epoch 15/50\n",
      "2665/2665 [==============================] - 5s 2ms/step - loss: 0.4242 - accuracy: 0.7849 - val_loss: 0.4704 - val_accuracy: 0.7400\n",
      "Epoch 16/50\n",
      "2665/2665 [==============================] - 5s 2ms/step - loss: 0.4223 - accuracy: 0.7840 - val_loss: 0.4486 - val_accuracy: 0.7583\n",
      "Epoch 17/50\n",
      "2665/2665 [==============================] - 5s 2ms/step - loss: 0.4186 - accuracy: 0.7886 - val_loss: 0.4537 - val_accuracy: 0.7594\n",
      "Epoch 18/50\n",
      "2665/2665 [==============================] - 5s 2ms/step - loss: 0.4145 - accuracy: 0.7907 - val_loss: 0.4381 - val_accuracy: 0.7687\n",
      "Epoch 19/50\n",
      "2665/2665 [==============================] - 5s 2ms/step - loss: 0.4137 - accuracy: 0.7916 - val_loss: 0.4417 - val_accuracy: 0.7658\n",
      "Epoch 20/50\n",
      "2665/2665 [==============================] - 5s 2ms/step - loss: 0.4129 - accuracy: 0.7924 - val_loss: 0.4441 - val_accuracy: 0.7652\n",
      "Epoch 21/50\n",
      "2665/2665 [==============================] - 5s 2ms/step - loss: 0.4094 - accuracy: 0.7934 - val_loss: 0.4596 - val_accuracy: 0.7600\n",
      "Epoch 22/50\n",
      "2665/2665 [==============================] - 5s 2ms/step - loss: 0.4069 - accuracy: 0.7971 - val_loss: 0.4462 - val_accuracy: 0.7633\n",
      "Epoch 23/50\n",
      "2665/2665 [==============================] - 5s 2ms/step - loss: 0.4098 - accuracy: 0.7942 - val_loss: 0.4406 - val_accuracy: 0.7694\n",
      "Epoch 24/50\n",
      "2665/2665 [==============================] - 5s 2ms/step - loss: 0.4047 - accuracy: 0.7982 - val_loss: 0.4433 - val_accuracy: 0.7666\n",
      "Epoch 25/50\n",
      "2665/2665 [==============================] - 5s 2ms/step - loss: 0.4035 - accuracy: 0.7997 - val_loss: 0.4743 - val_accuracy: 0.7545\n",
      "Epoch 26/50\n",
      "2665/2665 [==============================] - 5s 2ms/step - loss: 0.4046 - accuracy: 0.7996 - val_loss: 0.4629 - val_accuracy: 0.7601\n",
      "Epoch 27/50\n",
      "2665/2665 [==============================] - 5s 2ms/step - loss: 0.4004 - accuracy: 0.8026 - val_loss: 0.4618 - val_accuracy: 0.7611\n",
      "Epoch 28/50\n",
      "2665/2665 [==============================] - 5s 2ms/step - loss: 0.3993 - accuracy: 0.7995 - val_loss: 0.4499 - val_accuracy: 0.7615\n",
      "Epoch 29/50\n",
      "2665/2665 [==============================] - 5s 2ms/step - loss: 0.3940 - accuracy: 0.8061 - val_loss: 0.4491 - val_accuracy: 0.7623\n",
      "Epoch 30/50\n",
      "2665/2665 [==============================] - 5s 2ms/step - loss: 0.3965 - accuracy: 0.8033 - val_loss: 0.4558 - val_accuracy: 0.7567\n",
      "Epoch 31/50\n",
      "2665/2665 [==============================] - 5s 2ms/step - loss: 0.3922 - accuracy: 0.8047 - val_loss: 0.4538 - val_accuracy: 0.7625\n",
      "Epoch 32/50\n",
      "2665/2665 [==============================] - 5s 2ms/step - loss: 0.3929 - accuracy: 0.8060 - val_loss: 0.4697 - val_accuracy: 0.7564\n",
      "Epoch 33/50\n",
      "2665/2665 [==============================] - 5s 2ms/step - loss: 0.3882 - accuracy: 0.8100 - val_loss: 0.5493 - val_accuracy: 0.7292\n",
      "Epoch 34/50\n",
      "2665/2665 [==============================] - 5s 2ms/step - loss: 0.3849 - accuracy: 0.8118 - val_loss: 0.4742 - val_accuracy: 0.7519\n",
      "Epoch 35/50\n",
      "2665/2665 [==============================] - 5s 2ms/step - loss: 0.3846 - accuracy: 0.8121 - val_loss: 0.4694 - val_accuracy: 0.7548\n",
      "Epoch 36/50\n",
      "2665/2665 [==============================] - 5s 2ms/step - loss: 0.3834 - accuracy: 0.8125 - val_loss: 0.4673 - val_accuracy: 0.7623\n",
      "Epoch 37/50\n",
      "2665/2665 [==============================] - 5s 2ms/step - loss: 0.3794 - accuracy: 0.8159 - val_loss: 0.4575 - val_accuracy: 0.7616\n",
      "Epoch 38/50\n",
      "2665/2665 [==============================] - 5s 2ms/step - loss: 0.3869 - accuracy: 0.8122 - val_loss: 0.5071 - val_accuracy: 0.7373\n",
      "Epoch 39/50\n",
      "2665/2665 [==============================] - 5s 2ms/step - loss: 0.4317 - accuracy: 0.7857 - val_loss: 0.4688 - val_accuracy: 0.7588\n",
      "Epoch 40/50\n",
      "2665/2665 [==============================] - 5s 2ms/step - loss: 0.4049 - accuracy: 0.8002 - val_loss: 0.4808 - val_accuracy: 0.7454\n",
      "Epoch 41/50\n",
      "2665/2665 [==============================] - 5s 2ms/step - loss: 0.3934 - accuracy: 0.8066 - val_loss: 0.4693 - val_accuracy: 0.7528\n",
      "Epoch 42/50\n",
      "2665/2665 [==============================] - 5s 2ms/step - loss: 0.3894 - accuracy: 0.8107 - val_loss: 0.4618 - val_accuracy: 0.7605\n",
      "Epoch 43/50\n",
      "2665/2665 [==============================] - 5s 2ms/step - loss: 0.3847 - accuracy: 0.8126 - val_loss: 0.4781 - val_accuracy: 0.7542\n",
      "Epoch 44/50\n",
      "2665/2665 [==============================] - 5s 2ms/step - loss: 0.3857 - accuracy: 0.8138 - val_loss: 0.4798 - val_accuracy: 0.7594\n",
      "Epoch 45/50\n",
      "2665/2665 [==============================] - 5s 2ms/step - loss: 0.3768 - accuracy: 0.8175 - val_loss: 0.4807 - val_accuracy: 0.7495\n",
      "Epoch 46/50\n",
      "2665/2665 [==============================] - 5s 2ms/step - loss: 0.3714 - accuracy: 0.8195 - val_loss: 0.5472 - val_accuracy: 0.7331\n",
      "Epoch 47/50\n",
      "2665/2665 [==============================] - 5s 2ms/step - loss: 0.3729 - accuracy: 0.8190 - val_loss: 0.4848 - val_accuracy: 0.7508\n",
      "Epoch 48/50\n",
      "2665/2665 [==============================] - 5s 2ms/step - loss: 0.3661 - accuracy: 0.8249 - val_loss: 0.4837 - val_accuracy: 0.7489\n",
      "Epoch 49/50\n",
      "2665/2665 [==============================] - 5s 2ms/step - loss: 0.3661 - accuracy: 0.8262 - val_loss: 0.5270 - val_accuracy: 0.7375\n",
      "Epoch 50/50\n",
      "2665/2665 [==============================] - 5s 2ms/step - loss: 0.3620 - accuracy: 0.8257 - val_loss: 0.5705 - val_accuracy: 0.7257\n"
     ]
    }
   ],
   "source": [
    "model22 = keras.models.Sequential([\n",
    "    keras.layers.Input(shape=(X_trainNN.shape[1:])),\n",
    "    keras.layers.Dense(500, kernel_initializer=\"he_normal\"),\n",
    "    keras.layers.LeakyReLU(),\n",
    "    keras.layers.Dense(300, kernel_initializer=\"he_normal\"),\n",
    "    keras.layers.LeakyReLU(),\n",
    "    keras.layers.Dense(200, kernel_initializer=\"he_normal\"),\n",
    "    keras.layers.LeakyReLU(),\n",
    "    keras.layers.Dense(100, kernel_initializer=\"he_normal\"),\n",
    "    keras.layers.LeakyReLU(),\n",
    "    keras.layers.Dense(50, kernel_initializer=\"he_normal\"),\n",
    "    keras.layers.LeakyReLU(),\n",
    "    keras.layers.Dense(10, kernel_initializer=\"he_normal\"),\n",
    "    keras.layers.LeakyReLU(),\n",
    "    keras.layers.Dense(1, activation=\"sigmoid\")\n",
    "    ])\n",
    "\n",
    "model22.compile(loss = 'binary_crossentropy',\n",
    "              optimizer = 'sgd',\n",
    "              metrics =  ['accuracy']\n",
    "             )\n",
    "\n",
    "history22 = model22.fit(X_trainNN, y_trainNN,\n",
    "                    epochs=50,\n",
    "                    batch_size=None,\n",
    "                    validation_split=0.3\n",
    "         )"
   ]
  },
  {
   "cell_type": "code",
   "execution_count": 92,
   "metadata": {
    "scrolled": true
   },
   "outputs": [
    {
     "data": {
      "image/png": "[encoded data removed]",
      "text/plain": [
       "<Figure size 864x288 with 1 Axes>"
      ]
     },
     "metadata": {
      "needs_background": "light"
     },
     "output_type": "display_data"
    }
   ],
   "source": [
    "pd.DataFrame(history22.history).plot(figsize=(12,4))\n",
    "plt.grid(True)"
   ]
  },
  {
   "cell_type": "code",
   "execution_count": 93,
   "metadata": {
    "scrolled": true
   },
   "outputs": [
    {
     "name": "stdout",
     "output_type": "stream",
     "text": [
      "Accuracy SCore 0.7258812260536398\n",
      "F1 SCore 0.7267732743158025\n",
      "Precision Score 0.7288575942259623\n",
      "Recall SCore 0.7258812260536398\n",
      "Confusion Matrix \n",
      " [[16021  6406]\n",
      " [ 7903 21870]]\n"
     ]
    }
   ],
   "source": [
    "y_pred_NN22 = (model22.predict(X_testNN) > 0.5).astype(\"int32\")\n",
    "print(\"Accuracy SCore\", accuracy_score(y_testNN, y_pred_NN22))\n",
    "print(\"F1 SCore\", f1_score(y_testNN, y_pred_NN22, average='weighted'))\n",
    "print(\"Precision Score\", precision_score(y_testNN, y_pred_NN22, average='weighted'))\n",
    "print(\"Recall SCore\", recall_score(y_testNN, y_pred_NN22, average='weighted'))\n",
    "print(\"Confusion Matrix \\n\", confusion_matrix(y_testNN, y_pred_NN22))"
   ]
  },
  {
   "cell_type": "markdown",
   "metadata": {},
   "source": [
    "#### 3"
   ]
  },
  {
   "cell_type": "code",
   "execution_count": 94,
   "metadata": {},
   "outputs": [
    {
     "name": "stdout",
     "output_type": "stream",
     "text": [
      "Epoch 1/50\n",
      "2665/2665 [==============================] - 5s 2ms/step - loss: 0.4905 - accuracy: 0.7365 - val_loss: 0.4420 - val_accuracy: 0.7674\n",
      "Epoch 2/50\n",
      "2665/2665 [==============================] - 4s 2ms/step - loss: 0.4385 - accuracy: 0.7699 - val_loss: 0.4341 - val_accuracy: 0.7694\n",
      "Epoch 3/50\n",
      "2665/2665 [==============================] - 4s 2ms/step - loss: 0.4276 - accuracy: 0.7770 - val_loss: 0.4340 - val_accuracy: 0.7724\n",
      "Epoch 4/50\n",
      "2665/2665 [==============================] - 4s 2ms/step - loss: 0.4169 - accuracy: 0.7838 - val_loss: 0.4369 - val_accuracy: 0.7686\n",
      "Epoch 5/50\n",
      "2665/2665 [==============================] - 4s 2ms/step - loss: 0.4104 - accuracy: 0.7884 - val_loss: 0.4389 - val_accuracy: 0.7652\n",
      "Epoch 6/50\n",
      "2665/2665 [==============================] - 4s 2ms/step - loss: 0.3972 - accuracy: 0.7982 - val_loss: 0.4464 - val_accuracy: 0.7652\n",
      "Epoch 7/50\n",
      "2665/2665 [==============================] - 4s 2ms/step - loss: 0.3840 - accuracy: 0.8070 - val_loss: 0.4584 - val_accuracy: 0.7635\n"
     ]
    }
   ],
   "source": [
    "model3 = keras.models.Sequential([\n",
    "    keras.layers.Input(shape=(X_trainNN.shape[1:])),\n",
    "    keras.layers.Dense(300, activation=\"relu\"),\n",
    "    keras.layers.Dense(200, activation=\"relu\"),\n",
    "    keras.layers.Dense(100, activation=\"relu\"),\n",
    "    keras.layers.Dense(50, activation=\"relu\"),\n",
    "    keras.layers.Dense(10, activation=\"relu\"),\n",
    "    keras.layers.Dense(1, activation=\"sigmoid\")\n",
    "    ])\n",
    "\n",
    "model3.compile(loss = 'binary_crossentropy',\n",
    "              optimizer = 'adam',\n",
    "              metrics =  ['accuracy']\n",
    "             )\n",
    "\n",
    "history3 = model3.fit(X_trainNN, y_trainNN,\n",
    "                    epochs=50,\n",
    "                    batch_size=None,\n",
    "                    validation_split=0.3,\n",
    "                    callbacks=[keras.callbacks.EarlyStopping(patience=4)]\n",
    "         )"
   ]
  },
  {
   "cell_type": "code",
   "execution_count": 95,
   "metadata": {
    "scrolled": true
   },
   "outputs": [
    {
     "data": {
      "image/png": "[encoded data removed]",
      "text/plain": [
       "<Figure size 864x288 with 1 Axes>"
      ]
     },
     "metadata": {
      "needs_background": "light"
     },
     "output_type": "display_data"
    }
   ],
   "source": [
    "pd.DataFrame(history3.history).plot(figsize=(12,4))\n",
    "plt.grid(True)"
   ]
  },
  {
   "cell_type": "code",
   "execution_count": 96,
   "metadata": {},
   "outputs": [
    {
     "name": "stdout",
     "output_type": "stream",
     "text": [
      "Accuracy SCore 0.7609770114942529\n",
      "F1 SCore 0.7612500364253222\n",
      "Precision Score 0.7616331759697886\n",
      "Recall SCore 0.7609770114942529\n",
      "Confusion Matrix \n",
      " [[16410  6017]\n",
      " [ 6460 23313]]\n"
     ]
    }
   ],
   "source": [
    "y_pred_NN3 = (model3.predict(X_testNN) > 0.5).astype(\"int32\")\n",
    "print(\"Accuracy SCore\", accuracy_score(y_testNN, y_pred_NN3))\n",
    "print(\"F1 SCore\", f1_score(y_testNN, y_pred_NN3, average='weighted'))\n",
    "print(\"Precision Score\", precision_score(y_testNN, y_pred_NN3, average='weighted'))\n",
    "print(\"Recall SCore\", recall_score(y_testNN, y_pred_NN3, average='weighted'))\n",
    "print(\"Confusion Matrix \\n\", confusion_matrix(y_testNN, y_pred_NN3))"
   ]
  },
  {
   "cell_type": "markdown",
   "metadata": {},
   "source": [
    "#### 4"
   ]
  },
  {
   "cell_type": "code",
   "execution_count": 97,
   "metadata": {
    "scrolled": true
   },
   "outputs": [
    {
     "name": "stdout",
     "output_type": "stream",
     "text": [
      "Epoch 1/50\n",
      "2665/2665 [==============================] - 4s 2ms/step - loss: 0.6739 - accuracy: 0.6056 - val_loss: 0.6388 - val_accuracy: 0.6467\n",
      "Epoch 2/50\n",
      "2665/2665 [==============================] - 4s 1ms/step - loss: 0.6387 - accuracy: 0.6435 - val_loss: 0.6237 - val_accuracy: 0.6561\n",
      "Epoch 3/50\n",
      "2665/2665 [==============================] - 4s 1ms/step - loss: 0.6262 - accuracy: 0.6525 - val_loss: 0.6107 - val_accuracy: 0.6665\n",
      "Epoch 4/50\n",
      "2665/2665 [==============================] - 4s 1ms/step - loss: 0.6109 - accuracy: 0.6680 - val_loss: 0.5947 - val_accuracy: 0.6836\n",
      "Epoch 5/50\n",
      "2665/2665 [==============================] - 4s 1ms/step - loss: 0.5927 - accuracy: 0.6847 - val_loss: 0.5736 - val_accuracy: 0.7008\n",
      "Epoch 6/50\n",
      "2665/2665 [==============================] - 4s 1ms/step - loss: 0.5732 - accuracy: 0.6996 - val_loss: 0.5478 - val_accuracy: 0.7173\n",
      "Epoch 7/50\n",
      "2665/2665 [==============================] - 4s 1ms/step - loss: 0.5562 - accuracy: 0.7125 - val_loss: 0.5418 - val_accuracy: 0.7218\n",
      "Epoch 8/50\n",
      "2665/2665 [==============================] - 4s 1ms/step - loss: 0.5349 - accuracy: 0.7220 - val_loss: 0.5098 - val_accuracy: 0.7349\n",
      "Epoch 9/50\n",
      "2665/2665 [==============================] - 4s 1ms/step - loss: 0.5050 - accuracy: 0.7375 - val_loss: 0.4905 - val_accuracy: 0.7451\n",
      "Epoch 10/50\n",
      "2665/2665 [==============================] - 4s 1ms/step - loss: 0.4853 - accuracy: 0.7474 - val_loss: 0.4744 - val_accuracy: 0.7527\n",
      "Epoch 11/50\n",
      "2665/2665 [==============================] - 4s 1ms/step - loss: 0.4715 - accuracy: 0.7551 - val_loss: 0.4675 - val_accuracy: 0.7533\n",
      "Epoch 12/50\n",
      "2665/2665 [==============================] - 4s 1ms/step - loss: 0.4622 - accuracy: 0.7582 - val_loss: 0.4601 - val_accuracy: 0.7576\n",
      "Epoch 13/50\n",
      "2665/2665 [==============================] - 4s 1ms/step - loss: 0.4538 - accuracy: 0.7619 - val_loss: 0.4577 - val_accuracy: 0.7573\n",
      "Epoch 14/50\n",
      "2665/2665 [==============================] - 4s 1ms/step - loss: 0.4521 - accuracy: 0.7632 - val_loss: 0.4532 - val_accuracy: 0.7592\n",
      "Epoch 15/50\n",
      "2665/2665 [==============================] - 4s 1ms/step - loss: 0.4495 - accuracy: 0.7652 - val_loss: 0.4522 - val_accuracy: 0.7596\n",
      "Epoch 16/50\n",
      "2665/2665 [==============================] - 4s 1ms/step - loss: 0.4543 - accuracy: 0.7628 - val_loss: 0.4542 - val_accuracy: 0.7575\n",
      "Epoch 17/50\n",
      "2665/2665 [==============================] - 4s 1ms/step - loss: 0.4484 - accuracy: 0.7652 - val_loss: 0.4502 - val_accuracy: 0.7609\n",
      "Epoch 18/50\n",
      "2665/2665 [==============================] - 4s 1ms/step - loss: 0.4412 - accuracy: 0.7706 - val_loss: 0.4473 - val_accuracy: 0.7623\n",
      "Epoch 19/50\n",
      "2665/2665 [==============================] - 4s 1ms/step - loss: 0.4393 - accuracy: 0.7711 - val_loss: 0.4494 - val_accuracy: 0.7604\n",
      "Epoch 20/50\n",
      "2665/2665 [==============================] - 4s 1ms/step - loss: 0.4389 - accuracy: 0.7723 - val_loss: 0.4512 - val_accuracy: 0.7593\n",
      "Epoch 21/50\n",
      "2665/2665 [==============================] - 4s 1ms/step - loss: 0.4398 - accuracy: 0.7720 - val_loss: 0.4452 - val_accuracy: 0.7635\n",
      "Epoch 22/50\n",
      "2665/2665 [==============================] - 4s 1ms/step - loss: 0.4370 - accuracy: 0.7729 - val_loss: 0.4479 - val_accuracy: 0.7611\n",
      "Epoch 23/50\n",
      "2665/2665 [==============================] - 4s 1ms/step - loss: 0.4352 - accuracy: 0.7746 - val_loss: 0.4449 - val_accuracy: 0.7633\n",
      "Epoch 24/50\n",
      "2665/2665 [==============================] - 4s 1ms/step - loss: 0.4370 - accuracy: 0.7735 - val_loss: 0.4452 - val_accuracy: 0.7643\n",
      "Epoch 25/50\n",
      "2665/2665 [==============================] - 4s 1ms/step - loss: 0.4352 - accuracy: 0.7748 - val_loss: 0.4427 - val_accuracy: 0.7648\n",
      "Epoch 26/50\n",
      "2665/2665 [==============================] - 4s 1ms/step - loss: 0.4336 - accuracy: 0.7759 - val_loss: 0.4463 - val_accuracy: 0.7622\n",
      "Epoch 27/50\n",
      "2665/2665 [==============================] - 4s 1ms/step - loss: 0.4304 - accuracy: 0.7758 - val_loss: 0.4434 - val_accuracy: 0.7645\n",
      "Epoch 28/50\n",
      "2665/2665 [==============================] - 4s 1ms/step - loss: 0.4303 - accuracy: 0.7759 - val_loss: 0.4420 - val_accuracy: 0.7652\n",
      "Epoch 29/50\n",
      "2665/2665 [==============================] - 4s 1ms/step - loss: 0.4326 - accuracy: 0.7764 - val_loss: 0.4429 - val_accuracy: 0.7647\n",
      "Epoch 30/50\n",
      "2665/2665 [==============================] - 4s 1ms/step - loss: 0.4304 - accuracy: 0.7807 - val_loss: 0.4444 - val_accuracy: 0.7631\n",
      "Epoch 31/50\n",
      "2665/2665 [==============================] - 4s 1ms/step - loss: 0.4303 - accuracy: 0.7765 - val_loss: 0.4441 - val_accuracy: 0.7639\n",
      "Epoch 32/50\n",
      "2665/2665 [==============================] - 4s 1ms/step - loss: 0.4282 - accuracy: 0.7779 - val_loss: 0.4423 - val_accuracy: 0.7638\n"
     ]
    }
   ],
   "source": [
    "model4 = keras.models.Sequential([\n",
    "    keras.layers.Input(shape=(X_trainNN.shape[1:])),\n",
    "    keras.layers.Dense(300, activation=\"relu\"),\n",
    "    keras.layers.Dense(200, activation=\"relu\"),\n",
    "    keras.layers.Dense(100, activation=\"relu\"),\n",
    "    keras.layers.Dense(50, activation=\"relu\"),\n",
    "    keras.layers.Dense(10, activation=\"relu\"),\n",
    "    keras.layers.Dense(1, activation=\"sigmoid\")\n",
    "    ])\n",
    "model4.compile(loss = 'binary_crossentropy',\n",
    "              optimizer = keras.optimizers.SGD(lr=1e-3),\n",
    "              metrics =  ['accuracy']\n",
    "             )\n",
    "history4 = model4.fit(X_trainNN, y_trainNN,\n",
    "                    epochs=50,\n",
    "                    batch_size=None,\n",
    "                    validation_split=0.3,\n",
    "                    callbacks=[keras.callbacks.EarlyStopping(patience=4)]\n",
    "         )"
   ]
  },
  {
   "cell_type": "code",
   "execution_count": 98,
   "metadata": {
    "scrolled": false
   },
   "outputs": [
    {
     "data": {
      "image/png": "[encoded data removed]",
      "text/plain": [
       "<Figure size 864x288 with 1 Axes>"
      ]
     },
     "metadata": {
      "needs_background": "light"
     },
     "output_type": "display_data"
    }
   ],
   "source": [
    "pd.DataFrame(history4.history).plot(figsize=(12,4))\n",
    "plt.grid(True)"
   ]
  },
  {
   "cell_type": "code",
   "execution_count": 99,
   "metadata": {},
   "outputs": [
    {
     "name": "stdout",
     "output_type": "stream",
     "text": [
      "Accuracy SCore 0.7629693486590038\n",
      "F1 SCore 0.7639848669689112\n",
      "Precision Score 0.7679192324571159\n",
      "Recall SCore 0.7629693486590038\n",
      "Confusion Matrix \n",
      " [[17383  5044]\n",
      " [ 7329 22444]]\n"
     ]
    }
   ],
   "source": [
    "y_pred_NN4 = (model4.predict(X_testNN) > 0.5).astype(\"int32\")\n",
    "print(\"Accuracy SCore\", accuracy_score(y_testNN, y_pred_NN4))\n",
    "print(\"F1 SCore\", f1_score(y_testNN, y_pred_NN4, average='weighted'))\n",
    "print(\"Precision Score\", precision_score(y_testNN, y_pred_NN4, average='weighted'))\n",
    "print(\"Recall SCore\", recall_score(y_testNN, y_pred_NN4, average='weighted'))\n",
    "print(\"Confusion Matrix \\n\", confusion_matrix(y_testNN, y_pred_NN4))"
   ]
  },
  {
   "cell_type": "markdown",
   "metadata": {},
   "source": [
    "#### 5"
   ]
  },
  {
   "cell_type": "code",
   "execution_count": 100,
   "metadata": {
    "scrolled": true
   },
   "outputs": [
    {
     "name": "stdout",
     "output_type": "stream",
     "text": [
      "Epoch 1/50\n",
      "2665/2665 [==============================] - 8s 2ms/step - loss: 0.5617 - accuracy: 0.6976 - val_loss: 0.5153 - val_accuracy: 0.7361\n",
      "Epoch 2/50\n",
      "2665/2665 [==============================] - 6s 2ms/step - loss: 0.4672 - accuracy: 0.7550 - val_loss: 0.5100 - val_accuracy: 0.7400\n",
      "Epoch 3/50\n",
      "2665/2665 [==============================] - 6s 2ms/step - loss: 0.4595 - accuracy: 0.7566 - val_loss: 0.5121 - val_accuracy: 0.7373\n",
      "Epoch 4/50\n",
      "2665/2665 [==============================] - 6s 2ms/step - loss: 0.4560 - accuracy: 0.7604 - val_loss: 0.5028 - val_accuracy: 0.7394\n",
      "Epoch 5/50\n",
      "2665/2665 [==============================] - 6s 2ms/step - loss: 0.4476 - accuracy: 0.7652 - val_loss: 0.5026 - val_accuracy: 0.7412\n",
      "Epoch 6/50\n",
      "2665/2665 [==============================] - 6s 2ms/step - loss: 0.4454 - accuracy: 0.7651 - val_loss: 0.5030 - val_accuracy: 0.7411\n",
      "Epoch 7/50\n",
      "2665/2665 [==============================] - 6s 2ms/step - loss: 0.4390 - accuracy: 0.7694 - val_loss: 0.5128 - val_accuracy: 0.7412\n",
      "Epoch 8/50\n",
      "2665/2665 [==============================] - 6s 2ms/step - loss: 0.4372 - accuracy: 0.7709 - val_loss: 0.5173 - val_accuracy: 0.7421\n",
      "Epoch 9/50\n",
      "2665/2665 [==============================] - 6s 2ms/step - loss: 0.4327 - accuracy: 0.7750 - val_loss: 0.5019 - val_accuracy: 0.7422\n",
      "Epoch 10/50\n",
      "2665/2665 [==============================] - 6s 2ms/step - loss: 0.4330 - accuracy: 0.7730 - val_loss: 0.5175 - val_accuracy: 0.7391\n",
      "Epoch 11/50\n",
      "2665/2665 [==============================] - 6s 2ms/step - loss: 0.4304 - accuracy: 0.7782 - val_loss: 0.5112 - val_accuracy: 0.7421\n",
      "Epoch 12/50\n",
      "2665/2665 [==============================] - 6s 2ms/step - loss: 0.4259 - accuracy: 0.7808 - val_loss: 0.5283 - val_accuracy: 0.7410\n",
      "Epoch 13/50\n",
      "2665/2665 [==============================] - 6s 2ms/step - loss: 0.4266 - accuracy: 0.7800 - val_loss: 0.5231 - val_accuracy: 0.7405\n"
     ]
    }
   ],
   "source": [
    "model5 = keras.models.Sequential([\n",
    "    keras.layers.Input(shape=(X_trainNN.shape[1:])),\n",
    "    keras.layers.BatchNormalization(),\n",
    "    keras.layers.Dense(300, activation=\"relu\"),\n",
    "    keras.layers.BatchNormalization(),\n",
    "    keras.layers.Dense(200, activation=\"relu\"),\n",
    "    keras.layers.BatchNormalization(),\n",
    "    keras.layers.Dense(100, activation=\"relu\"),\n",
    "    keras.layers.BatchNormalization(),\n",
    "    keras.layers.Dense(50, activation=\"relu\"),\n",
    "    keras.layers.BatchNormalization(),\n",
    "    keras.layers.Dense(10, activation=\"relu\"),\n",
    "    keras.layers.BatchNormalization(),\n",
    "    keras.layers.Dense(1, activation=\"sigmoid\")\n",
    "    ])\n",
    "\n",
    "model5.compile(loss = 'binary_crossentropy',\n",
    "              optimizer = 'sgd',\n",
    "              metrics =  ['accuracy']\n",
    "             )\n",
    "\n",
    "history5 = model5.fit(X_trainNN, y_trainNN,\n",
    "                    epochs=50,\n",
    "                    batch_size=None,\n",
    "                    validation_split=0.3,\n",
    "                    callbacks=[keras.callbacks.EarlyStopping(patience=4)]\n",
    "         )"
   ]
  },
  {
   "cell_type": "code",
   "execution_count": 101,
   "metadata": {
    "scrolled": false
   },
   "outputs": [
    {
     "data": {
      "image/png": "[encoded data removed]",
      "text/plain": [
       "<Figure size 864x288 with 1 Axes>"
      ]
     },
     "metadata": {
      "needs_background": "light"
     },
     "output_type": "display_data"
    }
   ],
   "source": [
    "pd.DataFrame(history5.history).plot(figsize=(12,4))\n",
    "plt.grid(True)"
   ]
  },
  {
   "cell_type": "code",
   "execution_count": 102,
   "metadata": {},
   "outputs": [
    {
     "name": "stdout",
     "output_type": "stream",
     "text": [
      "Accuracy SCore 0.7629693486590038\n",
      "F1 SCore 0.7639848669689112\n",
      "Precision Score 0.7679192324571159\n",
      "Recall SCore 0.7629693486590038\n",
      "Confusion Matrix \n",
      " [[17383  5044]\n",
      " [ 7329 22444]]\n"
     ]
    }
   ],
   "source": [
    "y_pred_NN4 = (model4.predict(X_testNN) > 0.5).astype(\"int32\")\n",
    "print(\"Accuracy SCore\", accuracy_score(y_testNN, y_pred_NN4))\n",
    "print(\"F1 SCore\", f1_score(y_testNN, y_pred_NN4, average='weighted'))\n",
    "print(\"Precision Score\", precision_score(y_testNN, y_pred_NN4, average='weighted'))\n",
    "print(\"Recall SCore\", recall_score(y_testNN, y_pred_NN4, average='weighted'))\n",
    "print(\"Confusion Matrix \\n\", confusion_matrix(y_testNN, y_pred_NN4))"
   ]
  },
  {
   "cell_type": "code",
   "execution_count": null,
   "metadata": {},
   "outputs": [],
   "source": []
  }
 ],
 "metadata": {
  "kernelspec": {
   "display_name": "Python 3",
   "language": "python",
   "name": "python3"
  },
  "language_info": {
   "codemirror_mode": {
    "name": "ipython",
    "version": 3
   },
   "file_extension": ".py",
   "mimetype": "text/x-python",
   "name": "python",
   "nbconvert_exporter": "python",
   "pygments_lexer": "ipython3",
   "version": "3.8.3"
  }
 },
 "nbformat": 4,
 "nbformat_minor": 4
}
