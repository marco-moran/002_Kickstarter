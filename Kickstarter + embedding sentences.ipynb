{
 "cells": [
  {
   "cell_type": "code",
   "execution_count": 1,
   "source": [
    "# Data management\n",
    "import pandas as pd\n",
    "import json\n",
    "from pandas.io.json import json_normalize\n",
    "from pandas.plotting import scatter_matrix\n",
    "from datetime import datetime\n",
    "\n",
    "# Math and Stat modules\n",
    "import numpy as np\n",
    "from scipy.stats import sem\n",
    "from random import choice\n",
    "\n",
    "# Data preprocessing and trasformation (ETL)\n",
    "from sklearn.preprocessing import OneHotEncoder\n",
    "from sklearn.preprocessing import StandardScaler, MinMaxScaler, RobustScaler, MaxAbsScaler, FunctionTransformer, Binarizer, OneHotEncoder, OrdinalEncoder\n",
    "from sklearn.pipeline import Pipeline\n",
    "from sklearn.compose import ColumnTransformer\n",
    "from sklearn.datasets import fetch_openml, load_iris, make_moons, make_classification\n",
    "\n",
    "# Supervised Learning\n",
    "from sklearn.model_selection import train_test_split,cross_validate, cross_val_score, cross_val_predict, KFold, StratifiedKFold, RepeatedKFold, ShuffleSplit, StratifiedShuffleSplit, learning_curve, validation_curve\n",
    "from sklearn.linear_model import Perceptron, LogisticRegression\n",
    "from sklearn.base import BaseEstimator\n",
    "from sklearn.metrics import confusion_matrix, accuracy_score, precision_score, recall_score, f1_score, precision_recall_curve, roc_curve\n",
    "from sklearn.dummy import DummyClassifier\n",
    "from sklearn.multiclass import OneVsOneClassifier, OneVsRestClassifier\n",
    "from sklearn.svm import SVC, LinearSVC\n",
    "from sklearn.tree import DecisionTreeClassifier, DecisionTreeRegressor\n",
    "from sklearn.ensemble import VotingClassifier, BaggingClassifier, RandomForestClassifier, AdaBoostClassifier, GradientBoostingClassifier, ExtraTreesClassifier\n",
    "from sklearn.utils import class_weight\n",
    "from tensorflow import keras\n",
    "import tensorflow as tf\n",
    "import tensorflow_hub as hub\n",
    "\n",
    "# Hyperparameter Optimization\n",
    "from sklearn.model_selection import GridSearchCV, RandomizedSearchCV\n",
    "\n",
    "\n",
    "# Visualization\n",
    "import matplotlib.pyplot as plt\n",
    "import matplotlib as mpl\n",
    "from matplotlib.colors import ListedColormap\n",
    "import seaborn as sns\n",
    "from sklearn.tree import export_graphviz\n",
    "%matplotlib inline"
   ],
   "outputs": [],
   "metadata": {}
  },
  {
   "cell_type": "code",
   "execution_count": 2,
   "source": [
    "# date unix conversion\r\n",
    "def date_f(unix_d):\r\n",
    "    d = datetime.utcfromtimestamp(unix_d).strftime('%Y-%m-%d %H:%M:%S')\r\n",
    "    d1 = datetime.strptime(d, '%Y-%m-%d %H:%M:%S')\r\n",
    "    return d1\r\n",
    "\r\n",
    "# cross-validation model\r\n",
    "def valuta_modello(X, y, model, n_splits=10, shuffle=True):\r\n",
    "    # non avendo comunque un grande sbilanciamento procedo solo con la StratifiedKfold\r\n",
    "    skf = StratifiedKFold(n_splits=n_splits, shuffle=shuffle)\r\n",
    "    s = ['accuracy', 'precision', 'recall', 'f1']\r\n",
    "    print('\\n {}'.format(skf))\r\n",
    "    scores = cross_validate(model, X, y, scoring=s, cv=skf, n_jobs=-1)\r\n",
    "    y_train_predicted = cross_val_predict(model, X, y, cv=skf)\r\n",
    "    for j in s:\r\n",
    "        print('>scoring={} mean={:.4f} se={:.3f}'.format(j, np.mean(scores[('test_'+ j)]), sem(scores[('test_'+ j)])))\r\n",
    "    print('\\n confusion matrix \\n {}'.format(confusion_matrix(y, y_train_predicted)))\r\n",
    "\r\n",
    "# embedding sentences\r\n",
    "def embedding_text(t, model):\r\n",
    "    blurb_l = t.values.tolist()\r\n",
    "    sentence_embeddings = np.asmatrix(model(blurb_l).numpy())\r\n",
    "    return sentence_embeddings"
   ],
   "outputs": [],
   "metadata": {}
  },
  {
   "cell_type": "markdown",
   "source": [
    "## Caricamento dataset e selezione features"
   ],
   "metadata": {}
  },
  {
   "cell_type": "code",
   "execution_count": 3,
   "source": [
    "data = [json.loads(line) for line in open('data3/Kickstarter_2021-01-14T03_20_05_328Z.json', 'r', encoding=\"utf8\")]\r\n",
    "data = pd.json_normalize(data)"
   ],
   "outputs": [],
   "metadata": {}
  },
  {
   "cell_type": "code",
   "execution_count": 4,
   "source": [
    "# keep only the useful columns\r\n",
    "ks = data.iloc[: , [3, 13, 14, 15, 17, 25, 28, 32, 59, 64, 68]]\r\n",
    "\r\n",
    "# rename columns\r\n",
    "ks = ks.rename(lambda x: x.replace(\".\", \"_\"), axis=1)\r\n",
    "ks = ks.rename(lambda x: x.replace(\"data_\", \"\"), axis=1)\r\n",
    "\r\n",
    "# remove records in the columns 'state' with value 'live' and 'canceled'\r\n",
    "ks = ks[ks.state != 'live']\r\n",
    "ks = ks[ks.state != 'canceled']\r\n",
    "\r\n",
    "# remove records in the columns 'id' with value duplicate\r\n",
    "ks = ks.drop_duplicates('id')\r\n",
    "\r\n",
    "# conversion of unix date\r\n",
    "ks['deadline'] = ks['deadline'].apply(date_f)\r\n",
    "ks['launched_at'] = ks['launched_at'].apply(date_f)\r\n",
    "\r\n",
    "# create a column with only the days relating to the funding period\r\n",
    "ks['funding_period'] = (ks['deadline']-ks['launched_at']).dt.days\r\n",
    "\r\n",
    "# create two columns with only the months related to the date of columns 'deadline' and 'launched_at'\r\n",
    "ks['deadline_month'] = ks['deadline'].dt.month\r\n",
    "ks['launched_at_month'] = ks['launched_at'].dt.month\r\n",
    "\r\n",
    "# conversion of the 'goal' currency in USD\r\n",
    "ks['goal'] = ks['goal']*ks['static_usd_rate']\r\n",
    "\r\n",
    "# create two columns with the length of value in the columns 'name' and 'blurb'\r\n",
    "ks['name_l'] = ks['name'].str.len()\r\n",
    "ks['blurb_l'] = ks['blurb'].str.len()\r\n",
    "\r\n",
    "# remove the null values from the column 'location_expanded_country' and reset the index\r\n",
    "ks.dropna(subset=['location_expanded_country'], inplace=True)\r\n",
    "ks.dropna(subset=['category_parent_name'], inplace=True)\r\n",
    "ks = ks.reset_index(drop=True)"
   ],
   "outputs": [],
   "metadata": {}
  },
  {
   "cell_type": "code",
   "execution_count": 5,
   "source": [
    "# extract the label column and remove it from the dataset along with non-useful columns\n",
    "ks_label1 = ks['state'].map(\n",
    "    {'failed':0,\n",
    "     'successful':1\n",
    "    }\n",
    ")\n",
    "ks1 = ks.drop(['id', 'name', 'blurb', 'state', 'deadline', 'launched_at', 'static_usd_rate'], axis=1)"
   ],
   "outputs": [],
   "metadata": {}
  },
  {
   "cell_type": "code",
   "execution_count": 6,
   "source": [
    "ks1.columns = ['goal', 'country', 'main_category', 'sec_category', 'funding_period', 'deadline_month', 'launched_month', 'name_l', 'descr_l']"
   ],
   "outputs": [],
   "metadata": {}
  },
  {
   "cell_type": "code",
   "execution_count": 7,
   "source": [
    "ks1.head()"
   ],
   "outputs": [
    {
     "output_type": "execute_result",
     "data": {
      "text/html": [
       "<div>\n",
       "<style scoped>\n",
       "    .dataframe tbody tr th:only-of-type {\n",
       "        vertical-align: middle;\n",
       "    }\n",
       "\n",
       "    .dataframe tbody tr th {\n",
       "        vertical-align: top;\n",
       "    }\n",
       "\n",
       "    .dataframe thead th {\n",
       "        text-align: right;\n",
       "    }\n",
       "</style>\n",
       "<table border=\"1\" class=\"dataframe\">\n",
       "  <thead>\n",
       "    <tr style=\"text-align: right;\">\n",
       "      <th></th>\n",
       "      <th>goal</th>\n",
       "      <th>country</th>\n",
       "      <th>main_category</th>\n",
       "      <th>sec_category</th>\n",
       "      <th>funding_period</th>\n",
       "      <th>deadline_month</th>\n",
       "      <th>launched_month</th>\n",
       "      <th>name_l</th>\n",
       "      <th>descr_l</th>\n",
       "    </tr>\n",
       "  </thead>\n",
       "  <tbody>\n",
       "    <tr>\n",
       "      <th>0</th>\n",
       "      <td>5227.00000</td>\n",
       "      <td>United States</td>\n",
       "      <td>Community Gardens</td>\n",
       "      <td>Food</td>\n",
       "      <td>29</td>\n",
       "      <td>4</td>\n",
       "      <td>3</td>\n",
       "      <td>29</td>\n",
       "      <td>123</td>\n",
       "    </tr>\n",
       "    <tr>\n",
       "      <th>1</th>\n",
       "      <td>46282.03230</td>\n",
       "      <td>United Kingdom</td>\n",
       "      <td>Drama</td>\n",
       "      <td>Film &amp; Video</td>\n",
       "      <td>30</td>\n",
       "      <td>8</td>\n",
       "      <td>7</td>\n",
       "      <td>15</td>\n",
       "      <td>119</td>\n",
       "    </tr>\n",
       "    <tr>\n",
       "      <th>2</th>\n",
       "      <td>1000.00000</td>\n",
       "      <td>United States</td>\n",
       "      <td>Playing Cards</td>\n",
       "      <td>Games</td>\n",
       "      <td>30</td>\n",
       "      <td>7</td>\n",
       "      <td>6</td>\n",
       "      <td>55</td>\n",
       "      <td>133</td>\n",
       "    </tr>\n",
       "    <tr>\n",
       "      <th>3</th>\n",
       "      <td>1019.89432</td>\n",
       "      <td>Hong Kong</td>\n",
       "      <td>Playing Cards</td>\n",
       "      <td>Games</td>\n",
       "      <td>30</td>\n",
       "      <td>10</td>\n",
       "      <td>9</td>\n",
       "      <td>31</td>\n",
       "      <td>30</td>\n",
       "    </tr>\n",
       "    <tr>\n",
       "      <th>4</th>\n",
       "      <td>550.00000</td>\n",
       "      <td>United States</td>\n",
       "      <td>Textiles</td>\n",
       "      <td>Art</td>\n",
       "      <td>30</td>\n",
       "      <td>2</td>\n",
       "      <td>1</td>\n",
       "      <td>27</td>\n",
       "      <td>124</td>\n",
       "    </tr>\n",
       "  </tbody>\n",
       "</table>\n",
       "</div>"
      ],
      "text/plain": [
       "          goal         country      main_category  sec_category  \\\n",
       "0   5227.00000   United States  Community Gardens          Food   \n",
       "1  46282.03230  United Kingdom              Drama  Film & Video   \n",
       "2   1000.00000   United States      Playing Cards         Games   \n",
       "3   1019.89432       Hong Kong      Playing Cards         Games   \n",
       "4    550.00000   United States           Textiles           Art   \n",
       "\n",
       "   funding_period  deadline_month  launched_month  name_l  descr_l  \n",
       "0              29               4               3      29      123  \n",
       "1              30               8               7      15      119  \n",
       "2              30               7               6      55      133  \n",
       "3              30              10               9      31       30  \n",
       "4              30               2               1      27      124  "
      ]
     },
     "metadata": {},
     "execution_count": 7
    }
   ],
   "metadata": {}
  },
  {
   "cell_type": "markdown",
   "source": [
    "## Analisi dataset"
   ],
   "metadata": {}
  },
  {
   "cell_type": "code",
   "execution_count": 8,
   "source": [
    "print(ks_label1.value_counts())\n",
    "print(ks_label1.value_counts(normalize=True))"
   ],
   "outputs": [
    {
     "output_type": "stream",
     "name": "stdout",
     "text": [
      "1    98965\n",
      "0    75032\n",
      "Name: state, dtype: int64\n",
      "1    0.568774\n",
      "0    0.431226\n",
      "Name: state, dtype: float64\n"
     ]
    }
   ],
   "metadata": {}
  },
  {
   "cell_type": "code",
   "execution_count": 9,
   "source": [
    "ks1.info()"
   ],
   "outputs": [
    {
     "output_type": "stream",
     "name": "stdout",
     "text": [
      "<class 'pandas.core.frame.DataFrame'>\n",
      "RangeIndex: 173997 entries, 0 to 173996\n",
      "Data columns (total 9 columns):\n",
      " #   Column          Non-Null Count   Dtype  \n",
      "---  ------          --------------   -----  \n",
      " 0   goal            173997 non-null  float64\n",
      " 1   country         173997 non-null  object \n",
      " 2   main_category   173997 non-null  object \n",
      " 3   sec_category    173997 non-null  object \n",
      " 4   funding_period  173997 non-null  int64  \n",
      " 5   deadline_month  173997 non-null  int64  \n",
      " 6   launched_month  173997 non-null  int64  \n",
      " 7   name_l          173997 non-null  int64  \n",
      " 8   descr_l         173997 non-null  int64  \n",
      "dtypes: float64(1), int64(5), object(3)\n",
      "memory usage: 11.9+ MB\n"
     ]
    }
   ],
   "metadata": {}
  },
  {
   "cell_type": "code",
   "execution_count": 10,
   "source": [
    "ks1.describe()"
   ],
   "outputs": [
    {
     "output_type": "execute_result",
     "data": {
      "text/html": [
       "<div>\n",
       "<style scoped>\n",
       "    .dataframe tbody tr th:only-of-type {\n",
       "        vertical-align: middle;\n",
       "    }\n",
       "\n",
       "    .dataframe tbody tr th {\n",
       "        vertical-align: top;\n",
       "    }\n",
       "\n",
       "    .dataframe thead th {\n",
       "        text-align: right;\n",
       "    }\n",
       "</style>\n",
       "<table border=\"1\" class=\"dataframe\">\n",
       "  <thead>\n",
       "    <tr style=\"text-align: right;\">\n",
       "      <th></th>\n",
       "      <th>goal</th>\n",
       "      <th>funding_period</th>\n",
       "      <th>deadline_month</th>\n",
       "      <th>launched_month</th>\n",
       "      <th>name_l</th>\n",
       "      <th>descr_l</th>\n",
       "    </tr>\n",
       "  </thead>\n",
       "  <tbody>\n",
       "    <tr>\n",
       "      <th>count</th>\n",
       "      <td>1.739970e+05</td>\n",
       "      <td>173997.000000</td>\n",
       "      <td>173997.000000</td>\n",
       "      <td>173997.000000</td>\n",
       "      <td>173997.000000</td>\n",
       "      <td>173997.000000</td>\n",
       "    </tr>\n",
       "    <tr>\n",
       "      <th>mean</th>\n",
       "      <td>4.069380e+04</td>\n",
       "      <td>32.830445</td>\n",
       "      <td>6.807727</td>\n",
       "      <td>6.495066</td>\n",
       "      <td>34.576700</td>\n",
       "      <td>108.773105</td>\n",
       "    </tr>\n",
       "    <tr>\n",
       "      <th>std</th>\n",
       "      <td>1.126513e+06</td>\n",
       "      <td>12.123884</td>\n",
       "      <td>3.352057</td>\n",
       "      <td>3.324701</td>\n",
       "      <td>15.616727</td>\n",
       "      <td>29.417966</td>\n",
       "    </tr>\n",
       "    <tr>\n",
       "      <th>min</th>\n",
       "      <td>1.000000e-02</td>\n",
       "      <td>1.000000</td>\n",
       "      <td>1.000000</td>\n",
       "      <td>1.000000</td>\n",
       "      <td>1.000000</td>\n",
       "      <td>1.000000</td>\n",
       "    </tr>\n",
       "    <tr>\n",
       "      <th>25%</th>\n",
       "      <td>1.500000e+03</td>\n",
       "      <td>29.000000</td>\n",
       "      <td>4.000000</td>\n",
       "      <td>4.000000</td>\n",
       "      <td>21.000000</td>\n",
       "      <td>94.000000</td>\n",
       "    </tr>\n",
       "    <tr>\n",
       "      <th>50%</th>\n",
       "      <td>5.000000e+03</td>\n",
       "      <td>30.000000</td>\n",
       "      <td>7.000000</td>\n",
       "      <td>7.000000</td>\n",
       "      <td>34.000000</td>\n",
       "      <td>121.000000</td>\n",
       "    </tr>\n",
       "    <tr>\n",
       "      <th>75%</th>\n",
       "      <td>1.280000e+04</td>\n",
       "      <td>35.000000</td>\n",
       "      <td>10.000000</td>\n",
       "      <td>9.000000</td>\n",
       "      <td>48.000000</td>\n",
       "      <td>132.000000</td>\n",
       "    </tr>\n",
       "    <tr>\n",
       "      <th>max</th>\n",
       "      <td>1.523501e+08</td>\n",
       "      <td>91.000000</td>\n",
       "      <td>12.000000</td>\n",
       "      <td>12.000000</td>\n",
       "      <td>85.000000</td>\n",
       "      <td>150.000000</td>\n",
       "    </tr>\n",
       "  </tbody>\n",
       "</table>\n",
       "</div>"
      ],
      "text/plain": [
       "               goal  funding_period  deadline_month  launched_month  \\\n",
       "count  1.739970e+05   173997.000000   173997.000000   173997.000000   \n",
       "mean   4.069380e+04       32.830445        6.807727        6.495066   \n",
       "std    1.126513e+06       12.123884        3.352057        3.324701   \n",
       "min    1.000000e-02        1.000000        1.000000        1.000000   \n",
       "25%    1.500000e+03       29.000000        4.000000        4.000000   \n",
       "50%    5.000000e+03       30.000000        7.000000        7.000000   \n",
       "75%    1.280000e+04       35.000000       10.000000        9.000000   \n",
       "max    1.523501e+08       91.000000       12.000000       12.000000   \n",
       "\n",
       "              name_l        descr_l  \n",
       "count  173997.000000  173997.000000  \n",
       "mean       34.576700     108.773105  \n",
       "std        15.616727      29.417966  \n",
       "min         1.000000       1.000000  \n",
       "25%        21.000000      94.000000  \n",
       "50%        34.000000     121.000000  \n",
       "75%        48.000000     132.000000  \n",
       "max        85.000000     150.000000  "
      ]
     },
     "metadata": {},
     "execution_count": 10
    }
   ],
   "metadata": {
    "scrolled": true
   }
  },
  {
   "cell_type": "code",
   "execution_count": 11,
   "source": [
    "ks1.hist(figsize=(22,9), bins=12)"
   ],
   "outputs": [
    {
     "output_type": "execute_result",
     "data": {
      "text/plain": [
       "array([[<matplotlib.axes._subplots.AxesSubplot object at 0x0000018D0CC3E5E0>,\n",
       "        <matplotlib.axes._subplots.AxesSubplot object at 0x0000018D382BCA90>],\n",
       "       [<matplotlib.axes._subplots.AxesSubplot object at 0x0000018D3DDD0EE0>,\n",
       "        <matplotlib.axes._subplots.AxesSubplot object at 0x0000018D56B103A0>],\n",
       "       [<matplotlib.axes._subplots.AxesSubplot object at 0x0000018D5F0B67F0>,\n",
       "        <matplotlib.axes._subplots.AxesSubplot object at 0x0000018D6859CB80>]],\n",
       "      dtype=object)"
      ]
     },
     "metadata": {},
     "execution_count": 11
    },
    {
     "output_type": "display_data",
     "data": {
      "image/png": "[encoded data removed]",
      "text/plain": [
       "<Figure size 1584x648 with 6 Axes>"
      ]
     },
     "metadata": {
      "needs_background": "light"
     }
    }
   ],
   "metadata": {
    "scrolled": true
   }
  },
  {
   "cell_type": "code",
   "execution_count": 12,
   "source": [
    "import seaborn as sns\n",
    "corr = ks1.corr()\n",
    "sns.heatmap(corr, \n",
    "            xticklabels=corr.columns.values,\n",
    "            yticklabels=corr.columns.values)"
   ],
   "outputs": [
    {
     "output_type": "execute_result",
     "data": {
      "text/plain": [
       "<matplotlib.axes._subplots.AxesSubplot at 0x18c96cf9340>"
      ]
     },
     "metadata": {},
     "execution_count": 12
    },
    {
     "output_type": "display_data",
     "data": {
      "image/png": "[encoded data removed]",
      "text/plain": [
       "<Figure size 432x288 with 2 Axes>"
      ]
     },
     "metadata": {
      "needs_background": "light"
     }
    }
   ],
   "metadata": {}
  },
  {
   "cell_type": "code",
   "execution_count": 13,
   "source": [
    "ks1.boxplot()"
   ],
   "outputs": [
    {
     "output_type": "execute_result",
     "data": {
      "text/plain": [
       "<matplotlib.axes._subplots.AxesSubplot at 0x18c986ea970>"
      ]
     },
     "metadata": {},
     "execution_count": 13
    },
    {
     "output_type": "display_data",
     "data": {
      "image/png": "[encoded data removed]",
      "text/plain": [
       "<Figure size 432x288 with 1 Axes>"
      ]
     },
     "metadata": {
      "needs_background": "light"
     }
    }
   ],
   "metadata": {
    "scrolled": false
   }
  },
  {
   "cell_type": "markdown",
   "source": [
    "## Logistic Regression"
   ],
   "metadata": {}
  },
  {
   "cell_type": "code",
   "execution_count": 7,
   "source": [
    "module_url = \"https://tfhub.dev/google/universal-sentence-encoder/4\" \n",
    "model = hub.load(module_url)\n",
    "print (\"module %s loaded\" % module_url)"
   ],
   "outputs": [
    {
     "output_type": "stream",
     "name": "stdout",
     "text": [
      "module https://tfhub.dev/google/universal-sentence-encoder/4 loaded\n"
     ]
    }
   ],
   "metadata": {}
  },
  {
   "cell_type": "code",
   "execution_count": 8,
   "source": [
    "def embedding_text(t):\n",
    "    blurb_l = t.values.tolist()\n",
    "    sentence_embeddings = np.asmatrix(model(blurb_l).numpy())\n",
    "    return sentence_embeddings"
   ],
   "outputs": [],
   "metadata": {}
  },
  {
   "cell_type": "code",
   "execution_count": 9,
   "source": [
    "# tengo solo i kickstarter che hanno una lingua inglese\n",
    "ksNN = ks.loc[ks['location_expanded_country'].isin(['United States', 'United Kingdom', 'Canada'])]\n",
    "ksNN = ksNN.reset_index(drop=True)\n",
    "# Estraggo la  colonna delle label e la rimuovo dal dataset assieme a colonne non utili\n",
    "ks_label_NN = ksNN['state'].map(\n",
    "    {'failed':0,\n",
    "     'successful':1\n",
    "    }\n",
    ")\n",
    "\n",
    "# rinomino le colonne\n",
    "ksNN.columns = ['id', 'name', 'blurb', 'goal', 'state', 'deadline', 'launched_at', 'static_usd_rate', 'country', 'main_category', 'sec_category', 'funding_period', 'deadline_month', 'launched_month', 'name_l', 'descr_l']\n",
    "# embedding della descrizione 'blurb'\n",
    "ksNN = pd.concat([ksNN, pd.DataFrame(embedding_text(ksNN['blurb']))], axis=1)\n",
    "ksNN = ksNN.drop(['id', 'name', 'blurb', 'state', 'deadline', 'launched_at', 'static_usd_rate'], axis=1)"
   ],
   "outputs": [],
   "metadata": {}
  },
  {
   "cell_type": "code",
   "execution_count": 11,
   "source": [
    "ksNN.head()"
   ],
   "outputs": [
    {
     "output_type": "execute_result",
     "data": {
      "text/html": [
       "<div>\n",
       "<style scoped>\n",
       "    .dataframe tbody tr th:only-of-type {\n",
       "        vertical-align: middle;\n",
       "    }\n",
       "\n",
       "    .dataframe tbody tr th {\n",
       "        vertical-align: top;\n",
       "    }\n",
       "\n",
       "    .dataframe thead th {\n",
       "        text-align: right;\n",
       "    }\n",
       "</style>\n",
       "<table border=\"1\" class=\"dataframe\">\n",
       "  <thead>\n",
       "    <tr style=\"text-align: right;\">\n",
       "      <th></th>\n",
       "      <th>goal</th>\n",
       "      <th>country</th>\n",
       "      <th>main_category</th>\n",
       "      <th>sec_category</th>\n",
       "      <th>funding_period</th>\n",
       "      <th>deadline_month</th>\n",
       "      <th>launched_month</th>\n",
       "      <th>name_l</th>\n",
       "      <th>descr_l</th>\n",
       "      <th>0</th>\n",
       "      <th>...</th>\n",
       "      <th>502</th>\n",
       "      <th>503</th>\n",
       "      <th>504</th>\n",
       "      <th>505</th>\n",
       "      <th>506</th>\n",
       "      <th>507</th>\n",
       "      <th>508</th>\n",
       "      <th>509</th>\n",
       "      <th>510</th>\n",
       "      <th>511</th>\n",
       "    </tr>\n",
       "  </thead>\n",
       "  <tbody>\n",
       "    <tr>\n",
       "      <th>0</th>\n",
       "      <td>5227.0000</td>\n",
       "      <td>United States</td>\n",
       "      <td>Community Gardens</td>\n",
       "      <td>Food</td>\n",
       "      <td>29</td>\n",
       "      <td>4</td>\n",
       "      <td>3</td>\n",
       "      <td>29</td>\n",
       "      <td>123</td>\n",
       "      <td>-0.010829</td>\n",
       "      <td>...</td>\n",
       "      <td>-0.003118</td>\n",
       "      <td>-0.024705</td>\n",
       "      <td>-0.059358</td>\n",
       "      <td>0.056610</td>\n",
       "      <td>-0.089700</td>\n",
       "      <td>0.030305</td>\n",
       "      <td>-0.009304</td>\n",
       "      <td>-0.019028</td>\n",
       "      <td>0.018583</td>\n",
       "      <td>0.023158</td>\n",
       "    </tr>\n",
       "    <tr>\n",
       "      <th>1</th>\n",
       "      <td>46282.0323</td>\n",
       "      <td>United Kingdom</td>\n",
       "      <td>Drama</td>\n",
       "      <td>Film &amp; Video</td>\n",
       "      <td>30</td>\n",
       "      <td>8</td>\n",
       "      <td>7</td>\n",
       "      <td>15</td>\n",
       "      <td>119</td>\n",
       "      <td>0.030061</td>\n",
       "      <td>...</td>\n",
       "      <td>0.043978</td>\n",
       "      <td>0.053403</td>\n",
       "      <td>0.002196</td>\n",
       "      <td>0.019149</td>\n",
       "      <td>0.072489</td>\n",
       "      <td>-0.006856</td>\n",
       "      <td>0.021633</td>\n",
       "      <td>-0.056170</td>\n",
       "      <td>0.021966</td>\n",
       "      <td>0.055888</td>\n",
       "    </tr>\n",
       "    <tr>\n",
       "      <th>2</th>\n",
       "      <td>1000.0000</td>\n",
       "      <td>United States</td>\n",
       "      <td>Playing Cards</td>\n",
       "      <td>Games</td>\n",
       "      <td>30</td>\n",
       "      <td>7</td>\n",
       "      <td>6</td>\n",
       "      <td>55</td>\n",
       "      <td>133</td>\n",
       "      <td>-0.044113</td>\n",
       "      <td>...</td>\n",
       "      <td>0.001915</td>\n",
       "      <td>0.001887</td>\n",
       "      <td>-0.033332</td>\n",
       "      <td>-0.049701</td>\n",
       "      <td>0.051441</td>\n",
       "      <td>0.033418</td>\n",
       "      <td>-0.039642</td>\n",
       "      <td>0.026644</td>\n",
       "      <td>-0.018060</td>\n",
       "      <td>0.010671</td>\n",
       "    </tr>\n",
       "    <tr>\n",
       "      <th>3</th>\n",
       "      <td>550.0000</td>\n",
       "      <td>United States</td>\n",
       "      <td>Textiles</td>\n",
       "      <td>Art</td>\n",
       "      <td>30</td>\n",
       "      <td>2</td>\n",
       "      <td>1</td>\n",
       "      <td>27</td>\n",
       "      <td>124</td>\n",
       "      <td>0.056926</td>\n",
       "      <td>...</td>\n",
       "      <td>-0.046150</td>\n",
       "      <td>0.063592</td>\n",
       "      <td>0.033569</td>\n",
       "      <td>0.033628</td>\n",
       "      <td>-0.049368</td>\n",
       "      <td>-0.049821</td>\n",
       "      <td>-0.072348</td>\n",
       "      <td>0.041021</td>\n",
       "      <td>0.019057</td>\n",
       "      <td>0.024530</td>\n",
       "    </tr>\n",
       "    <tr>\n",
       "      <th>4</th>\n",
       "      <td>20000.0000</td>\n",
       "      <td>United States</td>\n",
       "      <td>Mixed Media</td>\n",
       "      <td>Art</td>\n",
       "      <td>31</td>\n",
       "      <td>11</td>\n",
       "      <td>10</td>\n",
       "      <td>35</td>\n",
       "      <td>98</td>\n",
       "      <td>-0.024801</td>\n",
       "      <td>...</td>\n",
       "      <td>-0.006140</td>\n",
       "      <td>0.043791</td>\n",
       "      <td>-0.029727</td>\n",
       "      <td>-0.010970</td>\n",
       "      <td>0.030046</td>\n",
       "      <td>-0.064697</td>\n",
       "      <td>-0.008077</td>\n",
       "      <td>0.010609</td>\n",
       "      <td>0.072714</td>\n",
       "      <td>0.053714</td>\n",
       "    </tr>\n",
       "  </tbody>\n",
       "</table>\n",
       "<p>5 rows × 521 columns</p>\n",
       "</div>"
      ],
      "text/plain": [
       "         goal         country      main_category  sec_category  \\\n",
       "0   5227.0000   United States  Community Gardens          Food   \n",
       "1  46282.0323  United Kingdom              Drama  Film & Video   \n",
       "2   1000.0000   United States      Playing Cards         Games   \n",
       "3    550.0000   United States           Textiles           Art   \n",
       "4  20000.0000   United States        Mixed Media           Art   \n",
       "\n",
       "   funding_period  deadline_month  launched_month  name_l  descr_l         0  \\\n",
       "0              29               4               3      29      123 -0.010829   \n",
       "1              30               8               7      15      119  0.030061   \n",
       "2              30               7               6      55      133 -0.044113   \n",
       "3              30               2               1      27      124  0.056926   \n",
       "4              31              11              10      35       98 -0.024801   \n",
       "\n",
       "   ...       502       503       504       505       506       507       508  \\\n",
       "0  ... -0.003118 -0.024705 -0.059358  0.056610 -0.089700  0.030305 -0.009304   \n",
       "1  ...  0.043978  0.053403  0.002196  0.019149  0.072489 -0.006856  0.021633   \n",
       "2  ...  0.001915  0.001887 -0.033332 -0.049701  0.051441  0.033418 -0.039642   \n",
       "3  ... -0.046150  0.063592  0.033569  0.033628 -0.049368 -0.049821 -0.072348   \n",
       "4  ... -0.006140  0.043791 -0.029727 -0.010970  0.030046 -0.064697 -0.008077   \n",
       "\n",
       "        509       510       511  \n",
       "0 -0.019028  0.018583  0.023158  \n",
       "1 -0.056170  0.021966  0.055888  \n",
       "2  0.026644 -0.018060  0.010671  \n",
       "3  0.041021  0.019057  0.024530  \n",
       "4  0.010609  0.072714  0.053714  \n",
       "\n",
       "[5 rows x 521 columns]"
      ]
     },
     "metadata": {},
     "execution_count": 11
    }
   ],
   "metadata": {
    "scrolled": true
   }
  },
  {
   "cell_type": "code",
   "execution_count": 10,
   "source": [
    "features_categorical = ['country','main_category','sec_category', 'launched_month', 'deadline_month']\n",
    "features_robust = ['descr_l','goal','funding_period']\n",
    "features_standard = ['name_l']"
   ],
   "outputs": [],
   "metadata": {}
  },
  {
   "cell_type": "code",
   "execution_count": 11,
   "source": [
    "data_preprocessing_NN = ColumnTransformer([\n",
    "    ('features_categorical', OneHotEncoder(sparse=False), features_categorical),\n",
    "    ('numeric_robust', RobustScaler(), features_robust),\n",
    "    ('feature_standard', StandardScaler(), features_standard)\n",
    "],\n",
    "    remainder = 'passthrough'\n",
    ")\n"
   ],
   "outputs": [],
   "metadata": {}
  },
  {
   "cell_type": "code",
   "execution_count": 12,
   "source": [
    "fm2 = data_preprocessing_NN.fit_transform(ksNN)\n",
    "print(type(fm2), fm2.shape)"
   ],
   "outputs": [
    {
     "output_type": "stream",
     "name": "stdout",
     "text": [
      "<class 'numpy.ndarray'> (143802, 704)\n"
     ]
    }
   ],
   "metadata": {}
  },
  {
   "cell_type": "code",
   "execution_count": 21,
   "source": [
    "X_train, X_test, y_train, y_test = train_test_split(fm2, ks_label_NN, test_size=0.3, random_state=45)\n",
    "X_train.shape, y_train.shape, X_test.shape, y_test.shape"
   ],
   "outputs": [
    {
     "output_type": "execute_result",
     "data": {
      "text/plain": [
       "((100661, 704), (100661,), (43141, 704), (43141,))"
      ]
     },
     "metadata": {},
     "execution_count": 21
    }
   ],
   "metadata": {}
  },
  {
   "cell_type": "markdown",
   "source": [
    "### GridSearch"
   ],
   "metadata": {}
  },
  {
   "cell_type": "code",
   "execution_count": 22,
   "source": [
    "logit_cls = LogisticRegression(max_iter=1000, n_jobs=-1) "
   ],
   "outputs": [],
   "metadata": {}
  },
  {
   "cell_type": "code",
   "execution_count": 23,
   "source": [
    "param_grid_lr = [\n",
    "    {'penalty': ['l1', 'l2'],\n",
    "     'class_weight':['balanced', None],\n",
    "     'solver':['liblinear', 'saga'],\n",
    "     'C': [0.001, 0.01, 1, 100, 1000]\n",
    "    }\n",
    "]\n",
    "\n",
    "grid_search_lr = GridSearchCV(logit_cls, \n",
    "                           param_grid= param_grid_lr,\n",
    "                           cv=StratifiedKFold(),\n",
    "                           n_jobs=-1,\n",
    "                           scoring=['f1','accuracy'],\n",
    "                           refit = 'f1'\n",
    "                          )"
   ],
   "outputs": [],
   "metadata": {}
  },
  {
   "cell_type": "code",
   "execution_count": 24,
   "source": [
    "grid_search_lr.fit(X_train, y_train)"
   ],
   "outputs": [
    {
     "output_type": "stream",
     "name": "stderr",
     "text": [
      "C:\\Users\\marco\\anaconda3\\lib\\site-packages\\sklearn\\linear_model\\_logistic.py:1353: UserWarning: 'n_jobs' > 1 does not have any effect when 'solver' is set to 'liblinear'. Got 'n_jobs' = 16.\n",
      "  warnings.warn(\"'n_jobs' > 1 does not have any effect when\"\n"
     ]
    },
    {
     "output_type": "execute_result",
     "data": {
      "text/plain": [
       "GridSearchCV(cv=StratifiedKFold(n_splits=5, random_state=None, shuffle=False),\n",
       "             estimator=LogisticRegression(max_iter=1000, n_jobs=-1), n_jobs=-1,\n",
       "             param_grid=[{'C': [0.001, 0.01, 1, 100, 1000],\n",
       "                          'class_weight': ['balanced', None],\n",
       "                          'penalty': ['l1', 'l2'],\n",
       "                          'solver': ['liblinear', 'saga']}],\n",
       "             refit='f1', scoring=['f1', 'accuracy'])"
      ]
     },
     "metadata": {},
     "execution_count": 24
    }
   ],
   "metadata": {
    "scrolled": true
   }
  },
  {
   "cell_type": "code",
   "execution_count": 25,
   "source": [
    "results = pd.DataFrame(grid_search_lr.cv_results_)[['mean_test_f1','params','mean_test_accuracy']]\n",
    "results.sort_values(by='mean_test_f1',ascending=False)"
   ],
   "outputs": [
    {
     "output_type": "execute_result",
     "data": {
      "text/html": [
       "<div>\n",
       "<style scoped>\n",
       "    .dataframe tbody tr th:only-of-type {\n",
       "        vertical-align: middle;\n",
       "    }\n",
       "\n",
       "    .dataframe tbody tr th {\n",
       "        vertical-align: top;\n",
       "    }\n",
       "\n",
       "    .dataframe thead th {\n",
       "        text-align: right;\n",
       "    }\n",
       "</style>\n",
       "<table border=\"1\" class=\"dataframe\">\n",
       "  <thead>\n",
       "    <tr style=\"text-align: right;\">\n",
       "      <th></th>\n",
       "      <th>mean_test_f1</th>\n",
       "      <th>params</th>\n",
       "      <th>mean_test_accuracy</th>\n",
       "    </tr>\n",
       "  </thead>\n",
       "  <tbody>\n",
       "    <tr>\n",
       "      <th>20</th>\n",
       "      <td>0.811335</td>\n",
       "      <td>{'C': 1, 'class_weight': None, 'penalty': 'l1'...</td>\n",
       "      <td>0.783213</td>\n",
       "    </tr>\n",
       "    <tr>\n",
       "      <th>22</th>\n",
       "      <td>0.811329</td>\n",
       "      <td>{'C': 1, 'class_weight': None, 'penalty': 'l2'...</td>\n",
       "      <td>0.783054</td>\n",
       "    </tr>\n",
       "    <tr>\n",
       "      <th>28</th>\n",
       "      <td>0.810726</td>\n",
       "      <td>{'C': 100, 'class_weight': None, 'penalty': 'l...</td>\n",
       "      <td>0.782269</td>\n",
       "    </tr>\n",
       "    <tr>\n",
       "      <th>36</th>\n",
       "      <td>0.810695</td>\n",
       "      <td>{'C': 1000, 'class_weight': None, 'penalty': '...</td>\n",
       "      <td>0.782229</td>\n",
       "    </tr>\n",
       "    <tr>\n",
       "      <th>30</th>\n",
       "      <td>0.810683</td>\n",
       "      <td>{'C': 100, 'class_weight': None, 'penalty': 'l...</td>\n",
       "      <td>0.782190</td>\n",
       "    </tr>\n",
       "    <tr>\n",
       "      <th>38</th>\n",
       "      <td>0.810632</td>\n",
       "      <td>{'C': 1000, 'class_weight': None, 'penalty': '...</td>\n",
       "      <td>0.782160</td>\n",
       "    </tr>\n",
       "    <tr>\n",
       "      <th>14</th>\n",
       "      <td>0.810279</td>\n",
       "      <td>{'C': 0.01, 'class_weight': None, 'penalty': '...</td>\n",
       "      <td>0.773080</td>\n",
       "    </tr>\n",
       "    <tr>\n",
       "      <th>18</th>\n",
       "      <td>0.792129</td>\n",
       "      <td>{'C': 1, 'class_weight': 'balanced', 'penalty'...</td>\n",
       "      <td>0.776150</td>\n",
       "    </tr>\n",
       "    <tr>\n",
       "      <th>24</th>\n",
       "      <td>0.791967</td>\n",
       "      <td>{'C': 100, 'class_weight': 'balanced', 'penalt...</td>\n",
       "      <td>0.775673</td>\n",
       "    </tr>\n",
       "    <tr>\n",
       "      <th>26</th>\n",
       "      <td>0.791944</td>\n",
       "      <td>{'C': 100, 'class_weight': 'balanced', 'penalt...</td>\n",
       "      <td>0.775683</td>\n",
       "    </tr>\n",
       "    <tr>\n",
       "      <th>34</th>\n",
       "      <td>0.791927</td>\n",
       "      <td>{'C': 1000, 'class_weight': 'balanced', 'penal...</td>\n",
       "      <td>0.775643</td>\n",
       "    </tr>\n",
       "    <tr>\n",
       "      <th>32</th>\n",
       "      <td>0.791859</td>\n",
       "      <td>{'C': 1000, 'class_weight': 'balanced', 'penal...</td>\n",
       "      <td>0.775573</td>\n",
       "    </tr>\n",
       "    <tr>\n",
       "      <th>16</th>\n",
       "      <td>0.791564</td>\n",
       "      <td>{'C': 1, 'class_weight': 'balanced', 'penalty'...</td>\n",
       "      <td>0.775693</td>\n",
       "    </tr>\n",
       "    <tr>\n",
       "      <th>10</th>\n",
       "      <td>0.789774</td>\n",
       "      <td>{'C': 0.01, 'class_weight': 'balanced', 'penal...</td>\n",
       "      <td>0.769871</td>\n",
       "    </tr>\n",
       "    <tr>\n",
       "      <th>12</th>\n",
       "      <td>0.787526</td>\n",
       "      <td>{'C': 0.01, 'class_weight': None, 'penalty': '...</td>\n",
       "      <td>0.748820</td>\n",
       "    </tr>\n",
       "    <tr>\n",
       "      <th>6</th>\n",
       "      <td>0.785825</td>\n",
       "      <td>{'C': 0.001, 'class_weight': None, 'penalty': ...</td>\n",
       "      <td>0.721044</td>\n",
       "    </tr>\n",
       "    <tr>\n",
       "      <th>2</th>\n",
       "      <td>0.768499</td>\n",
       "      <td>{'C': 0.001, 'class_weight': 'balanced', 'pena...</td>\n",
       "      <td>0.732021</td>\n",
       "    </tr>\n",
       "    <tr>\n",
       "      <th>8</th>\n",
       "      <td>0.759278</td>\n",
       "      <td>{'C': 0.01, 'class_weight': 'balanced', 'penal...</td>\n",
       "      <td>0.746784</td>\n",
       "    </tr>\n",
       "    <tr>\n",
       "      <th>4</th>\n",
       "      <td>0.753388</td>\n",
       "      <td>{'C': 0.001, 'class_weight': None, 'penalty': ...</td>\n",
       "      <td>0.660613</td>\n",
       "    </tr>\n",
       "    <tr>\n",
       "      <th>7</th>\n",
       "      <td>0.727242</td>\n",
       "      <td>{'C': 0.001, 'class_weight': None, 'penalty': ...</td>\n",
       "      <td>0.645622</td>\n",
       "    </tr>\n",
       "    <tr>\n",
       "      <th>29</th>\n",
       "      <td>0.727236</td>\n",
       "      <td>{'C': 100, 'class_weight': None, 'penalty': 'l...</td>\n",
       "      <td>0.645672</td>\n",
       "    </tr>\n",
       "    <tr>\n",
       "      <th>31</th>\n",
       "      <td>0.727231</td>\n",
       "      <td>{'C': 100, 'class_weight': None, 'penalty': 'l...</td>\n",
       "      <td>0.645662</td>\n",
       "    </tr>\n",
       "    <tr>\n",
       "      <th>37</th>\n",
       "      <td>0.727231</td>\n",
       "      <td>{'C': 1000, 'class_weight': None, 'penalty': '...</td>\n",
       "      <td>0.645662</td>\n",
       "    </tr>\n",
       "    <tr>\n",
       "      <th>39</th>\n",
       "      <td>0.727231</td>\n",
       "      <td>{'C': 1000, 'class_weight': None, 'penalty': '...</td>\n",
       "      <td>0.645662</td>\n",
       "    </tr>\n",
       "    <tr>\n",
       "      <th>15</th>\n",
       "      <td>0.727231</td>\n",
       "      <td>{'C': 0.01, 'class_weight': None, 'penalty': '...</td>\n",
       "      <td>0.645662</td>\n",
       "    </tr>\n",
       "    <tr>\n",
       "      <th>23</th>\n",
       "      <td>0.727221</td>\n",
       "      <td>{'C': 1, 'class_weight': None, 'penalty': 'l2'...</td>\n",
       "      <td>0.645652</td>\n",
       "    </tr>\n",
       "    <tr>\n",
       "      <th>21</th>\n",
       "      <td>0.727212</td>\n",
       "      <td>{'C': 1, 'class_weight': None, 'penalty': 'l1'...</td>\n",
       "      <td>0.645652</td>\n",
       "    </tr>\n",
       "    <tr>\n",
       "      <th>13</th>\n",
       "      <td>0.725046</td>\n",
       "      <td>{'C': 0.01, 'class_weight': None, 'penalty': '...</td>\n",
       "      <td>0.644003</td>\n",
       "    </tr>\n",
       "    <tr>\n",
       "      <th>5</th>\n",
       "      <td>0.716862</td>\n",
       "      <td>{'C': 0.001, 'class_weight': None, 'penalty': ...</td>\n",
       "      <td>0.637953</td>\n",
       "    </tr>\n",
       "    <tr>\n",
       "      <th>0</th>\n",
       "      <td>0.684128</td>\n",
       "      <td>{'C': 0.001, 'class_weight': 'balanced', 'pena...</td>\n",
       "      <td>0.636085</td>\n",
       "    </tr>\n",
       "    <tr>\n",
       "      <th>33</th>\n",
       "      <td>0.663252</td>\n",
       "      <td>{'C': 1000, 'class_weight': 'balanced', 'penal...</td>\n",
       "      <td>0.621204</td>\n",
       "    </tr>\n",
       "    <tr>\n",
       "      <th>25</th>\n",
       "      <td>0.663240</td>\n",
       "      <td>{'C': 100, 'class_weight': 'balanced', 'penalt...</td>\n",
       "      <td>0.621194</td>\n",
       "    </tr>\n",
       "    <tr>\n",
       "      <th>27</th>\n",
       "      <td>0.663240</td>\n",
       "      <td>{'C': 100, 'class_weight': 'balanced', 'penalt...</td>\n",
       "      <td>0.621194</td>\n",
       "    </tr>\n",
       "    <tr>\n",
       "      <th>35</th>\n",
       "      <td>0.663240</td>\n",
       "      <td>{'C': 1000, 'class_weight': 'balanced', 'penal...</td>\n",
       "      <td>0.621194</td>\n",
       "    </tr>\n",
       "    <tr>\n",
       "      <th>11</th>\n",
       "      <td>0.663228</td>\n",
       "      <td>{'C': 0.01, 'class_weight': 'balanced', 'penal...</td>\n",
       "      <td>0.621184</td>\n",
       "    </tr>\n",
       "    <tr>\n",
       "      <th>3</th>\n",
       "      <td>0.663222</td>\n",
       "      <td>{'C': 0.001, 'class_weight': 'balanced', 'pena...</td>\n",
       "      <td>0.621154</td>\n",
       "    </tr>\n",
       "    <tr>\n",
       "      <th>19</th>\n",
       "      <td>0.663216</td>\n",
       "      <td>{'C': 1, 'class_weight': 'balanced', 'penalty'...</td>\n",
       "      <td>0.621174</td>\n",
       "    </tr>\n",
       "    <tr>\n",
       "      <th>17</th>\n",
       "      <td>0.663180</td>\n",
       "      <td>{'C': 1, 'class_weight': 'balanced', 'penalty'...</td>\n",
       "      <td>0.621144</td>\n",
       "    </tr>\n",
       "    <tr>\n",
       "      <th>9</th>\n",
       "      <td>0.656637</td>\n",
       "      <td>{'C': 0.01, 'class_weight': 'balanced', 'penal...</td>\n",
       "      <td>0.616356</td>\n",
       "    </tr>\n",
       "    <tr>\n",
       "      <th>1</th>\n",
       "      <td>0.632702</td>\n",
       "      <td>{'C': 0.001, 'class_weight': 'balanced', 'pena...</td>\n",
       "      <td>0.600014</td>\n",
       "    </tr>\n",
       "  </tbody>\n",
       "</table>\n",
       "</div>"
      ],
      "text/plain": [
       "    mean_test_f1                                             params  \\\n",
       "20      0.811335  {'C': 1, 'class_weight': None, 'penalty': 'l1'...   \n",
       "22      0.811329  {'C': 1, 'class_weight': None, 'penalty': 'l2'...   \n",
       "28      0.810726  {'C': 100, 'class_weight': None, 'penalty': 'l...   \n",
       "36      0.810695  {'C': 1000, 'class_weight': None, 'penalty': '...   \n",
       "30      0.810683  {'C': 100, 'class_weight': None, 'penalty': 'l...   \n",
       "38      0.810632  {'C': 1000, 'class_weight': None, 'penalty': '...   \n",
       "14      0.810279  {'C': 0.01, 'class_weight': None, 'penalty': '...   \n",
       "18      0.792129  {'C': 1, 'class_weight': 'balanced', 'penalty'...   \n",
       "24      0.791967  {'C': 100, 'class_weight': 'balanced', 'penalt...   \n",
       "26      0.791944  {'C': 100, 'class_weight': 'balanced', 'penalt...   \n",
       "34      0.791927  {'C': 1000, 'class_weight': 'balanced', 'penal...   \n",
       "32      0.791859  {'C': 1000, 'class_weight': 'balanced', 'penal...   \n",
       "16      0.791564  {'C': 1, 'class_weight': 'balanced', 'penalty'...   \n",
       "10      0.789774  {'C': 0.01, 'class_weight': 'balanced', 'penal...   \n",
       "12      0.787526  {'C': 0.01, 'class_weight': None, 'penalty': '...   \n",
       "6       0.785825  {'C': 0.001, 'class_weight': None, 'penalty': ...   \n",
       "2       0.768499  {'C': 0.001, 'class_weight': 'balanced', 'pena...   \n",
       "8       0.759278  {'C': 0.01, 'class_weight': 'balanced', 'penal...   \n",
       "4       0.753388  {'C': 0.001, 'class_weight': None, 'penalty': ...   \n",
       "7       0.727242  {'C': 0.001, 'class_weight': None, 'penalty': ...   \n",
       "29      0.727236  {'C': 100, 'class_weight': None, 'penalty': 'l...   \n",
       "31      0.727231  {'C': 100, 'class_weight': None, 'penalty': 'l...   \n",
       "37      0.727231  {'C': 1000, 'class_weight': None, 'penalty': '...   \n",
       "39      0.727231  {'C': 1000, 'class_weight': None, 'penalty': '...   \n",
       "15      0.727231  {'C': 0.01, 'class_weight': None, 'penalty': '...   \n",
       "23      0.727221  {'C': 1, 'class_weight': None, 'penalty': 'l2'...   \n",
       "21      0.727212  {'C': 1, 'class_weight': None, 'penalty': 'l1'...   \n",
       "13      0.725046  {'C': 0.01, 'class_weight': None, 'penalty': '...   \n",
       "5       0.716862  {'C': 0.001, 'class_weight': None, 'penalty': ...   \n",
       "0       0.684128  {'C': 0.001, 'class_weight': 'balanced', 'pena...   \n",
       "33      0.663252  {'C': 1000, 'class_weight': 'balanced', 'penal...   \n",
       "25      0.663240  {'C': 100, 'class_weight': 'balanced', 'penalt...   \n",
       "27      0.663240  {'C': 100, 'class_weight': 'balanced', 'penalt...   \n",
       "35      0.663240  {'C': 1000, 'class_weight': 'balanced', 'penal...   \n",
       "11      0.663228  {'C': 0.01, 'class_weight': 'balanced', 'penal...   \n",
       "3       0.663222  {'C': 0.001, 'class_weight': 'balanced', 'pena...   \n",
       "19      0.663216  {'C': 1, 'class_weight': 'balanced', 'penalty'...   \n",
       "17      0.663180  {'C': 1, 'class_weight': 'balanced', 'penalty'...   \n",
       "9       0.656637  {'C': 0.01, 'class_weight': 'balanced', 'penal...   \n",
       "1       0.632702  {'C': 0.001, 'class_weight': 'balanced', 'pena...   \n",
       "\n",
       "    mean_test_accuracy  \n",
       "20            0.783213  \n",
       "22            0.783054  \n",
       "28            0.782269  \n",
       "36            0.782229  \n",
       "30            0.782190  \n",
       "38            0.782160  \n",
       "14            0.773080  \n",
       "18            0.776150  \n",
       "24            0.775673  \n",
       "26            0.775683  \n",
       "34            0.775643  \n",
       "32            0.775573  \n",
       "16            0.775693  \n",
       "10            0.769871  \n",
       "12            0.748820  \n",
       "6             0.721044  \n",
       "2             0.732021  \n",
       "8             0.746784  \n",
       "4             0.660613  \n",
       "7             0.645622  \n",
       "29            0.645672  \n",
       "31            0.645662  \n",
       "37            0.645662  \n",
       "39            0.645662  \n",
       "15            0.645662  \n",
       "23            0.645652  \n",
       "21            0.645652  \n",
       "13            0.644003  \n",
       "5             0.637953  \n",
       "0             0.636085  \n",
       "33            0.621204  \n",
       "25            0.621194  \n",
       "27            0.621194  \n",
       "35            0.621194  \n",
       "11            0.621184  \n",
       "3             0.621154  \n",
       "19            0.621174  \n",
       "17            0.621144  \n",
       "9             0.616356  \n",
       "1             0.600014  "
      ]
     },
     "metadata": {},
     "execution_count": 25
    }
   ],
   "metadata": {
    "scrolled": false
   }
  },
  {
   "cell_type": "code",
   "execution_count": 26,
   "source": [
    "print('best score: ',grid_search_lr.best_score_)\n",
    "print('best params: ',grid_search_lr.best_params_)"
   ],
   "outputs": [
    {
     "output_type": "stream",
     "name": "stdout",
     "text": [
      "best score:  0.8113354575831375\n",
      "best params:  {'C': 1, 'class_weight': None, 'penalty': 'l1', 'solver': 'liblinear'}\n"
     ]
    }
   ],
   "metadata": {}
  },
  {
   "cell_type": "markdown",
   "source": [
    "### RandomizedSearch"
   ],
   "metadata": {}
  },
  {
   "cell_type": "code",
   "execution_count": 27,
   "source": [
    "param_grid_lr_r = [\n",
    "    {'penalty': ['l1', 'l2'],\n",
    "     'class_weight':['balanced', None],\n",
    "     'solver':['liblinear', 'saga'],\n",
    "     'C': [0.001, 0.01, 1, 100, 1000]\n",
    "    }\n",
    "]\n",
    "\n",
    "random_search_lr = RandomizedSearchCV(logit_cls, \n",
    "                           param_distributions= param_grid_lr_r,\n",
    "                           cv=StratifiedKFold(),\n",
    "                           n_jobs=-1,\n",
    "                           scoring=['f1','accuracy'],\n",
    "                           refit = 'f1'\n",
    "                          )"
   ],
   "outputs": [],
   "metadata": {}
  },
  {
   "cell_type": "code",
   "execution_count": 28,
   "source": [
    "random_search_lr.fit(X_train, y_train)"
   ],
   "outputs": [
    {
     "output_type": "stream",
     "name": "stderr",
     "text": [
      "C:\\Users\\marco\\anaconda3\\lib\\site-packages\\sklearn\\linear_model\\_logistic.py:1353: UserWarning: 'n_jobs' > 1 does not have any effect when 'solver' is set to 'liblinear'. Got 'n_jobs' = 16.\n",
      "  warnings.warn(\"'n_jobs' > 1 does not have any effect when\"\n"
     ]
    },
    {
     "output_type": "execute_result",
     "data": {
      "text/plain": [
       "RandomizedSearchCV(cv=StratifiedKFold(n_splits=5, random_state=None, shuffle=False),\n",
       "                   estimator=LogisticRegression(max_iter=1000, n_jobs=-1),\n",
       "                   n_jobs=-1,\n",
       "                   param_distributions=[{'C': [0.001, 0.01, 1, 100, 1000],\n",
       "                                         'class_weight': ['balanced', None],\n",
       "                                         'penalty': ['l1', 'l2'],\n",
       "                                         'solver': ['liblinear', 'saga']}],\n",
       "                   refit='f1', scoring=['f1', 'accuracy'])"
      ]
     },
     "metadata": {},
     "execution_count": 28
    }
   ],
   "metadata": {
    "scrolled": true
   }
  },
  {
   "cell_type": "code",
   "execution_count": 29,
   "source": [
    "results_r = pd.DataFrame(random_search_lr.cv_results_)[['mean_test_f1','params','mean_test_accuracy']]\n",
    "results_r.sort_values(by='mean_test_f1',ascending=False)"
   ],
   "outputs": [
    {
     "output_type": "execute_result",
     "data": {
      "text/html": [
       "<div>\n",
       "<style scoped>\n",
       "    .dataframe tbody tr th:only-of-type {\n",
       "        vertical-align: middle;\n",
       "    }\n",
       "\n",
       "    .dataframe tbody tr th {\n",
       "        vertical-align: top;\n",
       "    }\n",
       "\n",
       "    .dataframe thead th {\n",
       "        text-align: right;\n",
       "    }\n",
       "</style>\n",
       "<table border=\"1\" class=\"dataframe\">\n",
       "  <thead>\n",
       "    <tr style=\"text-align: right;\">\n",
       "      <th></th>\n",
       "      <th>mean_test_f1</th>\n",
       "      <th>params</th>\n",
       "      <th>mean_test_accuracy</th>\n",
       "    </tr>\n",
       "  </thead>\n",
       "  <tbody>\n",
       "    <tr>\n",
       "      <th>7</th>\n",
       "      <td>0.810730</td>\n",
       "      <td>{'solver': 'liblinear', 'penalty': 'l1', 'clas...</td>\n",
       "      <td>0.782229</td>\n",
       "    </tr>\n",
       "    <tr>\n",
       "      <th>8</th>\n",
       "      <td>0.791927</td>\n",
       "      <td>{'solver': 'liblinear', 'penalty': 'l2', 'clas...</td>\n",
       "      <td>0.775643</td>\n",
       "    </tr>\n",
       "    <tr>\n",
       "      <th>5</th>\n",
       "      <td>0.791553</td>\n",
       "      <td>{'solver': 'liblinear', 'penalty': 'l1', 'clas...</td>\n",
       "      <td>0.775683</td>\n",
       "    </tr>\n",
       "    <tr>\n",
       "      <th>6</th>\n",
       "      <td>0.785825</td>\n",
       "      <td>{'solver': 'liblinear', 'penalty': 'l2', 'clas...</td>\n",
       "      <td>0.721044</td>\n",
       "    </tr>\n",
       "    <tr>\n",
       "      <th>4</th>\n",
       "      <td>0.768499</td>\n",
       "      <td>{'solver': 'liblinear', 'penalty': 'l2', 'clas...</td>\n",
       "      <td>0.732021</td>\n",
       "    </tr>\n",
       "    <tr>\n",
       "      <th>2</th>\n",
       "      <td>0.753384</td>\n",
       "      <td>{'solver': 'liblinear', 'penalty': 'l1', 'clas...</td>\n",
       "      <td>0.660613</td>\n",
       "    </tr>\n",
       "    <tr>\n",
       "      <th>3</th>\n",
       "      <td>0.727231</td>\n",
       "      <td>{'solver': 'saga', 'penalty': 'l2', 'class_wei...</td>\n",
       "      <td>0.645662</td>\n",
       "    </tr>\n",
       "    <tr>\n",
       "      <th>0</th>\n",
       "      <td>0.663240</td>\n",
       "      <td>{'solver': 'saga', 'penalty': 'l2', 'class_wei...</td>\n",
       "      <td>0.621194</td>\n",
       "    </tr>\n",
       "    <tr>\n",
       "      <th>1</th>\n",
       "      <td>0.663240</td>\n",
       "      <td>{'solver': 'saga', 'penalty': 'l2', 'class_wei...</td>\n",
       "      <td>0.621194</td>\n",
       "    </tr>\n",
       "    <tr>\n",
       "      <th>9</th>\n",
       "      <td>0.632702</td>\n",
       "      <td>{'solver': 'saga', 'penalty': 'l1', 'class_wei...</td>\n",
       "      <td>0.600014</td>\n",
       "    </tr>\n",
       "  </tbody>\n",
       "</table>\n",
       "</div>"
      ],
      "text/plain": [
       "   mean_test_f1                                             params  \\\n",
       "7      0.810730  {'solver': 'liblinear', 'penalty': 'l1', 'clas...   \n",
       "8      0.791927  {'solver': 'liblinear', 'penalty': 'l2', 'clas...   \n",
       "5      0.791553  {'solver': 'liblinear', 'penalty': 'l1', 'clas...   \n",
       "6      0.785825  {'solver': 'liblinear', 'penalty': 'l2', 'clas...   \n",
       "4      0.768499  {'solver': 'liblinear', 'penalty': 'l2', 'clas...   \n",
       "2      0.753384  {'solver': 'liblinear', 'penalty': 'l1', 'clas...   \n",
       "3      0.727231  {'solver': 'saga', 'penalty': 'l2', 'class_wei...   \n",
       "0      0.663240  {'solver': 'saga', 'penalty': 'l2', 'class_wei...   \n",
       "1      0.663240  {'solver': 'saga', 'penalty': 'l2', 'class_wei...   \n",
       "9      0.632702  {'solver': 'saga', 'penalty': 'l1', 'class_wei...   \n",
       "\n",
       "   mean_test_accuracy  \n",
       "7            0.782229  \n",
       "8            0.775643  \n",
       "5            0.775683  \n",
       "6            0.721044  \n",
       "4            0.732021  \n",
       "2            0.660613  \n",
       "3            0.645662  \n",
       "0            0.621194  \n",
       "1            0.621194  \n",
       "9            0.600014  "
      ]
     },
     "metadata": {},
     "execution_count": 29
    }
   ],
   "metadata": {
    "scrolled": false
   }
  },
  {
   "cell_type": "code",
   "execution_count": 30,
   "source": [
    "print('best score: ',random_search_lr.best_score_)\n",
    "print('best params: ',random_search_lr.best_params_)"
   ],
   "outputs": [
    {
     "output_type": "stream",
     "name": "stdout",
     "text": [
      "best score:  0.8107301446420163\n",
      "best params:  {'solver': 'liblinear', 'penalty': 'l1', 'class_weight': None, 'C': 100}\n"
     ]
    }
   ],
   "metadata": {}
  },
  {
   "cell_type": "markdown",
   "source": [
    "### Validation best params"
   ],
   "metadata": {}
  },
  {
   "cell_type": "code",
   "execution_count": 31,
   "source": [
    "logit_cls_bp = LogisticRegression(max_iter=1000,\n",
    "                                  n_jobs=-1,\n",
    "                                  C=1,\n",
    "                                  class_weight=None,\n",
    "                                  penalty= 'l1',\n",
    "                                  random_state=1,\n",
    "                                  solver='liblinear') "
   ],
   "outputs": [],
   "metadata": {}
  },
  {
   "cell_type": "code",
   "execution_count": 32,
   "source": [
    "train_sizes, train_scores, test_scores = learning_curve(logit_cls_bp,\n",
    "                                                       X=X_train,\n",
    "                                                       y=y_train,\n",
    "                                                       train_sizes=np.linspace(0.1,1.0,10),\n",
    "                                                       cv=StratifiedKFold(random_state=1, shuffle=True),\n",
    "                                                       n_jobs=-1)"
   ],
   "outputs": [],
   "metadata": {}
  },
  {
   "cell_type": "code",
   "execution_count": 33,
   "source": [
    "train_mean = np.mean(train_scores, axis=1)\n",
    "train_std = np.std(train_scores, axis=1)\n",
    "test_mean = np.mean(test_scores, axis=1)\n",
    "test_std = np.std(test_scores, axis=1)\n",
    "\n",
    "fig=plt.figure(figsize=(12,7))\n",
    "ax = fig.add_subplot()\n",
    "ax.plot(train_sizes, train_mean,\n",
    "         color='blue', marker='o',\n",
    "         markersize=5, label='Training accuracy')\n",
    "\n",
    "ax.fill_between(train_sizes,\n",
    "                 train_mean + train_std,\n",
    "                 train_mean - train_std,\n",
    "                 alpha=0.15, color='blue')\n",
    "\n",
    "ax.plot(train_sizes, test_mean,\n",
    "         color='green', linestyle='--',\n",
    "         marker='s', markersize=5,\n",
    "         label='Validation accuracy')\n",
    "\n",
    "ax.fill_between(train_sizes,\n",
    "                 test_mean + test_std,\n",
    "                 test_mean - test_std,\n",
    "                 alpha=0.15, color='green')\n",
    "\n",
    "ax.grid()\n",
    "ax.set_xlabel('Dimensione del training set')\n",
    "ax.set_ylabel('Accuracy')\n",
    "ax.legend(loc='lower right')"
   ],
   "outputs": [
    {
     "output_type": "execute_result",
     "data": {
      "text/plain": [
       "<matplotlib.legend.Legend at 0x18c9bb99ca0>"
      ]
     },
     "metadata": {},
     "execution_count": 33
    },
    {
     "output_type": "display_data",
     "data": {
      "image/png": "[encoded data removed]",
      "text/plain": [
       "<Figure size 864x504 with 1 Axes>"
      ]
     },
     "metadata": {
      "needs_background": "light"
     }
    }
   ],
   "metadata": {
    "scrolled": true
   }
  },
  {
   "cell_type": "code",
   "execution_count": 34,
   "source": [
    "print(\"accuracy:\", round(train_mean[-1], 4), \"- val_accuracy:\", round(test_mean[-1], 4))"
   ],
   "outputs": [
    {
     "output_type": "stream",
     "name": "stdout",
     "text": [
      "accuracy: 0.7884 - val_accuracy: 0.7835\n"
     ]
    }
   ],
   "metadata": {}
  },
  {
   "cell_type": "code",
   "execution_count": 35,
   "source": [
    "y_train_p_lr = cross_val_predict(logit_cls_bp, X_train, y_train, cv=StratifiedKFold(random_state=1, shuffle=True))\n",
    "print('val_accuracy:', round(accuracy_score(y_train, y_train_p_lr), 4))\n",
    "\n",
    "cm_c_lr = confusion_matrix(y_train, y_train_p_lr)\n",
    "ax= plt.subplot()\n",
    "sns.heatmap(cm_c_lr, annot=False, ax = ax, cmap=\"Greens\", vmin=0, vmax=sum(sum(cm_c_lr)));\n",
    "sns.heatmap(cm_c_lr, annot=cm_c_lr, fmt=\"\", cbar=False, cmap=\"Greens\", vmin=0, vmax=sum(sum(cm_c_lr)))\n",
    "\n",
    "ax.set_xlabel('Predicted labels');ax.set_ylabel('True labels'); \n",
    "ax.xaxis.set_ticklabels(['failed', 'successful']); ax.yaxis.set_ticklabels(['failed', 'successful']);"
   ],
   "outputs": [
    {
     "output_type": "stream",
     "name": "stderr",
     "text": [
      "C:\\Users\\marco\\anaconda3\\lib\\site-packages\\sklearn\\linear_model\\_logistic.py:1353: UserWarning: 'n_jobs' > 1 does not have any effect when 'solver' is set to 'liblinear'. Got 'n_jobs' = 16.\n",
      "  warnings.warn(\"'n_jobs' > 1 does not have any effect when\"\n",
      "C:\\Users\\marco\\anaconda3\\lib\\site-packages\\sklearn\\linear_model\\_logistic.py:1353: UserWarning: 'n_jobs' > 1 does not have any effect when 'solver' is set to 'liblinear'. Got 'n_jobs' = 16.\n",
      "  warnings.warn(\"'n_jobs' > 1 does not have any effect when\"\n",
      "C:\\Users\\marco\\anaconda3\\lib\\site-packages\\sklearn\\linear_model\\_logistic.py:1353: UserWarning: 'n_jobs' > 1 does not have any effect when 'solver' is set to 'liblinear'. Got 'n_jobs' = 16.\n",
      "  warnings.warn(\"'n_jobs' > 1 does not have any effect when\"\n",
      "C:\\Users\\marco\\anaconda3\\lib\\site-packages\\sklearn\\linear_model\\_logistic.py:1353: UserWarning: 'n_jobs' > 1 does not have any effect when 'solver' is set to 'liblinear'. Got 'n_jobs' = 16.\n",
      "  warnings.warn(\"'n_jobs' > 1 does not have any effect when\"\n",
      "C:\\Users\\marco\\anaconda3\\lib\\site-packages\\sklearn\\linear_model\\_logistic.py:1353: UserWarning: 'n_jobs' > 1 does not have any effect when 'solver' is set to 'liblinear'. Got 'n_jobs' = 16.\n",
      "  warnings.warn(\"'n_jobs' > 1 does not have any effect when\"\n"
     ]
    },
    {
     "output_type": "stream",
     "name": "stdout",
     "text": [
      "val_accuracy: 0.7835\n"
     ]
    },
    {
     "output_type": "display_data",
     "data": {
      "image/png": "[encoded data removed]",
      "text/plain": [
       "<Figure size 432x288 with 2 Axes>"
      ]
     },
     "metadata": {
      "needs_background": "light"
     }
    }
   ],
   "metadata": {}
  },
  {
   "cell_type": "markdown",
   "source": [
    "### Test result"
   ],
   "metadata": {}
  },
  {
   "cell_type": "code",
   "execution_count": 36,
   "source": [
    "logit_cls_bp.fit(X_train, y_train)"
   ],
   "outputs": [
    {
     "output_type": "stream",
     "name": "stderr",
     "text": [
      "C:\\Users\\marco\\anaconda3\\lib\\site-packages\\sklearn\\linear_model\\_logistic.py:1353: UserWarning: 'n_jobs' > 1 does not have any effect when 'solver' is set to 'liblinear'. Got 'n_jobs' = 16.\n",
      "  warnings.warn(\"'n_jobs' > 1 does not have any effect when\"\n"
     ]
    },
    {
     "output_type": "execute_result",
     "data": {
      "text/plain": [
       "LogisticRegression(C=1, max_iter=1000, n_jobs=-1, penalty='l1', random_state=1,\n",
       "                   solver='liblinear')"
      ]
     },
     "metadata": {},
     "execution_count": 36
    }
   ],
   "metadata": {
    "scrolled": true
   }
  },
  {
   "cell_type": "code",
   "execution_count": 38,
   "source": [
    "y_pred_lr = logit_cls_bp.predict(X_test)\n",
    "print(\"Accuracy SCore\", accuracy_score(y_test, y_pred_lr))\n",
    "print(\"F1 SCore\", f1_score(y_test, y_pred_lr, average='weighted'))\n",
    "print(\"Precision Score\", precision_score(y_test, y_pred_lr, average='weighted'))\n",
    "print(\"Recall SCore\", recall_score(y_test, y_pred_lr, average='weighted'))\n",
    "cm = confusion_matrix(y_test, y_pred_lr)\n",
    "ax= plt.subplot()\n",
    "sns.heatmap(cm, annot=False, ax = ax, cmap=\"Greens\", vmin=0, vmax=sum(sum(cm)));\n",
    "sns.heatmap(cm, annot=cm, fmt=\"\", cbar=False, cmap=\"Greens\", vmin=0, vmax=sum(sum(cm)))\n",
    "\n",
    "ax.set_xlabel('Predicted labels');ax.set_ylabel('True labels'); \n",
    "ax.xaxis.set_ticklabels(['failed', 'successful']); ax.yaxis.set_ticklabels(['failed', 'successful']);"
   ],
   "outputs": [
    {
     "output_type": "stream",
     "name": "stdout",
     "text": [
      "Accuracy SCore 0.782735680674996\n",
      "F1 SCore 0.7832522157413354\n",
      "Precision Score 0.784145252602204\n",
      "Recall SCore 0.782735680674996\n"
     ]
    },
    {
     "output_type": "display_data",
     "data": {
      "image/png": "[encoded data removed]",
      "text/plain": [
       "<Figure size 432x288 with 2 Axes>"
      ]
     },
     "metadata": {
      "needs_background": "light"
     }
    }
   ],
   "metadata": {}
  },
  {
   "cell_type": "markdown",
   "source": [
    "## Neural network"
   ],
   "metadata": {}
  },
  {
   "cell_type": "code",
   "execution_count": 13,
   "source": [
    "def build_model(n_neurons1=300, n_neurons2=200, n_neurons3=100, n_neurons4=50, n_neurons5=10, optimizer='adam', loss='binary_crossentropy', input_shape=[704]):\n",
    "    model = keras.models.Sequential()\n",
    "    model.add(keras.layers.InputLayer(input_shape=input_shape))\n",
    "    model.add(keras.layers.Dense(n_neurons1, activation=\"relu\"))\n",
    "    model.add(keras.layers.Dense(n_neurons2, activation=\"relu\"))\n",
    "    model.add(keras.layers.Dense(n_neurons3, activation=\"relu\"))\n",
    "    model.add(keras.layers.Dense(n_neurons4, activation=\"relu\"))\n",
    "    model.add(keras.layers.Dense(n_neurons5, activation=\"relu\"))\n",
    "    model.add(keras.layers.Dense(1, activation=\"sigmoid\"))\n",
    "    model.compile(loss=loss, optimizer=optimizer,\n",
    "                 metrics =  ['accuracy'])\n",
    "    return model"
   ],
   "outputs": [],
   "metadata": {}
  },
  {
   "cell_type": "code",
   "execution_count": 14,
   "source": [
    "X_trainNN, X_testNN, y_trainNN, y_testNN = train_test_split(fm2, ks_label_NN, test_size=0.3, random_state=45)\n",
    "X_trainNN.shape, y_trainNN.shape, X_testNN.shape, y_testNN.shape"
   ],
   "outputs": [
    {
     "output_type": "execute_result",
     "data": {
      "text/plain": [
       "((100661, 704), (100661,), (43141, 704), (43141,))"
      ]
     },
     "metadata": {},
     "execution_count": 14
    }
   ],
   "metadata": {}
  },
  {
   "cell_type": "markdown",
   "source": [
    "### Randomized search"
   ],
   "metadata": {}
  },
  {
   "cell_type": "code",
   "execution_count": 41,
   "source": [
    "keras_NN = keras.wrappers.scikit_learn.KerasClassifier(build_model)"
   ],
   "outputs": [],
   "metadata": {}
  },
  {
   "cell_type": "markdown",
   "source": [
    "#### 1"
   ],
   "metadata": {}
  },
  {
   "cell_type": "code",
   "execution_count": 42,
   "source": [
    "param_grid_NN = [\n",
    "    {\"n_neurons1\": [150, 300, 450],\n",
    "     \"n_neurons2\": [100, 200, 300],\n",
    "     \"n_neurons3\": [50, 100, 150],\n",
    "     \"n_neurons4\": [25, 50, 75],\n",
    "     \"n_neurons5\": [5, 10, 15],\n",
    "     \"optimizer\": ['SGD', 'Adam', 'AdaDelta']     \n",
    "    }\n",
    "]\n",
    "\n",
    "rand_search_NN = RandomizedSearchCV(keras_NN, \n",
    "                           param_distributions= param_grid_NN,\n",
    "                           cv=5,\n",
    "                           n_jobs=-1,\n",
    "                           scoring=['f1','accuracy'],\n",
    "                           refit = 'f1'\n",
    "                          )"
   ],
   "outputs": [],
   "metadata": {}
  },
  {
   "cell_type": "code",
   "execution_count": 43,
   "source": [
    "rand_search_NN.fit(X_trainNN, y_trainNN, epochs=50,\n",
    "                  validation_split=0.3,\n",
    "                  callbacks=[keras.callbacks.EarlyStopping(patience=4)],\n",
    "                  verbose = 0\n",
    "                 )"
   ],
   "outputs": [
    {
     "output_type": "execute_result",
     "data": {
      "text/plain": [
       "RandomizedSearchCV(cv=5,\n",
       "                   estimator=<tensorflow.python.keras.wrappers.scikit_learn.KerasClassifier object at 0x0000018CA91D64F0>,\n",
       "                   n_jobs=-1,\n",
       "                   param_distributions=[{'n_neurons1': [150, 300, 450],\n",
       "                                         'n_neurons2': [100, 200, 300],\n",
       "                                         'n_neurons3': [50, 100, 150],\n",
       "                                         'n_neurons4': [25, 50, 75],\n",
       "                                         'n_neurons5': [5, 10, 15],\n",
       "                                         'optimizer': ['SGD', 'Adam',\n",
       "                                                       'AdaDelta']}],\n",
       "                   refit='f1', scoring=['f1', 'accuracy'])"
      ]
     },
     "metadata": {},
     "execution_count": 43
    }
   ],
   "metadata": {
    "scrolled": false
   }
  },
  {
   "cell_type": "code",
   "execution_count": 44,
   "source": [
    "print('best score: ',rand_search_NN.best_score_)\n",
    "print('best params: ',rand_search_NN.best_params_)"
   ],
   "outputs": [
    {
     "output_type": "stream",
     "name": "stdout",
     "text": [
      "best score:  0.8097694089840399\n",
      "best params:  {'optimizer': 'SGD', 'n_neurons5': 10, 'n_neurons4': 50, 'n_neurons3': 50, 'n_neurons2': 300, 'n_neurons1': 150}\n"
     ]
    }
   ],
   "metadata": {}
  },
  {
   "cell_type": "markdown",
   "source": [
    "#### 2"
   ],
   "metadata": {}
  },
  {
   "cell_type": "code",
   "execution_count": 45,
   "source": [
    "rand_search_NN1 = RandomizedSearchCV(keras_NN, \n",
    "                           param_distributions= param_grid_NN,\n",
    "                           cv=5,\n",
    "                           n_jobs=-1,\n",
    "                           scoring=['f1','accuracy'],\n",
    "                           refit = 'f1'\n",
    "                          )"
   ],
   "outputs": [],
   "metadata": {}
  },
  {
   "cell_type": "code",
   "execution_count": 46,
   "source": [
    "rand_search_NN1.fit(X_trainNN, y_trainNN, epochs=50,\n",
    "                  validation_split=0.3,\n",
    "                  callbacks=[keras.callbacks.EarlyStopping(patience=4)],\n",
    "                  verbose = 0\n",
    "                 )"
   ],
   "outputs": [
    {
     "output_type": "execute_result",
     "data": {
      "text/plain": [
       "RandomizedSearchCV(cv=5,\n",
       "                   estimator=<tensorflow.python.keras.wrappers.scikit_learn.KerasClassifier object at 0x0000018CA91D64F0>,\n",
       "                   n_jobs=-1,\n",
       "                   param_distributions=[{'n_neurons1': [150, 300, 450],\n",
       "                                         'n_neurons2': [100, 200, 300],\n",
       "                                         'n_neurons3': [50, 100, 150],\n",
       "                                         'n_neurons4': [25, 50, 75],\n",
       "                                         'n_neurons5': [5, 10, 15],\n",
       "                                         'optimizer': ['SGD', 'Adam',\n",
       "                                                       'AdaDelta']}],\n",
       "                   refit='f1', scoring=['f1', 'accuracy'])"
      ]
     },
     "metadata": {},
     "execution_count": 46
    }
   ],
   "metadata": {
    "scrolled": false
   }
  },
  {
   "cell_type": "code",
   "execution_count": 47,
   "source": [
    "print('best score: ',rand_search_NN1.best_score_)\n",
    "print('best params: ',rand_search_NN1.best_params_)"
   ],
   "outputs": [
    {
     "output_type": "stream",
     "name": "stdout",
     "text": [
      "best score:  0.8048338476587166\n",
      "best params:  {'optimizer': 'Adam', 'n_neurons5': 5, 'n_neurons4': 75, 'n_neurons3': 50, 'n_neurons2': 300, 'n_neurons1': 450}\n"
     ]
    }
   ],
   "metadata": {}
  },
  {
   "cell_type": "markdown",
   "source": [
    "#### 3"
   ],
   "metadata": {}
  },
  {
   "cell_type": "code",
   "execution_count": 48,
   "source": [
    "param_grid_NN2 = [\n",
    "    {\"n_neurons1\": [150, 200, 100],\n",
    "     \"n_neurons2\": [400, 200, 300],\n",
    "     \"n_neurons3\": [50, 100, 150],\n",
    "     \"n_neurons4\": [25, 50, 75],\n",
    "     \"n_neurons5\": [5, 10, 15],\n",
    "     \"optimizer\": ['SGD', 'Adam', 'AdaDelta']     \n",
    "    }\n",
    "]\n",
    "\n",
    "rand_search_NN2 = RandomizedSearchCV(keras_NN, \n",
    "                           param_distributions= param_grid_NN2,\n",
    "                           cv=5,\n",
    "                           n_jobs=-1,\n",
    "                           scoring=['f1','accuracy'],\n",
    "                           refit = 'f1'\n",
    "                          )"
   ],
   "outputs": [],
   "metadata": {}
  },
  {
   "cell_type": "code",
   "execution_count": 49,
   "source": [
    "rand_search_NN2.fit(X_trainNN, y_trainNN, epochs=50,\n",
    "                  validation_split=0.3,\n",
    "                  callbacks=[keras.callbacks.EarlyStopping(patience=4)],\n",
    "                  verbose = 0\n",
    "                 )"
   ],
   "outputs": [
    {
     "output_type": "execute_result",
     "data": {
      "text/plain": [
       "RandomizedSearchCV(cv=5,\n",
       "                   estimator=<tensorflow.python.keras.wrappers.scikit_learn.KerasClassifier object at 0x0000018CA91D64F0>,\n",
       "                   n_jobs=-1,\n",
       "                   param_distributions=[{'n_neurons1': [150, 200, 100],\n",
       "                                         'n_neurons2': [400, 200, 300],\n",
       "                                         'n_neurons3': [50, 100, 150],\n",
       "                                         'n_neurons4': [25, 50, 75],\n",
       "                                         'n_neurons5': [5, 10, 15],\n",
       "                                         'optimizer': ['SGD', 'Adam',\n",
       "                                                       'AdaDelta']}],\n",
       "                   refit='f1', scoring=['f1', 'accuracy'])"
      ]
     },
     "metadata": {},
     "execution_count": 49
    }
   ],
   "metadata": {
    "scrolled": false
   }
  },
  {
   "cell_type": "code",
   "execution_count": 50,
   "source": [
    "print('best score: ',rand_search_NN2.best_score_)\n",
    "print('best params: ',rand_search_NN2.best_params_)"
   ],
   "outputs": [
    {
     "output_type": "stream",
     "name": "stdout",
     "text": [
      "best score:  0.8120785474954897\n",
      "best params:  {'optimizer': 'SGD', 'n_neurons5': 5, 'n_neurons4': 50, 'n_neurons3': 100, 'n_neurons2': 400, 'n_neurons1': 100}\n"
     ]
    }
   ],
   "metadata": {}
  },
  {
   "cell_type": "markdown",
   "source": [
    "### Utilizzo best_params"
   ],
   "metadata": {}
  },
  {
   "cell_type": "code",
   "execution_count": 51,
   "source": [
    "model_bp = keras.models.Sequential([\n",
    "    keras.layers.Input(shape=(X_trainNN.shape[1:])),\n",
    "    keras.layers.Dense(100, activation=\"relu\"),\n",
    "    keras.layers.Dense(400, activation=\"relu\"),\n",
    "    keras.layers.Dense(100, activation=\"relu\"),\n",
    "    keras.layers.Dense(50, activation=\"relu\"),\n",
    "    keras.layers.Dense(5, activation=\"relu\"),\n",
    "    keras.layers.Dense(1, activation=\"sigmoid\")\n",
    "    ])\n",
    "\n",
    "model_bp.compile(loss = 'binary_crossentropy',\n",
    "              optimizer = 'SGD',\n",
    "              metrics =  ['accuracy']\n",
    "             )\n",
    "\n",
    "history_bp = model_bp.fit(X_trainNN, y_trainNN,\n",
    "                    epochs=50,\n",
    "                    batch_size=None,\n",
    "                    validation_split=0.3,\n",
    "                    callbacks=[keras.callbacks.EarlyStopping(patience=4)]\n",
    "         )"
   ],
   "outputs": [
    {
     "output_type": "stream",
     "name": "stdout",
     "text": [
      "Epoch 1/50\n",
      "2202/2202 [==============================] - 4s 2ms/step - loss: 0.6563 - accuracy: 0.6055 - val_loss: 0.5776 - val_accuracy: 0.7018\n",
      "Epoch 2/50\n",
      "2202/2202 [==============================] - 3s 1ms/step - loss: 0.5371 - accuracy: 0.7273 - val_loss: 0.4673 - val_accuracy: 0.7632\n",
      "Epoch 3/50\n",
      "2202/2202 [==============================] - 3s 1ms/step - loss: 0.4650 - accuracy: 0.7641 - val_loss: 0.4406 - val_accuracy: 0.7763\n",
      "Epoch 4/50\n",
      "2202/2202 [==============================] - 3s 1ms/step - loss: 0.4380 - accuracy: 0.7793 - val_loss: 0.4536 - val_accuracy: 0.7666\n",
      "Epoch 5/50\n",
      "2202/2202 [==============================] - 3s 1ms/step - loss: 0.4250 - accuracy: 0.7858 - val_loss: 0.4456 - val_accuracy: 0.7685\n",
      "Epoch 6/50\n",
      "2202/2202 [==============================] - 3s 1ms/step - loss: 0.4240 - accuracy: 0.7845 - val_loss: 0.4258 - val_accuracy: 0.7855\n",
      "Epoch 7/50\n",
      "2202/2202 [==============================] - 3s 2ms/step - loss: 0.4162 - accuracy: 0.7907 - val_loss: 0.4196 - val_accuracy: 0.7875\n",
      "Epoch 8/50\n",
      "2202/2202 [==============================] - 3s 1ms/step - loss: 0.4140 - accuracy: 0.7912 - val_loss: 0.4306 - val_accuracy: 0.7803\n",
      "Epoch 9/50\n",
      "2202/2202 [==============================] - 3s 2ms/step - loss: 0.4124 - accuracy: 0.7936 - val_loss: 0.4223 - val_accuracy: 0.7851\n",
      "Epoch 10/50\n",
      "2202/2202 [==============================] - 3s 1ms/step - loss: 0.4050 - accuracy: 0.7970 - val_loss: 0.4213 - val_accuracy: 0.7855\n",
      "Epoch 11/50\n",
      "2202/2202 [==============================] - 3s 1ms/step - loss: 0.4118 - accuracy: 0.7950 - val_loss: 0.4414 - val_accuracy: 0.7797\n"
     ]
    }
   ],
   "metadata": {
    "scrolled": true
   }
  },
  {
   "cell_type": "code",
   "execution_count": 52,
   "source": [
    "pd.DataFrame(history_bp.history).plot(figsize=(12,4))\n",
    "plt.grid(True)"
   ],
   "outputs": [
    {
     "output_type": "display_data",
     "data": {
      "image/png": "[encoded data removed]",
      "text/plain": [
       "<Figure size 864x288 with 1 Axes>"
      ]
     },
     "metadata": {
      "needs_background": "light"
     }
    }
   ],
   "metadata": {
    "scrolled": false
   }
  },
  {
   "cell_type": "markdown",
   "source": [
    "### Test result"
   ],
   "metadata": {}
  },
  {
   "cell_type": "code",
   "execution_count": 53,
   "source": [
    "y_pred_NN = (model_bp.predict(X_testNN) > 0.5).astype(\"int32\")\n",
    "print(\"Accuracy SCore\", accuracy_score(y_testNN, y_pred_NN))\n",
    "print(\"F1 SCore\", f1_score(y_testNN, y_pred_NN, average='weighted'))\n",
    "print(\"Precision Score\", precision_score(y_testNN, y_pred_NN, average='weighted'))\n",
    "print(\"Recall SCore\", recall_score(y_testNN, y_pred_NN, average='weighted'))\n",
    "print(\"Confusion Matrix \\n\", confusion_matrix(y_testNN, y_pred_NN))"
   ],
   "outputs": [
    {
     "output_type": "stream",
     "name": "stdout",
     "text": [
      "Accuracy SCore 0.7790964511717392\n",
      "F1 SCore 0.7804142268459016\n",
      "Precision Score 0.7858652474093478\n",
      "Recall SCore 0.7790964511717392\n",
      "Confusion Matrix \n",
      " [[14342  3653]\n",
      " [ 5877 19269]]\n"
     ]
    }
   ],
   "metadata": {}
  },
  {
   "cell_type": "markdown",
   "source": [
    "### Tune manuale"
   ],
   "metadata": {}
  },
  {
   "cell_type": "markdown",
   "source": [
    "#### 1"
   ],
   "metadata": {}
  },
  {
   "cell_type": "code",
   "execution_count": 54,
   "source": [
    "model1 = keras.models.Sequential([\n",
    "    keras.layers.Input(shape=(X_trainNN.shape[1:])),\n",
    "    keras.layers.Dense(300, activation=\"relu\"),\n",
    "    keras.layers.Dense(200, activation=\"relu\"),\n",
    "    keras.layers.Dense(100, activation=\"relu\"),\n",
    "    keras.layers.Dense(50, activation=\"relu\"),\n",
    "    keras.layers.Dense(10, activation=\"relu\"),\n",
    "    keras.layers.Dense(1, activation=\"sigmoid\")\n",
    "    ])\n",
    "\n",
    "model1.compile(loss = 'binary_crossentropy',\n",
    "              optimizer = 'sgd',\n",
    "              metrics =  ['accuracy']\n",
    "             )\n",
    "\n",
    "history1 = model1.fit(X_trainNN, y_trainNN,\n",
    "                    epochs=50,\n",
    "                    batch_size=None,\n",
    "                    validation_split=0.3,\n",
    "                    callbacks=[keras.callbacks.EarlyStopping(patience=6)]\n",
    "         )"
   ],
   "outputs": [
    {
     "output_type": "stream",
     "name": "stdout",
     "text": [
      "Epoch 1/50\n",
      "2202/2202 [==============================] - 4s 2ms/step - loss: 0.6460 - accuracy: 0.6342 - val_loss: 0.5396 - val_accuracy: 0.7266\n",
      "Epoch 2/50\n",
      "2202/2202 [==============================] - 4s 2ms/step - loss: 0.5061 - accuracy: 0.7458 - val_loss: 0.4841 - val_accuracy: 0.7510\n",
      "Epoch 3/50\n",
      "2202/2202 [==============================] - 4s 2ms/step - loss: 0.4423 - accuracy: 0.7780 - val_loss: 0.4361 - val_accuracy: 0.7796\n",
      "Epoch 4/50\n",
      "2202/2202 [==============================] - 3s 2ms/step - loss: 0.4419 - accuracy: 0.7807 - val_loss: 0.4310 - val_accuracy: 0.7824\n",
      "Epoch 5/50\n",
      "2202/2202 [==============================] - 4s 2ms/step - loss: 0.4226 - accuracy: 0.7893 - val_loss: 0.4351 - val_accuracy: 0.7790\n",
      "Epoch 6/50\n",
      "2202/2202 [==============================] - 4s 2ms/step - loss: 0.4141 - accuracy: 0.7936 - val_loss: 0.4435 - val_accuracy: 0.7759\n",
      "Epoch 7/50\n",
      "2202/2202 [==============================] - 4s 2ms/step - loss: 0.4102 - accuracy: 0.7955 - val_loss: 0.4279 - val_accuracy: 0.7838\n",
      "Epoch 8/50\n",
      "2202/2202 [==============================] - 4s 2ms/step - loss: 0.4072 - accuracy: 0.7967 - val_loss: 0.4209 - val_accuracy: 0.7857\n",
      "Epoch 9/50\n",
      "2202/2202 [==============================] - 4s 2ms/step - loss: 0.3975 - accuracy: 0.8025 - val_loss: 0.4225 - val_accuracy: 0.7868\n",
      "Epoch 10/50\n",
      "2202/2202 [==============================] - 4s 2ms/step - loss: 0.3979 - accuracy: 0.8053 - val_loss: 0.4420 - val_accuracy: 0.7747\n",
      "Epoch 11/50\n",
      "2202/2202 [==============================] - 4s 2ms/step - loss: 0.3923 - accuracy: 0.8070 - val_loss: 0.4171 - val_accuracy: 0.7864\n",
      "Epoch 12/50\n",
      "2202/2202 [==============================] - 4s 2ms/step - loss: 0.3946 - accuracy: 0.8044 - val_loss: 0.4199 - val_accuracy: 0.7854\n",
      "Epoch 13/50\n",
      "2202/2202 [==============================] - 4s 2ms/step - loss: 0.3839 - accuracy: 0.8101 - val_loss: 0.4259 - val_accuracy: 0.7842\n",
      "Epoch 14/50\n",
      "2202/2202 [==============================] - 4s 2ms/step - loss: 0.3846 - accuracy: 0.8114 - val_loss: 0.4286 - val_accuracy: 0.7835\n",
      "Epoch 15/50\n",
      "2202/2202 [==============================] - 4s 2ms/step - loss: 0.3755 - accuracy: 0.8176 - val_loss: 0.4312 - val_accuracy: 0.7834\n",
      "Epoch 16/50\n",
      "2202/2202 [==============================] - 4s 2ms/step - loss: 0.3754 - accuracy: 0.8182 - val_loss: 0.4292 - val_accuracy: 0.7851\n",
      "Epoch 17/50\n",
      "2202/2202 [==============================] - 4s 2ms/step - loss: 0.3717 - accuracy: 0.8195 - val_loss: 0.4314 - val_accuracy: 0.7836\n"
     ]
    }
   ],
   "metadata": {
    "scrolled": true
   }
  },
  {
   "cell_type": "code",
   "execution_count": 55,
   "source": [
    "pd.DataFrame(history1.history).plot(figsize=(12,4))\n",
    "plt.grid(True)"
   ],
   "outputs": [
    {
     "output_type": "display_data",
     "data": {
      "image/png": "[encoded data removed]",
      "text/plain": [
       "<Figure size 864x288 with 1 Axes>"
      ]
     },
     "metadata": {
      "needs_background": "light"
     }
    }
   ],
   "metadata": {
    "scrolled": false
   }
  },
  {
   "cell_type": "code",
   "execution_count": 56,
   "source": [
    "y_pred_NN1 = (model1.predict(X_testNN) > 0.5).astype(\"int32\")\n",
    "print(\"Accuracy SCore\", accuracy_score(y_testNN, y_pred_NN1))\n",
    "print(\"F1 SCore\", f1_score(y_testNN, y_pred_NN1, average='weighted'))\n",
    "print(\"Precision Score\", precision_score(y_testNN, y_pred_NN1, average='weighted'))\n",
    "print(\"Recall SCore\", recall_score(y_testNN, y_pred_NN1, average='weighted'))\n",
    "print(\"Confusion Matrix \\n\", confusion_matrix(y_testNN, y_pred_NN1))"
   ],
   "outputs": [
    {
     "output_type": "stream",
     "name": "stdout",
     "text": [
      "Accuracy SCore 0.7815766903873346\n",
      "F1 SCore 0.7788302455875173\n",
      "Precision Score 0.7809189477262803\n",
      "Recall SCore 0.7815766903873346\n",
      "Confusion Matrix \n",
      " [[12111  5884]\n",
      " [ 3539 21607]]\n"
     ]
    }
   ],
   "metadata": {
    "scrolled": true
   }
  },
  {
   "cell_type": "markdown",
   "source": [
    "#### 11"
   ],
   "metadata": {}
  },
  {
   "cell_type": "code",
   "execution_count": 57,
   "source": [
    "model11 = keras.models.Sequential([\n",
    "    keras.layers.Input(shape=(X_trainNN.shape[1:])),\n",
    "    keras.layers.Dense(500, activation=\"relu\"),\n",
    "    keras.layers.Dense(300, activation=\"relu\"),\n",
    "    keras.layers.Dense(200, activation=\"relu\"),\n",
    "    keras.layers.Dense(100, activation=\"relu\"),\n",
    "    keras.layers.Dense(50, activation=\"relu\"),\n",
    "    keras.layers.Dense(10, activation=\"relu\"),\n",
    "    keras.layers.Dense(1, activation=\"sigmoid\")\n",
    "    ])\n",
    "\n",
    "model11.compile(loss = 'binary_crossentropy',\n",
    "              optimizer = 'sgd',\n",
    "              metrics =  ['accuracy']\n",
    "             )\n",
    "\n",
    "history11 = model11.fit(X_trainNN, y_trainNN,\n",
    "                    epochs=50,\n",
    "                    batch_size=None,\n",
    "                    validation_split=0.3\n",
    "         )"
   ],
   "outputs": [
    {
     "output_type": "stream",
     "name": "stdout",
     "text": [
      "Epoch 1/50\n",
      "2202/2202 [==============================] - 7s 3ms/step - loss: 0.6398 - accuracy: 0.6455 - val_loss: 0.6182 - val_accuracy: 0.6582\n",
      "Epoch 2/50\n",
      "2202/2202 [==============================] - 6s 3ms/step - loss: 0.5746 - accuracy: 0.6972 - val_loss: 0.4595 - val_accuracy: 0.7717\n",
      "Epoch 3/50\n",
      "2202/2202 [==============================] - 6s 3ms/step - loss: 0.4537 - accuracy: 0.7726 - val_loss: 0.4349 - val_accuracy: 0.7823\n",
      "Epoch 4/50\n",
      "2202/2202 [==============================] - 6s 3ms/step - loss: 0.4352 - accuracy: 0.7804 - val_loss: 0.4269 - val_accuracy: 0.7844\n",
      "Epoch 5/50\n",
      "2202/2202 [==============================] - 6s 3ms/step - loss: 0.4246 - accuracy: 0.7874 - val_loss: 0.4394 - val_accuracy: 0.7796\n",
      "Epoch 6/50\n",
      "2202/2202 [==============================] - 6s 3ms/step - loss: 0.4154 - accuracy: 0.7930 - val_loss: 0.4253 - val_accuracy: 0.7828\n",
      "Epoch 7/50\n",
      "2202/2202 [==============================] - 6s 3ms/step - loss: 0.4124 - accuracy: 0.7951 - val_loss: 0.4323 - val_accuracy: 0.7832\n",
      "Epoch 8/50\n",
      "2202/2202 [==============================] - 6s 3ms/step - loss: 0.4069 - accuracy: 0.7995 - val_loss: 0.4229 - val_accuracy: 0.7848\n",
      "Epoch 9/50\n",
      "2202/2202 [==============================] - 6s 3ms/step - loss: 0.3979 - accuracy: 0.8012 - val_loss: 0.4319 - val_accuracy: 0.7829\n",
      "Epoch 10/50\n",
      "2202/2202 [==============================] - 6s 3ms/step - loss: 0.3986 - accuracy: 0.8030 - val_loss: 0.4218 - val_accuracy: 0.7878\n",
      "Epoch 11/50\n",
      "2202/2202 [==============================] - 6s 3ms/step - loss: 0.3957 - accuracy: 0.8040 - val_loss: 0.4281 - val_accuracy: 0.7821\n",
      "Epoch 12/50\n",
      "2202/2202 [==============================] - 6s 3ms/step - loss: 0.3867 - accuracy: 0.8112 - val_loss: 0.4213 - val_accuracy: 0.7864\n",
      "Epoch 13/50\n",
      "2202/2202 [==============================] - 6s 3ms/step - loss: 0.3838 - accuracy: 0.8115 - val_loss: 0.4267 - val_accuracy: 0.7862\n",
      "Epoch 14/50\n",
      "2202/2202 [==============================] - 6s 3ms/step - loss: 0.3815 - accuracy: 0.8140 - val_loss: 0.4201 - val_accuracy: 0.7875\n",
      "Epoch 15/50\n",
      "2202/2202 [==============================] - 6s 3ms/step - loss: 0.3751 - accuracy: 0.8189 - val_loss: 0.4391 - val_accuracy: 0.7776\n",
      "Epoch 16/50\n",
      "2202/2202 [==============================] - 6s 3ms/step - loss: 0.3725 - accuracy: 0.8192 - val_loss: 0.4374 - val_accuracy: 0.7830\n",
      "Epoch 17/50\n",
      "2202/2202 [==============================] - 6s 3ms/step - loss: 0.3672 - accuracy: 0.8221 - val_loss: 0.4312 - val_accuracy: 0.7823\n",
      "Epoch 18/50\n",
      "2202/2202 [==============================] - 6s 3ms/step - loss: 0.3591 - accuracy: 0.8267 - val_loss: 0.4298 - val_accuracy: 0.7825\n",
      "Epoch 19/50\n",
      "2202/2202 [==============================] - 6s 3ms/step - loss: 0.3543 - accuracy: 0.8283 - val_loss: 0.4815 - val_accuracy: 0.7500\n",
      "Epoch 20/50\n",
      "2202/2202 [==============================] - 6s 3ms/step - loss: 0.3593 - accuracy: 0.8303 - val_loss: 0.4501 - val_accuracy: 0.7826\n",
      "Epoch 21/50\n",
      "2202/2202 [==============================] - 6s 3ms/step - loss: 0.3422 - accuracy: 0.8364 - val_loss: 0.4445 - val_accuracy: 0.7820\n",
      "Epoch 22/50\n",
      "2202/2202 [==============================] - 6s 3ms/step - loss: 0.3400 - accuracy: 0.8407 - val_loss: 0.4603 - val_accuracy: 0.7755\n",
      "Epoch 23/50\n",
      "2202/2202 [==============================] - 6s 3ms/step - loss: 0.3340 - accuracy: 0.8427 - val_loss: 0.5044 - val_accuracy: 0.7591\n",
      "Epoch 24/50\n",
      "2202/2202 [==============================] - 6s 3ms/step - loss: 0.3249 - accuracy: 0.8502 - val_loss: 0.4972 - val_accuracy: 0.7708\n",
      "Epoch 25/50\n",
      "2202/2202 [==============================] - 6s 3ms/step - loss: 0.3144 - accuracy: 0.8576 - val_loss: 0.4727 - val_accuracy: 0.7732\n",
      "Epoch 26/50\n",
      "2202/2202 [==============================] - 6s 3ms/step - loss: 0.3057 - accuracy: 0.8585 - val_loss: 0.4865 - val_accuracy: 0.7717\n",
      "Epoch 27/50\n",
      "2202/2202 [==============================] - 6s 3ms/step - loss: 0.2993 - accuracy: 0.8645 - val_loss: 0.4814 - val_accuracy: 0.7727\n",
      "Epoch 28/50\n",
      "2202/2202 [==============================] - 6s 3ms/step - loss: 0.2952 - accuracy: 0.8653 - val_loss: 0.5320 - val_accuracy: 0.7686\n",
      "Epoch 29/50\n",
      "2202/2202 [==============================] - 6s 3ms/step - loss: 0.2868 - accuracy: 0.8707 - val_loss: 0.5174 - val_accuracy: 0.7754\n",
      "Epoch 30/50\n",
      "2202/2202 [==============================] - 6s 3ms/step - loss: 0.2757 - accuracy: 0.8772 - val_loss: 0.5050 - val_accuracy: 0.7722\n",
      "Epoch 31/50\n",
      "2202/2202 [==============================] - 6s 3ms/step - loss: 0.2669 - accuracy: 0.8824 - val_loss: 0.5908 - val_accuracy: 0.7432\n",
      "Epoch 32/50\n",
      "2202/2202 [==============================] - 6s 3ms/step - loss: 0.2602 - accuracy: 0.8841 - val_loss: 0.5542 - val_accuracy: 0.7763\n",
      "Epoch 33/50\n",
      "2202/2202 [==============================] - 6s 3ms/step - loss: 0.2561 - accuracy: 0.8854 - val_loss: 0.5482 - val_accuracy: 0.7698\n",
      "Epoch 34/50\n",
      "2202/2202 [==============================] - 6s 3ms/step - loss: 0.2419 - accuracy: 0.8943 - val_loss: 0.5766 - val_accuracy: 0.7615\n",
      "Epoch 35/50\n",
      "2202/2202 [==============================] - 6s 3ms/step - loss: 0.2374 - accuracy: 0.8954 - val_loss: 0.5927 - val_accuracy: 0.7762\n",
      "Epoch 36/50\n",
      "2202/2202 [==============================] - 6s 3ms/step - loss: 0.2270 - accuracy: 0.8999 - val_loss: 0.6908 - val_accuracy: 0.7372\n",
      "Epoch 37/50\n",
      "2202/2202 [==============================] - 6s 3ms/step - loss: 0.2234 - accuracy: 0.9041 - val_loss: 0.6192 - val_accuracy: 0.7690\n",
      "Epoch 38/50\n",
      "2202/2202 [==============================] - 6s 3ms/step - loss: 0.2160 - accuracy: 0.9062 - val_loss: 0.6273 - val_accuracy: 0.7677\n",
      "Epoch 39/50\n",
      "2202/2202 [==============================] - 6s 3ms/step - loss: 0.2075 - accuracy: 0.9106 - val_loss: 0.6552 - val_accuracy: 0.7726\n",
      "Epoch 40/50\n",
      "2202/2202 [==============================] - 6s 3ms/step - loss: 0.1970 - accuracy: 0.9162 - val_loss: 0.6793 - val_accuracy: 0.7612\n",
      "Epoch 41/50\n",
      "2202/2202 [==============================] - 6s 3ms/step - loss: 0.1916 - accuracy: 0.9169 - val_loss: 0.6579 - val_accuracy: 0.7669\n",
      "Epoch 42/50\n",
      "2202/2202 [==============================] - 6s 3ms/step - loss: 0.1844 - accuracy: 0.9221 - val_loss: 0.6653 - val_accuracy: 0.7673\n",
      "Epoch 43/50\n",
      "2202/2202 [==============================] - 6s 3ms/step - loss: 0.1791 - accuracy: 0.9251 - val_loss: 0.7146 - val_accuracy: 0.7666\n",
      "Epoch 44/50\n",
      "2202/2202 [==============================] - 6s 3ms/step - loss: 0.1714 - accuracy: 0.9279 - val_loss: 0.8350 - val_accuracy: 0.7441\n",
      "Epoch 45/50\n",
      "2202/2202 [==============================] - 6s 3ms/step - loss: 0.1681 - accuracy: 0.9288 - val_loss: 0.7589 - val_accuracy: 0.7547\n",
      "Epoch 46/50\n",
      "2202/2202 [==============================] - 6s 3ms/step - loss: 0.1590 - accuracy: 0.9331 - val_loss: 0.7580 - val_accuracy: 0.7618\n",
      "Epoch 47/50\n",
      "2202/2202 [==============================] - 6s 3ms/step - loss: 0.1537 - accuracy: 0.9345 - val_loss: 0.7750 - val_accuracy: 0.7557\n",
      "Epoch 48/50\n",
      "2202/2202 [==============================] - 6s 3ms/step - loss: 0.1464 - accuracy: 0.9390 - val_loss: 1.0016 - val_accuracy: 0.7343\n",
      "Epoch 49/50\n",
      "2202/2202 [==============================] - 6s 3ms/step - loss: 0.1398 - accuracy: 0.9435 - val_loss: 0.8107 - val_accuracy: 0.7621\n",
      "Epoch 50/50\n",
      "2202/2202 [==============================] - 6s 3ms/step - loss: 0.1368 - accuracy: 0.9426 - val_loss: 0.8328 - val_accuracy: 0.7556\n"
     ]
    }
   ],
   "metadata": {
    "scrolled": true
   }
  },
  {
   "cell_type": "code",
   "execution_count": 58,
   "source": [
    "pd.DataFrame(history11.history).plot(figsize=(12,4))\n",
    "plt.grid(True)"
   ],
   "outputs": [
    {
     "output_type": "display_data",
     "data": {
      "image/png": "[encoded data removed]",
      "text/plain": [
       "<Figure size 864x288 with 1 Axes>"
      ]
     },
     "metadata": {
      "needs_background": "light"
     }
    }
   ],
   "metadata": {
    "scrolled": false
   }
  },
  {
   "cell_type": "code",
   "execution_count": 59,
   "source": [
    "y_pred_NN11 = (model11.predict(X_testNN) > 0.5).astype(\"int32\")\n",
    "print(\"Accuracy SCore\", accuracy_score(y_testNN, y_pred_NN11))\n",
    "print(\"F1 SCore\", f1_score(y_testNN, y_pred_NN11, average='weighted'))\n",
    "print(\"Precision Score\", precision_score(y_testNN, y_pred_NN11, average='weighted'))\n",
    "print(\"Recall SCore\", recall_score(y_testNN, y_pred_NN11, average='weighted'))\n",
    "print(\"Confusion Matrix \\n\", confusion_matrix(y_testNN, y_pred_NN11))"
   ],
   "outputs": [
    {
     "output_type": "stream",
     "name": "stdout",
     "text": [
      "Accuracy SCore 0.7512575044621126\n",
      "F1 SCore 0.7514639379062106\n",
      "Precision Score 0.7517086576076021\n",
      "Recall SCore 0.7512575044621126\n",
      "Confusion Matrix \n",
      " [[12738  5257]\n",
      " [ 5474 19672]]\n"
     ]
    }
   ],
   "metadata": {}
  },
  {
   "cell_type": "markdown",
   "source": [
    "#### 2"
   ],
   "metadata": {}
  },
  {
   "cell_type": "code",
   "execution_count": 31,
   "source": [
    "model2 = keras.models.Sequential([\n",
    "    keras.layers.Input(shape=(X_trainNN.shape[1:])),\n",
    "    keras.layers.Dense(500, kernel_initializer=\"he_normal\"),\n",
    "    keras.layers.LeakyReLU(),\n",
    "    keras.layers.Dense(300, kernel_initializer=\"he_normal\"),\n",
    "    keras.layers.LeakyReLU(),\n",
    "    keras.layers.Dense(200, kernel_initializer=\"he_normal\"),\n",
    "    keras.layers.LeakyReLU(),\n",
    "    keras.layers.Dense(100, kernel_initializer=\"he_normal\"),\n",
    "    keras.layers.LeakyReLU(),\n",
    "    keras.layers.Dense(50, kernel_initializer=\"he_normal\"),\n",
    "    keras.layers.LeakyReLU(),\n",
    "    keras.layers.Dense(10, kernel_initializer=\"he_normal\"),\n",
    "    keras.layers.LeakyReLU(),\n",
    "    keras.layers.Dense(1, activation=\"sigmoid\")])\n",
    "model2.compile(loss = 'binary_crossentropy',\n",
    "              optimizer = 'adam',\n",
    "              metrics =  ['accuracy'])\n",
    "history2 = model2.fit(X_trainNN, y_trainNN,\n",
    "                    epochs=50,\n",
    "                    batch_size=None,\n",
    "                    validation_split=0.3,\n",
    "                    callbacks=[keras.callbacks.EarlyStopping(patience=4)])"
   ],
   "outputs": [
    {
     "output_type": "stream",
     "name": "stdout",
     "text": [
      "Epoch 1/50\n",
      "2202/2202 [==============================] - 8s 3ms/step - loss: 0.4795 - accuracy: 0.7552 - val_loss: 0.4383 - val_accuracy: 0.7811\n",
      "Epoch 2/50\n",
      "2202/2202 [==============================] - 7s 3ms/step - loss: 0.4272 - accuracy: 0.7890 - val_loss: 0.4200 - val_accuracy: 0.7865\n",
      "Epoch 3/50\n",
      "2202/2202 [==============================] - 7s 3ms/step - loss: 0.4108 - accuracy: 0.7944 - val_loss: 0.4247 - val_accuracy: 0.7857\n",
      "Epoch 4/50\n",
      "2202/2202 [==============================] - 7s 3ms/step - loss: 0.4053 - accuracy: 0.7985 - val_loss: 0.4163 - val_accuracy: 0.7874\n",
      "Epoch 5/50\n",
      "2202/2202 [==============================] - 7s 3ms/step - loss: 0.3966 - accuracy: 0.8037 - val_loss: 0.4297 - val_accuracy: 0.7777\n",
      "Epoch 6/50\n",
      "2202/2202 [==============================] - 7s 3ms/step - loss: 0.3881 - accuracy: 0.8081 - val_loss: 0.4175 - val_accuracy: 0.7845\n",
      "Epoch 7/50\n",
      "2202/2202 [==============================] - 7s 3ms/step - loss: 0.4017 - accuracy: 0.8131 - val_loss: 0.4214 - val_accuracy: 0.7842\n",
      "Epoch 8/50\n",
      "2202/2202 [==============================] - 7s 3ms/step - loss: 0.3858 - accuracy: 0.8159 - val_loss: 0.4242 - val_accuracy: 0.7855\n"
     ]
    }
   ],
   "metadata": {
    "scrolled": false
   }
  },
  {
   "cell_type": "code",
   "execution_count": 32,
   "source": [
    "pd.DataFrame(history2.history).plot(figsize=(12,4))\n",
    "plt.grid(True)"
   ],
   "outputs": [
    {
     "output_type": "display_data",
     "data": {
      "image/png": "[encoded data removed]",
      "text/plain": [
       "<Figure size 864x288 with 1 Axes>"
      ]
     },
     "metadata": {
      "needs_background": "light"
     }
    }
   ],
   "metadata": {
    "scrolled": true
   }
  },
  {
   "cell_type": "code",
   "execution_count": 33,
   "source": [
    "y_pred_NN2 = (model2.predict(X_testNN) > 0.5).astype(\"int32\")\n",
    "print(\"Accuracy SCore\", accuracy_score(y_testNN, y_pred_NN2))\n",
    "print(\"F1 SCore\", f1_score(y_testNN, y_pred_NN2, average='weighted'))\n",
    "print(\"Precision Score\", precision_score(y_testNN, y_pred_NN2, average='weighted'))\n",
    "print(\"Recall SCore\", recall_score(y_testNN, y_pred_NN2, average='weighted'))\n",
    "cm_NN = confusion_matrix(y_testNN, y_pred_NN2)\n",
    "ax= plt.subplot()\n",
    "sns.heatmap(cm_NN, annot=False, ax = ax, cmap=\"Greens\", vmin=0, vmax=sum(sum(cm_NN)));\n",
    "sns.heatmap(cm_NN, annot=cm_NN, fmt=\"\", cbar=False, cmap=\"Greens\", vmin=0, vmax=sum(sum(cm_NN)))\n",
    "\n",
    "ax.set_xlabel('Predicted labels');ax.set_ylabel('True labels'); \n",
    "ax.xaxis.set_ticklabels(['failed', 'successful']); ax.yaxis.set_ticklabels(['failed', 'successful']);"
   ],
   "outputs": [
    {
     "output_type": "stream",
     "name": "stdout",
     "text": [
      "Accuracy SCore 0.785285459307851\n",
      "F1 SCore 0.7851438507948177\n",
      "Precision Score 0.7850249792438833\n",
      "Recall SCore 0.785285459307851\n"
     ]
    },
    {
     "output_type": "display_data",
     "data": {
      "image/png": "[encoded data removed]",
      "text/plain": [
       "<Figure size 432x288 with 2 Axes>"
      ]
     },
     "metadata": {
      "needs_background": "light"
     }
    }
   ],
   "metadata": {}
  },
  {
   "cell_type": "markdown",
   "source": [
    "#### 22"
   ],
   "metadata": {}
  },
  {
   "cell_type": "code",
   "execution_count": 75,
   "source": [
    "model22 = keras.models.Sequential([\n",
    "    keras.layers.Input(shape=(X_trainNN.shape[1:])),\n",
    "    keras.layers.Dense(500, kernel_initializer=\"he_normal\"),\n",
    "    keras.layers.LeakyReLU(),\n",
    "    keras.layers.Dense(300, kernel_initializer=\"he_normal\"),\n",
    "    keras.layers.LeakyReLU(),\n",
    "    keras.layers.Dense(200, kernel_initializer=\"he_normal\"),\n",
    "    keras.layers.LeakyReLU(),\n",
    "    keras.layers.Dense(100, kernel_initializer=\"he_normal\"),\n",
    "    keras.layers.LeakyReLU(),\n",
    "    keras.layers.Dense(50, kernel_initializer=\"he_normal\"),\n",
    "    keras.layers.LeakyReLU(),\n",
    "    keras.layers.Dense(10, kernel_initializer=\"he_normal\"),\n",
    "    keras.layers.LeakyReLU(),\n",
    "    keras.layers.Dense(1, activation=\"sigmoid\")\n",
    "    ])\n",
    "\n",
    "model22.compile(loss = 'binary_crossentropy',\n",
    "              optimizer = 'sgd',\n",
    "              metrics =  ['accuracy']\n",
    "             )\n",
    "\n",
    "history22 = model22.fit(X_trainNN, y_trainNN,\n",
    "                    epochs=50,\n",
    "                    batch_size=None,\n",
    "                    validation_split=0.3\n",
    "         )"
   ],
   "outputs": [
    {
     "output_type": "stream",
     "name": "stdout",
     "text": [
      "Epoch 1/50\n",
      "2202/2202 [==============================] - 6s 3ms/step - loss: 0.6082 - accuracy: 0.6645 - val_loss: 1.5803 - val_accuracy: 0.6290\n",
      "Epoch 2/50\n",
      "2202/2202 [==============================] - 6s 3ms/step - loss: 0.6153 - accuracy: 0.6867 - val_loss: 0.5902 - val_accuracy: 0.6444\n",
      "Epoch 3/50\n",
      "2202/2202 [==============================] - 6s 3ms/step - loss: 0.5584 - accuracy: 0.7024 - val_loss: 0.4569 - val_accuracy: 0.7704\n",
      "Epoch 4/50\n",
      "2202/2202 [==============================] - 6s 3ms/step - loss: 0.4498 - accuracy: 0.7748 - val_loss: 0.4584 - val_accuracy: 0.7641\n",
      "Epoch 5/50\n",
      "2202/2202 [==============================] - 6s 3ms/step - loss: 0.4312 - accuracy: 0.7835 - val_loss: 0.4339 - val_accuracy: 0.7799\n",
      "Epoch 6/50\n",
      "2202/2202 [==============================] - 6s 3ms/step - loss: 0.4212 - accuracy: 0.7887 - val_loss: 0.4252 - val_accuracy: 0.7833\n",
      "Epoch 7/50\n",
      "2202/2202 [==============================] - 6s 3ms/step - loss: 0.4163 - accuracy: 0.7914 - val_loss: 0.4290 - val_accuracy: 0.7830\n",
      "Epoch 8/50\n",
      "2202/2202 [==============================] - 6s 3ms/step - loss: 0.4146 - accuracy: 0.7950 - val_loss: 0.4193 - val_accuracy: 0.7864\n",
      "Epoch 9/50\n",
      "2202/2202 [==============================] - 6s 3ms/step - loss: 0.4066 - accuracy: 0.7983 - val_loss: 0.4235 - val_accuracy: 0.7871\n",
      "Epoch 10/50\n",
      "2202/2202 [==============================] - 6s 3ms/step - loss: 0.4394 - accuracy: 0.7875 - val_loss: 0.5371 - val_accuracy: 0.7093\n",
      "Epoch 11/50\n",
      "2202/2202 [==============================] - 6s 3ms/step - loss: 0.4973 - accuracy: 0.7460 - val_loss: 0.4469 - val_accuracy: 0.7743\n",
      "Epoch 12/50\n",
      "2202/2202 [==============================] - 6s 3ms/step - loss: 0.4381 - accuracy: 0.7831 - val_loss: 0.4352 - val_accuracy: 0.7812\n",
      "Epoch 13/50\n",
      "2202/2202 [==============================] - 6s 3ms/step - loss: 0.4181 - accuracy: 0.7937 - val_loss: 0.4260 - val_accuracy: 0.7840\n",
      "Epoch 14/50\n",
      "2202/2202 [==============================] - 6s 3ms/step - loss: 0.4122 - accuracy: 0.7964 - val_loss: 0.4240 - val_accuracy: 0.7872\n",
      "Epoch 15/50\n",
      "2202/2202 [==============================] - 6s 3ms/step - loss: 0.4112 - accuracy: 0.7958 - val_loss: 0.4221 - val_accuracy: 0.7894\n",
      "Epoch 16/50\n",
      "2202/2202 [==============================] - 6s 3ms/step - loss: 0.4024 - accuracy: 0.7997 - val_loss: 0.4213 - val_accuracy: 0.7879\n",
      "Epoch 17/50\n",
      "2202/2202 [==============================] - 6s 3ms/step - loss: 0.4033 - accuracy: 0.8000 - val_loss: 0.4301 - val_accuracy: 0.7829\n",
      "Epoch 18/50\n",
      "2202/2202 [==============================] - 6s 3ms/step - loss: 0.3972 - accuracy: 0.8031 - val_loss: 0.4261 - val_accuracy: 0.7881\n",
      "Epoch 19/50\n",
      "2202/2202 [==============================] - 6s 3ms/step - loss: 0.3946 - accuracy: 0.8067 - val_loss: 0.4259 - val_accuracy: 0.7863\n",
      "Epoch 20/50\n",
      "2202/2202 [==============================] - 6s 3ms/step - loss: 0.3928 - accuracy: 0.8066 - val_loss: 0.4189 - val_accuracy: 0.7873\n",
      "Epoch 21/50\n",
      "2202/2202 [==============================] - 6s 3ms/step - loss: 0.3918 - accuracy: 0.8062 - val_loss: 0.4202 - val_accuracy: 0.7893\n",
      "Epoch 22/50\n",
      "2202/2202 [==============================] - 6s 3ms/step - loss: 0.3932 - accuracy: 0.8073 - val_loss: 0.4374 - val_accuracy: 0.7795\n",
      "Epoch 23/50\n",
      "2202/2202 [==============================] - 6s 3ms/step - loss: 0.3884 - accuracy: 0.8086 - val_loss: 0.4238 - val_accuracy: 0.7880\n",
      "Epoch 24/50\n",
      "2202/2202 [==============================] - 6s 3ms/step - loss: 0.3818 - accuracy: 0.8140 - val_loss: 0.4174 - val_accuracy: 0.7894\n",
      "Epoch 25/50\n",
      "2202/2202 [==============================] - 6s 3ms/step - loss: 0.3865 - accuracy: 0.8107 - val_loss: 0.4578 - val_accuracy: 0.7664\n",
      "Epoch 26/50\n",
      "2202/2202 [==============================] - 6s 3ms/step - loss: 0.3830 - accuracy: 0.8132 - val_loss: 0.4390 - val_accuracy: 0.7837\n",
      "Epoch 27/50\n",
      "2202/2202 [==============================] - 6s 3ms/step - loss: 0.3801 - accuracy: 0.8146 - val_loss: 0.4232 - val_accuracy: 0.7842\n",
      "Epoch 28/50\n",
      "2202/2202 [==============================] - 6s 3ms/step - loss: 0.3731 - accuracy: 0.8191 - val_loss: 0.4263 - val_accuracy: 0.7860\n",
      "Epoch 29/50\n",
      "2202/2202 [==============================] - 6s 3ms/step - loss: 0.3732 - accuracy: 0.8179 - val_loss: 0.4364 - val_accuracy: 0.7805\n",
      "Epoch 30/50\n",
      "2202/2202 [==============================] - 6s 3ms/step - loss: 0.3670 - accuracy: 0.8241 - val_loss: 0.4340 - val_accuracy: 0.7811\n",
      "Epoch 31/50\n",
      "2202/2202 [==============================] - 6s 3ms/step - loss: 0.3647 - accuracy: 0.8250 - val_loss: 0.4337 - val_accuracy: 0.7811\n",
      "Epoch 32/50\n",
      "2202/2202 [==============================] - 6s 3ms/step - loss: 0.3620 - accuracy: 0.8264 - val_loss: 0.4299 - val_accuracy: 0.7844\n",
      "Epoch 33/50\n",
      "2202/2202 [==============================] - 6s 3ms/step - loss: 0.3639 - accuracy: 0.8233 - val_loss: 0.4337 - val_accuracy: 0.7847\n",
      "Epoch 34/50\n",
      "2202/2202 [==============================] - 6s 3ms/step - loss: 0.3593 - accuracy: 0.8286 - val_loss: 0.4590 - val_accuracy: 0.7696\n",
      "Epoch 35/50\n",
      "2202/2202 [==============================] - 6s 3ms/step - loss: 0.3569 - accuracy: 0.8293 - val_loss: 0.4298 - val_accuracy: 0.7881\n",
      "Epoch 36/50\n",
      "2202/2202 [==============================] - 6s 3ms/step - loss: 0.3556 - accuracy: 0.8319 - val_loss: 0.4437 - val_accuracy: 0.7837\n",
      "Epoch 37/50\n",
      "2202/2202 [==============================] - 6s 3ms/step - loss: 0.3506 - accuracy: 0.8341 - val_loss: 0.4293 - val_accuracy: 0.7848\n",
      "Epoch 38/50\n",
      "2202/2202 [==============================] - 6s 3ms/step - loss: 0.3488 - accuracy: 0.8348 - val_loss: 0.4491 - val_accuracy: 0.7761\n",
      "Epoch 39/50\n",
      "2202/2202 [==============================] - 6s 3ms/step - loss: 0.3439 - accuracy: 0.8374 - val_loss: 0.4455 - val_accuracy: 0.7786\n",
      "Epoch 40/50\n",
      "2202/2202 [==============================] - 6s 3ms/step - loss: 0.3429 - accuracy: 0.8367 - val_loss: 0.4600 - val_accuracy: 0.7769\n",
      "Epoch 41/50\n",
      "2202/2202 [==============================] - 6s 3ms/step - loss: 0.3374 - accuracy: 0.8418 - val_loss: 0.4842 - val_accuracy: 0.7817\n",
      "Epoch 42/50\n",
      "2202/2202 [==============================] - 6s 3ms/step - loss: 0.3376 - accuracy: 0.8400 - val_loss: 0.5147 - val_accuracy: 0.7345\n",
      "Epoch 43/50\n",
      "2202/2202 [==============================] - 6s 3ms/step - loss: 0.3304 - accuracy: 0.8440 - val_loss: 0.4468 - val_accuracy: 0.7811\n",
      "Epoch 44/50\n",
      "2202/2202 [==============================] - 6s 3ms/step - loss: 0.3291 - accuracy: 0.8455 - val_loss: 0.4829 - val_accuracy: 0.7669\n",
      "Epoch 45/50\n",
      "2202/2202 [==============================] - 6s 3ms/step - loss: 0.3331 - accuracy: 0.8473 - val_loss: 0.4763 - val_accuracy: 0.7634\n",
      "Epoch 46/50\n",
      "2202/2202 [==============================] - 6s 3ms/step - loss: 0.3361 - accuracy: 0.8454 - val_loss: 0.4961 - val_accuracy: 0.7468\n",
      "Epoch 47/50\n",
      "2202/2202 [==============================] - 6s 3ms/step - loss: 0.3799 - accuracy: 0.8165 - val_loss: 0.4616 - val_accuracy: 0.7743\n",
      "Epoch 48/50\n",
      "2202/2202 [==============================] - 6s 3ms/step - loss: 0.3388 - accuracy: 0.8433 - val_loss: 0.4624 - val_accuracy: 0.7822\n",
      "Epoch 49/50\n",
      "2202/2202 [==============================] - 6s 3ms/step - loss: 0.3268 - accuracy: 0.8494 - val_loss: 0.4859 - val_accuracy: 0.7739\n",
      "Epoch 50/50\n",
      "2202/2202 [==============================] - 6s 3ms/step - loss: 0.3190 - accuracy: 0.8515 - val_loss: 0.5579 - val_accuracy: 0.7595\n"
     ]
    }
   ],
   "metadata": {
    "scrolled": true
   }
  },
  {
   "cell_type": "code",
   "execution_count": 76,
   "source": [
    "pd.DataFrame(history22.history).plot(figsize=(12,4))\n",
    "plt.grid(True)"
   ],
   "outputs": [
    {
     "output_type": "display_data",
     "data": {
      "image/png": "[encoded data removed]",
      "text/plain": [
       "<Figure size 864x288 with 1 Axes>"
      ]
     },
     "metadata": {
      "needs_background": "light"
     }
    }
   ],
   "metadata": {
    "scrolled": true
   }
  },
  {
   "cell_type": "code",
   "execution_count": 77,
   "source": [
    "y_pred_NN22 = (model22.predict(X_testNN) > 0.5).astype(\"int32\")\n",
    "print(\"Accuracy SCore\", accuracy_score(y_testNN, y_pred_NN22))\n",
    "print(\"F1 SCore\", f1_score(y_testNN, y_pred_NN22, average='weighted'))\n",
    "print(\"Precision Score\", precision_score(y_testNN, y_pred_NN22, average='weighted'))\n",
    "print(\"Recall SCore\", recall_score(y_testNN, y_pred_NN22, average='weighted'))\n",
    "print(\"Confusion Matrix \\n\", confusion_matrix(y_testNN, y_pred_NN22))"
   ],
   "outputs": [
    {
     "output_type": "stream",
     "name": "stdout",
     "text": [
      "Accuracy SCore 0.7583041654110938\n",
      "F1 SCore 0.747778200052855\n",
      "Precision Score 0.7676292989511411\n",
      "Recall SCore 0.7583041654110938\n",
      "Confusion Matrix \n",
      " [[ 9916  8079]\n",
      " [ 2348 22798]]\n"
     ]
    }
   ],
   "metadata": {
    "scrolled": true
   }
  },
  {
   "cell_type": "markdown",
   "source": [
    "#### 3"
   ],
   "metadata": {}
  },
  {
   "cell_type": "code",
   "execution_count": 78,
   "source": [
    "model3 = keras.models.Sequential([\n",
    "    keras.layers.Input(shape=(X_trainNN.shape[1:])),\n",
    "    keras.layers.Dense(300, activation=\"relu\"),\n",
    "    keras.layers.Dense(200, activation=\"relu\"),\n",
    "    keras.layers.Dense(100, activation=\"relu\"),\n",
    "    keras.layers.Dense(50, activation=\"relu\"),\n",
    "    keras.layers.Dense(10, activation=\"relu\"),\n",
    "    keras.layers.Dense(1, activation=\"sigmoid\")\n",
    "    ])\n",
    "\n",
    "model3.compile(loss = 'binary_crossentropy',\n",
    "              optimizer = 'adam',\n",
    "              metrics =  ['accuracy']\n",
    "             )\n",
    "\n",
    "history3 = model3.fit(X_trainNN, y_trainNN,\n",
    "                    epochs=50,\n",
    "                    batch_size=None,\n",
    "                    validation_split=0.3,\n",
    "                    callbacks=[keras.callbacks.EarlyStopping(patience=4)]\n",
    "         )"
   ],
   "outputs": [
    {
     "output_type": "stream",
     "name": "stdout",
     "text": [
      "Epoch 1/50\n",
      "2202/2202 [==============================] - 5s 2ms/step - loss: 0.4743 - accuracy: 0.7526 - val_loss: 0.4150 - val_accuracy: 0.7899\n",
      "Epoch 2/50\n",
      "2202/2202 [==============================] - 4s 2ms/step - loss: 0.4039 - accuracy: 0.7977 - val_loss: 0.4170 - val_accuracy: 0.7894\n",
      "Epoch 3/50\n",
      "2202/2202 [==============================] - 4s 2ms/step - loss: 0.3764 - accuracy: 0.8155 - val_loss: 0.4202 - val_accuracy: 0.7905\n",
      "Epoch 4/50\n",
      "2202/2202 [==============================] - 4s 2ms/step - loss: 0.3413 - accuracy: 0.8358 - val_loss: 0.4369 - val_accuracy: 0.7883\n",
      "Epoch 5/50\n",
      "2202/2202 [==============================] - 4s 2ms/step - loss: 0.2937 - accuracy: 0.8608 - val_loss: 0.4658 - val_accuracy: 0.7826\n"
     ]
    }
   ],
   "metadata": {}
  },
  {
   "cell_type": "code",
   "execution_count": 79,
   "source": [
    "pd.DataFrame(history3.history).plot(figsize=(12,4))\n",
    "plt.grid(True)"
   ],
   "outputs": [
    {
     "output_type": "display_data",
     "data": {
      "image/png": "[encoded data removed]",
      "text/plain": [
       "<Figure size 864x288 with 1 Axes>"
      ]
     },
     "metadata": {
      "needs_background": "light"
     }
    }
   ],
   "metadata": {
    "scrolled": true
   }
  },
  {
   "cell_type": "code",
   "execution_count": 80,
   "source": [
    "y_pred_NN3 = (model3.predict(X_testNN) > 0.5).astype(\"int32\")\n",
    "print(\"Accuracy SCore\", accuracy_score(y_testNN, y_pred_NN3))\n",
    "print(\"F1 SCore\", f1_score(y_testNN, y_pred_NN3, average='weighted'))\n",
    "print(\"Precision Score\", precision_score(y_testNN, y_pred_NN3, average='weighted'))\n",
    "print(\"Recall SCore\", recall_score(y_testNN, y_pred_NN3, average='weighted'))\n",
    "print(\"Confusion Matrix \\n\", confusion_matrix(y_testNN, y_pred_NN3))"
   ],
   "outputs": [
    {
     "output_type": "stream",
     "name": "stdout",
     "text": [
      "Accuracy SCore 0.7815998701930877\n",
      "F1 SCore 0.7814567353679714\n",
      "Precision Score 0.7813359455686191\n",
      "Recall SCore 0.7815998701930877\n",
      "Confusion Matrix \n",
      " [[13203  4792]\n",
      " [ 4630 20516]]\n"
     ]
    }
   ],
   "metadata": {}
  },
  {
   "cell_type": "markdown",
   "source": [
    "#### 4"
   ],
   "metadata": {}
  },
  {
   "cell_type": "code",
   "execution_count": 81,
   "source": [
    "model4 = keras.models.Sequential([\n",
    "    keras.layers.Input(shape=(X_trainNN.shape[1:])),\n",
    "    keras.layers.Dense(300, activation=\"relu\"),\n",
    "    keras.layers.Dense(200, activation=\"relu\"),\n",
    "    keras.layers.Dense(100, activation=\"relu\"),\n",
    "    keras.layers.Dense(50, activation=\"relu\"),\n",
    "    keras.layers.Dense(10, activation=\"relu\"),\n",
    "    keras.layers.Dense(1, activation=\"sigmoid\")\n",
    "    ])\n",
    "\n",
    "model4.compile(loss = 'binary_crossentropy',\n",
    "              optimizer = keras.optimizers.SGD(lr=1e-3),\n",
    "              metrics =  ['accuracy']\n",
    "             )\n",
    "\n",
    "history4 = model4.fit(X_trainNN, y_trainNN,\n",
    "                    epochs=50,\n",
    "                    batch_size=None,\n",
    "                    validation_split=0.3,\n",
    "                    callbacks=[keras.callbacks.EarlyStopping(patience=4)]\n",
    "         )"
   ],
   "outputs": [
    {
     "output_type": "stream",
     "name": "stdout",
     "text": [
      "Epoch 1/50\n",
      "2202/2202 [==============================] - 4s 2ms/step - loss: 0.6799 - accuracy: 0.6118 - val_loss: 0.6613 - val_accuracy: 0.6171\n",
      "Epoch 2/50\n",
      "2202/2202 [==============================] - 4s 2ms/step - loss: 0.6568 - accuracy: 0.6216 - val_loss: 0.6458 - val_accuracy: 0.6393\n",
      "Epoch 3/50\n",
      "2202/2202 [==============================] - 4s 2ms/step - loss: 0.6436 - accuracy: 0.6447 - val_loss: 0.6349 - val_accuracy: 0.6528\n",
      "Epoch 4/50\n",
      "2202/2202 [==============================] - 4s 2ms/step - loss: 0.6329 - accuracy: 0.6536 - val_loss: 0.6269 - val_accuracy: 0.6572\n",
      "Epoch 5/50\n",
      "2202/2202 [==============================] - 4s 2ms/step - loss: 0.6257 - accuracy: 0.6579 - val_loss: 0.6189 - val_accuracy: 0.6626\n",
      "Epoch 6/50\n",
      "2202/2202 [==============================] - 4s 2ms/step - loss: 0.6201 - accuracy: 0.6586 - val_loss: 0.6095 - val_accuracy: 0.6689\n",
      "Epoch 7/50\n",
      "2202/2202 [==============================] - 4s 2ms/step - loss: 0.6063 - accuracy: 0.6716 - val_loss: 0.5973 - val_accuracy: 0.6800\n",
      "Epoch 8/50\n",
      "2202/2202 [==============================] - 4s 2ms/step - loss: 0.5943 - accuracy: 0.6804 - val_loss: 0.5804 - val_accuracy: 0.6949\n",
      "Epoch 9/50\n",
      "2202/2202 [==============================] - 4s 2ms/step - loss: 0.5746 - accuracy: 0.7016 - val_loss: 0.5576 - val_accuracy: 0.7133\n",
      "Epoch 10/50\n",
      "2202/2202 [==============================] - 4s 2ms/step - loss: 0.5527 - accuracy: 0.7159 - val_loss: 0.5311 - val_accuracy: 0.7281\n",
      "Epoch 11/50\n",
      "2202/2202 [==============================] - 4s 2ms/step - loss: 0.5203 - accuracy: 0.7364 - val_loss: 0.5044 - val_accuracy: 0.7436\n",
      "Epoch 12/50\n",
      "2202/2202 [==============================] - 4s 2ms/step - loss: 0.4956 - accuracy: 0.7510 - val_loss: 0.4817 - val_accuracy: 0.7564\n",
      "Epoch 13/50\n",
      "2202/2202 [==============================] - 4s 2ms/step - loss: 0.4801 - accuracy: 0.7573 - val_loss: 0.4681 - val_accuracy: 0.7629\n",
      "Epoch 14/50\n",
      "2202/2202 [==============================] - 4s 2ms/step - loss: 0.4615 - accuracy: 0.7673 - val_loss: 0.4570 - val_accuracy: 0.7680\n",
      "Epoch 15/50\n",
      "2202/2202 [==============================] - 4s 2ms/step - loss: 0.4521 - accuracy: 0.7735 - val_loss: 0.4540 - val_accuracy: 0.7712\n",
      "Epoch 16/50\n",
      "2202/2202 [==============================] - 4s 2ms/step - loss: 0.4447 - accuracy: 0.7769 - val_loss: 0.4469 - val_accuracy: 0.7744\n",
      "Epoch 17/50\n",
      "2202/2202 [==============================] - 4s 2ms/step - loss: 0.4399 - accuracy: 0.7794 - val_loss: 0.4429 - val_accuracy: 0.7764\n",
      "Epoch 18/50\n",
      "2202/2202 [==============================] - 4s 2ms/step - loss: 0.4347 - accuracy: 0.7789 - val_loss: 0.4366 - val_accuracy: 0.7782\n",
      "Epoch 19/50\n",
      "2202/2202 [==============================] - 4s 2ms/step - loss: 0.4279 - accuracy: 0.7835 - val_loss: 0.4359 - val_accuracy: 0.7785\n",
      "Epoch 20/50\n",
      "2202/2202 [==============================] - 4s 2ms/step - loss: 0.4234 - accuracy: 0.7880 - val_loss: 0.4341 - val_accuracy: 0.7809\n",
      "Epoch 21/50\n",
      "2202/2202 [==============================] - 4s 2ms/step - loss: 0.4191 - accuracy: 0.7881 - val_loss: 0.4320 - val_accuracy: 0.7821\n",
      "Epoch 22/50\n",
      "2202/2202 [==============================] - 4s 2ms/step - loss: 0.4224 - accuracy: 0.7872 - val_loss: 0.4304 - val_accuracy: 0.7808\n",
      "Epoch 23/50\n",
      "2202/2202 [==============================] - 4s 2ms/step - loss: 0.4180 - accuracy: 0.7893 - val_loss: 0.4289 - val_accuracy: 0.7796\n",
      "Epoch 24/50\n",
      "2202/2202 [==============================] - 4s 2ms/step - loss: 0.4141 - accuracy: 0.7907 - val_loss: 0.4263 - val_accuracy: 0.7820\n",
      "Epoch 25/50\n",
      "2202/2202 [==============================] - 4s 2ms/step - loss: 0.4138 - accuracy: 0.7904 - val_loss: 0.4248 - val_accuracy: 0.7835\n",
      "Epoch 26/50\n",
      "2202/2202 [==============================] - 4s 2ms/step - loss: 0.4155 - accuracy: 0.7916 - val_loss: 1.0684 - val_accuracy: 0.6400\n",
      "Epoch 27/50\n",
      "2202/2202 [==============================] - 4s 2ms/step - loss: 0.6001 - accuracy: 0.7210 - val_loss: 0.4641 - val_accuracy: 0.7611\n",
      "Epoch 28/50\n",
      "2202/2202 [==============================] - 4s 2ms/step - loss: 0.4461 - accuracy: 0.7741 - val_loss: 0.4401 - val_accuracy: 0.7782\n",
      "Epoch 29/50\n",
      "2202/2202 [==============================] - 4s 2ms/step - loss: 0.4270 - accuracy: 0.7870 - val_loss: 0.4311 - val_accuracy: 0.7820\n"
     ]
    }
   ],
   "metadata": {
    "scrolled": true
   }
  },
  {
   "cell_type": "code",
   "execution_count": 82,
   "source": [
    "pd.DataFrame(history4.history).plot(figsize=(12,4))\n",
    "plt.grid(True)"
   ],
   "outputs": [
    {
     "output_type": "display_data",
     "data": {
      "image/png": "[encoded data removed]",
      "text/plain": [
       "<Figure size 864x288 with 1 Axes>"
      ]
     },
     "metadata": {
      "needs_background": "light"
     }
    }
   ],
   "metadata": {
    "scrolled": false
   }
  },
  {
   "cell_type": "code",
   "execution_count": 83,
   "source": [
    "y_pred_NN4 = (model4.predict(X_testNN) > 0.5).astype(\"int32\")\n",
    "print(\"Accuracy SCore\", accuracy_score(y_testNN, y_pred_NN4))\n",
    "print(\"F1 SCore\", f1_score(y_testNN, y_pred_NN4, average='weighted'))\n",
    "print(\"Precision Score\", precision_score(y_testNN, y_pred_NN4, average='weighted'))\n",
    "print(\"Recall SCore\", recall_score(y_testNN, y_pred_NN4, average='weighted'))\n",
    "print(\"Confusion Matrix \\n\", confusion_matrix(y_testNN, y_pred_NN4))"
   ],
   "outputs": [
    {
     "output_type": "stream",
     "name": "stdout",
     "text": [
      "Accuracy SCore 0.7816925894161006\n",
      "F1 SCore 0.7823280086625124\n",
      "Precision Score 0.7835589602837857\n",
      "Recall SCore 0.7816925894161006\n",
      "Confusion Matrix \n",
      " [[13706  4289]\n",
      " [ 5129 20017]]\n"
     ]
    }
   ],
   "metadata": {}
  },
  {
   "cell_type": "markdown",
   "source": [
    "#### 5"
   ],
   "metadata": {}
  },
  {
   "cell_type": "code",
   "execution_count": 72,
   "source": [
    "model5 = keras.models.Sequential([\n",
    "    keras.layers.Input(shape=(X_trainNN.shape[1:])),\n",
    "    keras.layers.BatchNormalization(),\n",
    "    keras.layers.Dense(300, activation=\"relu\"),\n",
    "    keras.layers.BatchNormalization(),\n",
    "    keras.layers.Dense(200, activation=\"relu\"),\n",
    "    keras.layers.BatchNormalization(),\n",
    "    keras.layers.Dense(100, activation=\"relu\"),\n",
    "    keras.layers.BatchNormalization(),\n",
    "    keras.layers.Dense(50, activation=\"relu\"),\n",
    "    keras.layers.BatchNormalization(),\n",
    "    keras.layers.Dense(10, activation=\"relu\"),\n",
    "    keras.layers.BatchNormalization(),\n",
    "    keras.layers.Dense(1, activation=\"sigmoid\")\n",
    "    ])\n",
    "\n",
    "model5.compile(loss = 'binary_crossentropy',\n",
    "              optimizer = 'sgd',\n",
    "              metrics =  ['accuracy']\n",
    "             )\n",
    "\n",
    "history5 = model5.fit(X_trainNN, y_trainNN,\n",
    "                    epochs=50,\n",
    "                    batch_size=None,\n",
    "                    validation_split=0.3,\n",
    "                    callbacks=[keras.callbacks.EarlyStopping(patience=4)]\n",
    "         )"
   ],
   "outputs": [
    {
     "output_type": "stream",
     "name": "stdout",
     "text": [
      "Epoch 1/50\n",
      "2202/2202 [==============================] - 7s 3ms/step - loss: 0.6368 - accuracy: 0.6488 - val_loss: 0.4837 - val_accuracy: 0.7513\n",
      "Epoch 2/50\n",
      "2202/2202 [==============================] - 6s 3ms/step - loss: 0.4705 - accuracy: 0.7674 - val_loss: 0.4683 - val_accuracy: 0.7590\n",
      "Epoch 3/50\n",
      "2202/2202 [==============================] - 6s 3ms/step - loss: 0.4313 - accuracy: 0.7894 - val_loss: 0.4775 - val_accuracy: 0.7568\n",
      "Epoch 4/50\n",
      "2202/2202 [==============================] - 6s 3ms/step - loss: 0.4051 - accuracy: 0.8009 - val_loss: 0.4865 - val_accuracy: 0.7563\n",
      "Epoch 5/50\n",
      "2202/2202 [==============================] - 6s 3ms/step - loss: 0.3835 - accuracy: 0.8165 - val_loss: 0.4993 - val_accuracy: 0.7566\n",
      "Epoch 6/50\n",
      "2202/2202 [==============================] - 6s 3ms/step - loss: 0.3651 - accuracy: 0.8270 - val_loss: 0.5154 - val_accuracy: 0.7570\n"
     ]
    }
   ],
   "metadata": {
    "scrolled": true
   }
  },
  {
   "cell_type": "code",
   "execution_count": 73,
   "source": [
    "pd.DataFrame(history5.history).plot(figsize=(12,4))\n",
    "plt.grid(True)"
   ],
   "outputs": [
    {
     "output_type": "display_data",
     "data": {
      "image/png": "[encoded data removed]",
      "text/plain": [
       "<Figure size 864x288 with 1 Axes>"
      ]
     },
     "metadata": {
      "needs_background": "light"
     }
    }
   ],
   "metadata": {
    "scrolled": false
   }
  },
  {
   "cell_type": "code",
   "execution_count": 74,
   "source": [
    "y_pred_NN4 = (model4.predict(X_testNN) > 0.5).astype(\"int32\")\n",
    "print(\"Accuracy SCore\", accuracy_score(y_testNN, y_pred_NN4))\n",
    "print(\"F1 SCore\", f1_score(y_testNN, y_pred_NN4, average='weighted'))\n",
    "print(\"Precision Score\", precision_score(y_testNN, y_pred_NN4, average='weighted'))\n",
    "print(\"Recall SCore\", recall_score(y_testNN, y_pred_NN4, average='weighted'))\n",
    "print(\"Confusion Matrix \\n\", confusion_matrix(y_testNN, y_pred_NN4))"
   ],
   "outputs": [
    {
     "output_type": "stream",
     "name": "stdout",
     "text": [
      "Accuracy SCore 0.7793282492292715\n",
      "F1 SCore 0.7788579348770119\n",
      "Precision Score 0.7786023281015044\n",
      "Recall SCore 0.7793282492292715\n",
      "Confusion Matrix \n",
      " [[12984  5011]\n",
      " [ 4509 20637]]\n"
     ]
    }
   ],
   "metadata": {}
  },
  {
   "cell_type": "markdown",
   "source": [
    "#### 6"
   ],
   "metadata": {}
  },
  {
   "cell_type": "code",
   "execution_count": 35,
   "source": [
    "model6 = keras.models.Sequential([\n",
    "    keras.layers.Input(shape=(X_trainNN.shape[1:])),\n",
    "    keras.layers.Dense(200, kernel_initializer=\"he_normal\"),\n",
    "    keras.layers.LeakyReLU(),\n",
    "    keras.layers.Dense(300, kernel_initializer=\"he_normal\"),\n",
    "    keras.layers.LeakyReLU(),\n",
    "    keras.layers.Dense(200, kernel_initializer=\"he_normal\"),\n",
    "    keras.layers.LeakyReLU(),\n",
    "    keras.layers.Dense(100, kernel_initializer=\"he_normal\"),\n",
    "    keras.layers.LeakyReLU(),\n",
    "    keras.layers.Dense(50, kernel_initializer=\"he_normal\"),\n",
    "    keras.layers.LeakyReLU(),\n",
    "    keras.layers.Dense(10, kernel_initializer=\"he_normal\"),\n",
    "    keras.layers.LeakyReLU(),\n",
    "    keras.layers.Dense(1, activation=\"sigmoid\")\n",
    "    ])\n",
    "\n",
    "model6.compile(loss = 'binary_crossentropy',\n",
    "              optimizer = 'SGD',\n",
    "              metrics =  ['accuracy']\n",
    "             )\n",
    "\n",
    "history6 = model6.fit(X_trainNN, y_trainNN,\n",
    "                        epochs=50,\n",
    "                        batch_size=None,\n",
    "                        validation_split=0.3,\n",
    "                        callbacks=[keras.callbacks.EarlyStopping(patience=3)]\n",
    "         )"
   ],
   "outputs": [
    {
     "output_type": "stream",
     "name": "stdout",
     "text": [
      "Epoch 1/50\n",
      "2202/2202 [==============================] - 5s 2ms/step - loss: 0.5953 - accuracy: 0.6738 - val_loss: 0.4598 - val_accuracy: 0.7693\n",
      "Epoch 2/50\n",
      "2202/2202 [==============================] - 4s 2ms/step - loss: 0.4648 - accuracy: 0.7652 - val_loss: 0.4397 - val_accuracy: 0.7771\n",
      "Epoch 3/50\n",
      "2202/2202 [==============================] - 4s 2ms/step - loss: 0.4356 - accuracy: 0.7790 - val_loss: 0.4354 - val_accuracy: 0.7773\n",
      "Epoch 4/50\n",
      "2202/2202 [==============================] - 4s 2ms/step - loss: 0.4574 - accuracy: 0.7723 - val_loss: 0.5508 - val_accuracy: 0.6921\n",
      "Epoch 5/50\n",
      "2202/2202 [==============================] - 4s 2ms/step - loss: 0.4969 - accuracy: 0.7483 - val_loss: 0.4420 - val_accuracy: 0.7788\n",
      "Epoch 6/50\n",
      "2202/2202 [==============================] - 4s 2ms/step - loss: 0.4347 - accuracy: 0.7837 - val_loss: 0.4262 - val_accuracy: 0.7854\n",
      "Epoch 7/50\n",
      "2202/2202 [==============================] - 4s 2ms/step - loss: 0.4165 - accuracy: 0.7935 - val_loss: 0.4335 - val_accuracy: 0.7801\n",
      "Epoch 8/50\n",
      "2202/2202 [==============================] - 4s 2ms/step - loss: 0.4160 - accuracy: 0.7907 - val_loss: 0.4258 - val_accuracy: 0.7865\n",
      "Epoch 9/50\n",
      "2202/2202 [==============================] - 4s 2ms/step - loss: 0.4091 - accuracy: 0.7967 - val_loss: 0.4248 - val_accuracy: 0.7849\n",
      "Epoch 10/50\n",
      "2202/2202 [==============================] - 4s 2ms/step - loss: 0.4095 - accuracy: 0.7963 - val_loss: 0.4224 - val_accuracy: 0.7886\n",
      "Epoch 11/50\n",
      "2202/2202 [==============================] - 4s 2ms/step - loss: 0.4043 - accuracy: 0.7997 - val_loss: 0.4279 - val_accuracy: 0.7856\n",
      "Epoch 12/50\n",
      "2202/2202 [==============================] - 4s 2ms/step - loss: 0.4043 - accuracy: 0.7983 - val_loss: 0.4159 - val_accuracy: 0.7904\n",
      "Epoch 13/50\n",
      "2202/2202 [==============================] - 4s 2ms/step - loss: 0.4030 - accuracy: 0.7997 - val_loss: 0.4204 - val_accuracy: 0.7903\n",
      "Epoch 14/50\n",
      "2202/2202 [==============================] - 4s 2ms/step - loss: 0.3965 - accuracy: 0.8049 - val_loss: 0.4215 - val_accuracy: 0.7861\n",
      "Epoch 15/50\n",
      "2202/2202 [==============================] - 4s 2ms/step - loss: 0.3967 - accuracy: 0.8028 - val_loss: 0.4225 - val_accuracy: 0.7864\n"
     ]
    }
   ],
   "metadata": {
    "scrolled": true
   }
  },
  {
   "cell_type": "code",
   "execution_count": 36,
   "source": [
    "pd.DataFrame(history6.history).plot(figsize=(12,4))\n",
    "plt.grid(True)"
   ],
   "outputs": [
    {
     "output_type": "display_data",
     "data": {
      "image/png": "[encoded data removed]",
      "text/plain": [
       "<Figure size 864x288 with 1 Axes>"
      ]
     },
     "metadata": {
      "needs_background": "light"
     }
    }
   ],
   "metadata": {
    "scrolled": true
   }
  },
  {
   "cell_type": "code",
   "execution_count": 37,
   "source": [
    "y_pred_NN6 = (model6.predict(X_testNN) > 0.5).astype(\"int32\")\n",
    "print(\"Accuracy SCore\", accuracy_score(y_testNN, y_pred_NN6))\n",
    "print(\"F1 SCore\", f1_score(y_testNN, y_pred_NN6, average='weighted'))\n",
    "print(\"Precision Score\", precision_score(y_testNN, y_pred_NN6, average='weighted'))\n",
    "print(\"Recall SCore\", recall_score(y_testNN, y_pred_NN6, average='weighted'))\n",
    "print(\"Confusion Matrix \\n\", confusion_matrix(y_testNN, y_pred_NN6))"
   ],
   "outputs": [
    {
     "output_type": "stream",
     "name": "stdout",
     "text": [
      "Accuracy SCore 0.7864212697897591\n",
      "F1 SCore 0.7839525877833969\n",
      "Precision Score 0.7857344122362687\n",
      "Recall SCore 0.7864212697897591\n",
      "Confusion Matrix \n",
      " [[12291  5704]\n",
      " [ 3510 21636]]\n"
     ]
    }
   ],
   "metadata": {
    "scrolled": false
   }
  },
  {
   "cell_type": "code",
   "execution_count": null,
   "source": [],
   "outputs": [],
   "metadata": {}
  }
 ],
 "metadata": {
  "kernelspec": {
   "display_name": "Python 3",
   "language": "python",
   "name": "python3"
  },
  "language_info": {
   "codemirror_mode": {
    "name": "ipython",
    "version": 3
   },
   "file_extension": ".py",
   "mimetype": "text/x-python",
   "name": "python",
   "nbconvert_exporter": "python",
   "pygments_lexer": "ipython3",
   "version": "3.8.3"
  }
 },
 "nbformat": 4,
 "nbformat_minor": 4
}